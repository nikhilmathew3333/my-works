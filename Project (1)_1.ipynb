{
 "cells": [
  {
   "cell_type": "markdown",
   "metadata": {
    "id": "rw23nCtv-avE"
   },
   "source": [
    "# **1.Data understanding and EDA**"
   ]
  },
  {
   "cell_type": "code",
   "execution_count": 12,
   "metadata": {
    "id": "nzY1_pymm-Jf"
   },
   "outputs": [],
   "source": [
    "# Import Libraries\n",
    "import numpy as np\n",
    "import pandas as pd\n",
    "import seaborn as sns\n",
    "import matplotlib.pyplot as plt"
   ]
  },
  {
   "cell_type": "code",
   "execution_count": 13,
   "metadata": {
    "id": "_qn5niA7po9r"
   },
   "outputs": [],
   "source": [
    "data=pd.read_csv('Datafiniti_Womens_Shoes.csv')"
   ]
  },
  {
   "cell_type": "code",
   "execution_count": 14,
   "metadata": {
    "colab": {
     "base_uri": "https://localhost:8080/",
     "height": 738
    },
    "id": "oyzXBdZyppJJ",
    "outputId": "a597bbfe-9bd2-4b43-9c0b-54428476ee04"
   },
   "outputs": [
    {
     "data": {
      "text/html": [
       "<div>\n",
       "<style scoped>\n",
       "    .dataframe tbody tr th:only-of-type {\n",
       "        vertical-align: middle;\n",
       "    }\n",
       "\n",
       "    .dataframe tbody tr th {\n",
       "        vertical-align: top;\n",
       "    }\n",
       "\n",
       "    .dataframe thead th {\n",
       "        text-align: right;\n",
       "    }\n",
       "</style>\n",
       "<table border=\"1\" class=\"dataframe\">\n",
       "  <thead>\n",
       "    <tr style=\"text-align: right;\">\n",
       "      <th></th>\n",
       "      <th>id</th>\n",
       "      <th>dateAdded</th>\n",
       "      <th>dateUpdated</th>\n",
       "      <th>asins</th>\n",
       "      <th>brand</th>\n",
       "      <th>categories</th>\n",
       "      <th>primaryCategories</th>\n",
       "      <th>colors</th>\n",
       "      <th>dimension</th>\n",
       "      <th>ean</th>\n",
       "      <th>...</th>\n",
       "      <th>prices.merchant</th>\n",
       "      <th>prices.offer</th>\n",
       "      <th>prices.returnPolicy</th>\n",
       "      <th>prices.shipping</th>\n",
       "      <th>prices.size</th>\n",
       "      <th>prices.sourceURLs</th>\n",
       "      <th>sizes</th>\n",
       "      <th>sourceURLs</th>\n",
       "      <th>upc</th>\n",
       "      <th>weight</th>\n",
       "    </tr>\n",
       "  </thead>\n",
       "  <tbody>\n",
       "    <tr>\n",
       "      <th>0</th>\n",
       "      <td>AVpfEf_hLJeJML431ueH</td>\n",
       "      <td>2015-05-04T12:13:08Z</td>\n",
       "      <td>2018-01-29T04:38:43Z</td>\n",
       "      <td>NaN</td>\n",
       "      <td>Naturalizer</td>\n",
       "      <td>Clothing,Shoes,Women's Shoes,All Women's Shoes...</td>\n",
       "      <td>Shoes</td>\n",
       "      <td>Silver,Cream Watercolor Floral</td>\n",
       "      <td>NaN</td>\n",
       "      <td>NaN</td>\n",
       "      <td>...</td>\n",
       "      <td>Overstock.com</td>\n",
       "      <td>NaN</td>\n",
       "      <td>NaN</td>\n",
       "      <td>NaN</td>\n",
       "      <td>S</td>\n",
       "      <td>https://www.overstock.com/Clothing-Shoes/Women...</td>\n",
       "      <td>6W,9W,7.5W,12W,8.5M,9N,9M,9.5M,10.5M,10W,8.5W,...</td>\n",
       "      <td>https://www.walmart.com/ip/Naturalizer-Danya-W...</td>\n",
       "      <td>017136472311</td>\n",
       "      <td>NaN</td>\n",
       "    </tr>\n",
       "    <tr>\n",
       "      <th>1</th>\n",
       "      <td>AVpi74XfLJeJML43qZAc</td>\n",
       "      <td>2017-01-27T01:23:39Z</td>\n",
       "      <td>2018-01-03T05:21:54Z</td>\n",
       "      <td>NaN</td>\n",
       "      <td>MUK LUKS</td>\n",
       "      <td>Clothing,Shoes,Women's Shoes,Women's Casual Sh...</td>\n",
       "      <td>Shoes</td>\n",
       "      <td>Grey</td>\n",
       "      <td>NaN</td>\n",
       "      <td>3.397705e+10</td>\n",
       "      <td>...</td>\n",
       "      <td>Walmart.com</td>\n",
       "      <td>NaN</td>\n",
       "      <td>NaN</td>\n",
       "      <td>Standard</td>\n",
       "      <td>6</td>\n",
       "      <td>https://www.walmart.com/ip/MUK-LUKS-Womens-Jan...</td>\n",
       "      <td>10,7,6,9,8</td>\n",
       "      <td>https://www.walmart.com/ip/MUK-LUKS-Womens-Jan...</td>\n",
       "      <td>033977045743</td>\n",
       "      <td>NaN</td>\n",
       "    </tr>\n",
       "    <tr>\n",
       "      <th>2</th>\n",
       "      <td>AVpi74XfLJeJML43qZAc</td>\n",
       "      <td>2017-01-27T01:23:39Z</td>\n",
       "      <td>2018-01-03T05:21:54Z</td>\n",
       "      <td>NaN</td>\n",
       "      <td>MUK LUKS</td>\n",
       "      <td>Clothing,Shoes,Women's Shoes,Women's Casual Sh...</td>\n",
       "      <td>Shoes</td>\n",
       "      <td>Grey</td>\n",
       "      <td>NaN</td>\n",
       "      <td>3.397705e+10</td>\n",
       "      <td>...</td>\n",
       "      <td>Slippers Dot Com</td>\n",
       "      <td>NaN</td>\n",
       "      <td>NaN</td>\n",
       "      <td>Value</td>\n",
       "      <td>6</td>\n",
       "      <td>https://www.walmart.com/ip/MUK-LUKS-Womens-Jan...</td>\n",
       "      <td>10,7,6,9,8</td>\n",
       "      <td>https://www.walmart.com/ip/MUK-LUKS-Womens-Jan...</td>\n",
       "      <td>033977045743</td>\n",
       "      <td>NaN</td>\n",
       "    </tr>\n",
       "    <tr>\n",
       "      <th>3</th>\n",
       "      <td>AVpjXyCc1cnluZ0-V-Gj</td>\n",
       "      <td>2017-01-27T01:25:56Z</td>\n",
       "      <td>2018-01-04T11:52:35Z</td>\n",
       "      <td>NaN</td>\n",
       "      <td>MUK LUKS</td>\n",
       "      <td>Clothing,Shoes,Women's Shoes,All Women's Shoes...</td>\n",
       "      <td>Shoes,Shoes</td>\n",
       "      <td>Black</td>\n",
       "      <td>6.0 in x 6.0 in x 1.0 in</td>\n",
       "      <td>3.397705e+10</td>\n",
       "      <td>...</td>\n",
       "      <td>Slippers Dot Com</td>\n",
       "      <td>NaN</td>\n",
       "      <td>NaN</td>\n",
       "      <td>Value</td>\n",
       "      <td>6</td>\n",
       "      <td>https://www.walmart.com/ip/MUK-LUKS-Womens-Daw...</td>\n",
       "      <td>10,7,6,9,8</td>\n",
       "      <td>https://www.walmart.com/ip/MUK-LUKS-Womens-Daw...</td>\n",
       "      <td>033977045903</td>\n",
       "      <td>NaN</td>\n",
       "    </tr>\n",
       "    <tr>\n",
       "      <th>4</th>\n",
       "      <td>AVphGKLPilAPnD_x1Nrm</td>\n",
       "      <td>2017-01-27T01:25:56Z</td>\n",
       "      <td>2018-01-18T03:55:18Z</td>\n",
       "      <td>NaN</td>\n",
       "      <td>MUK LUKS</td>\n",
       "      <td>Clothing,Shoes,Women's Shoes,All Women's Shoes...</td>\n",
       "      <td>Shoes</td>\n",
       "      <td>Grey</td>\n",
       "      <td>6.0 in x 6.0 in x 1.0 in</td>\n",
       "      <td>3.397705e+10</td>\n",
       "      <td>...</td>\n",
       "      <td>Walmart.com</td>\n",
       "      <td>NaN</td>\n",
       "      <td>NaN</td>\n",
       "      <td>Expedited</td>\n",
       "      <td>6</td>\n",
       "      <td>https://www.walmart.com/ip/MUK-LUKS-Womens-Daw...</td>\n",
       "      <td>10,7,6,9,8</td>\n",
       "      <td>https://www.walmart.com/ip/MUK-LUKS-Womens-Daw...</td>\n",
       "      <td>033977045958</td>\n",
       "      <td>NaN</td>\n",
       "    </tr>\n",
       "  </tbody>\n",
       "</table>\n",
       "<p>5 rows × 34 columns</p>\n",
       "</div>"
      ],
      "text/plain": [
       "                     id             dateAdded           dateUpdated asins  \\\n",
       "0  AVpfEf_hLJeJML431ueH  2015-05-04T12:13:08Z  2018-01-29T04:38:43Z   NaN   \n",
       "1  AVpi74XfLJeJML43qZAc  2017-01-27T01:23:39Z  2018-01-03T05:21:54Z   NaN   \n",
       "2  AVpi74XfLJeJML43qZAc  2017-01-27T01:23:39Z  2018-01-03T05:21:54Z   NaN   \n",
       "3  AVpjXyCc1cnluZ0-V-Gj  2017-01-27T01:25:56Z  2018-01-04T11:52:35Z   NaN   \n",
       "4  AVphGKLPilAPnD_x1Nrm  2017-01-27T01:25:56Z  2018-01-18T03:55:18Z   NaN   \n",
       "\n",
       "         brand                                         categories  \\\n",
       "0  Naturalizer  Clothing,Shoes,Women's Shoes,All Women's Shoes...   \n",
       "1     MUK LUKS  Clothing,Shoes,Women's Shoes,Women's Casual Sh...   \n",
       "2     MUK LUKS  Clothing,Shoes,Women's Shoes,Women's Casual Sh...   \n",
       "3     MUK LUKS  Clothing,Shoes,Women's Shoes,All Women's Shoes...   \n",
       "4     MUK LUKS  Clothing,Shoes,Women's Shoes,All Women's Shoes...   \n",
       "\n",
       "  primaryCategories                          colors                 dimension  \\\n",
       "0             Shoes  Silver,Cream Watercolor Floral                       NaN   \n",
       "1             Shoes                            Grey                       NaN   \n",
       "2             Shoes                            Grey                       NaN   \n",
       "3       Shoes,Shoes                           Black  6.0 in x 6.0 in x 1.0 in   \n",
       "4             Shoes                            Grey  6.0 in x 6.0 in x 1.0 in   \n",
       "\n",
       "            ean  ...   prices.merchant prices.offer prices.returnPolicy  \\\n",
       "0           NaN  ...     Overstock.com          NaN                 NaN   \n",
       "1  3.397705e+10  ...       Walmart.com          NaN                 NaN   \n",
       "2  3.397705e+10  ...  Slippers Dot Com          NaN                 NaN   \n",
       "3  3.397705e+10  ...  Slippers Dot Com          NaN                 NaN   \n",
       "4  3.397705e+10  ...       Walmart.com          NaN                 NaN   \n",
       "\n",
       "  prices.shipping prices.size  \\\n",
       "0             NaN           S   \n",
       "1        Standard           6   \n",
       "2           Value           6   \n",
       "3           Value           6   \n",
       "4       Expedited           6   \n",
       "\n",
       "                                   prices.sourceURLs  \\\n",
       "0  https://www.overstock.com/Clothing-Shoes/Women...   \n",
       "1  https://www.walmart.com/ip/MUK-LUKS-Womens-Jan...   \n",
       "2  https://www.walmart.com/ip/MUK-LUKS-Womens-Jan...   \n",
       "3  https://www.walmart.com/ip/MUK-LUKS-Womens-Daw...   \n",
       "4  https://www.walmart.com/ip/MUK-LUKS-Womens-Daw...   \n",
       "\n",
       "                                               sizes  \\\n",
       "0  6W,9W,7.5W,12W,8.5M,9N,9M,9.5M,10.5M,10W,8.5W,...   \n",
       "1                                         10,7,6,9,8   \n",
       "2                                         10,7,6,9,8   \n",
       "3                                         10,7,6,9,8   \n",
       "4                                         10,7,6,9,8   \n",
       "\n",
       "                                          sourceURLs           upc weight  \n",
       "0  https://www.walmart.com/ip/Naturalizer-Danya-W...  017136472311    NaN  \n",
       "1  https://www.walmart.com/ip/MUK-LUKS-Womens-Jan...  033977045743    NaN  \n",
       "2  https://www.walmart.com/ip/MUK-LUKS-Womens-Jan...  033977045743    NaN  \n",
       "3  https://www.walmart.com/ip/MUK-LUKS-Womens-Daw...  033977045903    NaN  \n",
       "4  https://www.walmart.com/ip/MUK-LUKS-Womens-Daw...  033977045958    NaN  \n",
       "\n",
       "[5 rows x 34 columns]"
      ]
     },
     "execution_count": 14,
     "metadata": {},
     "output_type": "execute_result"
    }
   ],
   "source": [
    "data.head()"
   ]
  },
  {
   "cell_type": "code",
   "execution_count": 15,
   "metadata": {
    "colab": {
     "base_uri": "https://localhost:8080/"
    },
    "id": "3phoIvTUQ4Dx",
    "outputId": "c0330d22-f5f3-4d51-f4e1-b3baaa2bdf22"
   },
   "outputs": [
    {
     "name": "stderr",
     "output_type": "stream",
     "text": [
      "<ipython-input-15-7a0f35112492>:1: FutureWarning: The default value of regex will change from True to False in a future version. In addition, single character regular expressions will*not* be treated as literal strings when regex=True.\n",
      "  data.columns = data.columns.str.replace('.','_')\n"
     ]
    }
   ],
   "source": [
    "data.columns = data.columns.str.replace('.','_')"
   ]
  },
  {
   "cell_type": "code",
   "execution_count": 16,
   "metadata": {
    "colab": {
     "base_uri": "https://localhost:8080/",
     "height": 738
    },
    "id": "gdycxCFDRAeZ",
    "outputId": "05573e5c-ac02-4e44-83fc-03e7b3a4306b"
   },
   "outputs": [
    {
     "data": {
      "text/html": [
       "<div>\n",
       "<style scoped>\n",
       "    .dataframe tbody tr th:only-of-type {\n",
       "        vertical-align: middle;\n",
       "    }\n",
       "\n",
       "    .dataframe tbody tr th {\n",
       "        vertical-align: top;\n",
       "    }\n",
       "\n",
       "    .dataframe thead th {\n",
       "        text-align: right;\n",
       "    }\n",
       "</style>\n",
       "<table border=\"1\" class=\"dataframe\">\n",
       "  <thead>\n",
       "    <tr style=\"text-align: right;\">\n",
       "      <th></th>\n",
       "      <th>id</th>\n",
       "      <th>dateAdded</th>\n",
       "      <th>dateUpdated</th>\n",
       "      <th>asins</th>\n",
       "      <th>brand</th>\n",
       "      <th>categories</th>\n",
       "      <th>primaryCategories</th>\n",
       "      <th>colors</th>\n",
       "      <th>dimension</th>\n",
       "      <th>ean</th>\n",
       "      <th>...</th>\n",
       "      <th>prices_merchant</th>\n",
       "      <th>prices_offer</th>\n",
       "      <th>prices_returnPolicy</th>\n",
       "      <th>prices_shipping</th>\n",
       "      <th>prices_size</th>\n",
       "      <th>prices_sourceURLs</th>\n",
       "      <th>sizes</th>\n",
       "      <th>sourceURLs</th>\n",
       "      <th>upc</th>\n",
       "      <th>weight</th>\n",
       "    </tr>\n",
       "  </thead>\n",
       "  <tbody>\n",
       "    <tr>\n",
       "      <th>0</th>\n",
       "      <td>AVpfEf_hLJeJML431ueH</td>\n",
       "      <td>2015-05-04T12:13:08Z</td>\n",
       "      <td>2018-01-29T04:38:43Z</td>\n",
       "      <td>NaN</td>\n",
       "      <td>Naturalizer</td>\n",
       "      <td>Clothing,Shoes,Women's Shoes,All Women's Shoes...</td>\n",
       "      <td>Shoes</td>\n",
       "      <td>Silver,Cream Watercolor Floral</td>\n",
       "      <td>NaN</td>\n",
       "      <td>NaN</td>\n",
       "      <td>...</td>\n",
       "      <td>Overstock.com</td>\n",
       "      <td>NaN</td>\n",
       "      <td>NaN</td>\n",
       "      <td>NaN</td>\n",
       "      <td>S</td>\n",
       "      <td>https://www.overstock.com/Clothing-Shoes/Women...</td>\n",
       "      <td>6W,9W,7.5W,12W,8.5M,9N,9M,9.5M,10.5M,10W,8.5W,...</td>\n",
       "      <td>https://www.walmart.com/ip/Naturalizer-Danya-W...</td>\n",
       "      <td>017136472311</td>\n",
       "      <td>NaN</td>\n",
       "    </tr>\n",
       "    <tr>\n",
       "      <th>1</th>\n",
       "      <td>AVpi74XfLJeJML43qZAc</td>\n",
       "      <td>2017-01-27T01:23:39Z</td>\n",
       "      <td>2018-01-03T05:21:54Z</td>\n",
       "      <td>NaN</td>\n",
       "      <td>MUK LUKS</td>\n",
       "      <td>Clothing,Shoes,Women's Shoes,Women's Casual Sh...</td>\n",
       "      <td>Shoes</td>\n",
       "      <td>Grey</td>\n",
       "      <td>NaN</td>\n",
       "      <td>3.397705e+10</td>\n",
       "      <td>...</td>\n",
       "      <td>Walmart.com</td>\n",
       "      <td>NaN</td>\n",
       "      <td>NaN</td>\n",
       "      <td>Standard</td>\n",
       "      <td>6</td>\n",
       "      <td>https://www.walmart.com/ip/MUK-LUKS-Womens-Jan...</td>\n",
       "      <td>10,7,6,9,8</td>\n",
       "      <td>https://www.walmart.com/ip/MUK-LUKS-Womens-Jan...</td>\n",
       "      <td>033977045743</td>\n",
       "      <td>NaN</td>\n",
       "    </tr>\n",
       "    <tr>\n",
       "      <th>2</th>\n",
       "      <td>AVpi74XfLJeJML43qZAc</td>\n",
       "      <td>2017-01-27T01:23:39Z</td>\n",
       "      <td>2018-01-03T05:21:54Z</td>\n",
       "      <td>NaN</td>\n",
       "      <td>MUK LUKS</td>\n",
       "      <td>Clothing,Shoes,Women's Shoes,Women's Casual Sh...</td>\n",
       "      <td>Shoes</td>\n",
       "      <td>Grey</td>\n",
       "      <td>NaN</td>\n",
       "      <td>3.397705e+10</td>\n",
       "      <td>...</td>\n",
       "      <td>Slippers Dot Com</td>\n",
       "      <td>NaN</td>\n",
       "      <td>NaN</td>\n",
       "      <td>Value</td>\n",
       "      <td>6</td>\n",
       "      <td>https://www.walmart.com/ip/MUK-LUKS-Womens-Jan...</td>\n",
       "      <td>10,7,6,9,8</td>\n",
       "      <td>https://www.walmart.com/ip/MUK-LUKS-Womens-Jan...</td>\n",
       "      <td>033977045743</td>\n",
       "      <td>NaN</td>\n",
       "    </tr>\n",
       "    <tr>\n",
       "      <th>3</th>\n",
       "      <td>AVpjXyCc1cnluZ0-V-Gj</td>\n",
       "      <td>2017-01-27T01:25:56Z</td>\n",
       "      <td>2018-01-04T11:52:35Z</td>\n",
       "      <td>NaN</td>\n",
       "      <td>MUK LUKS</td>\n",
       "      <td>Clothing,Shoes,Women's Shoes,All Women's Shoes...</td>\n",
       "      <td>Shoes,Shoes</td>\n",
       "      <td>Black</td>\n",
       "      <td>6.0 in x 6.0 in x 1.0 in</td>\n",
       "      <td>3.397705e+10</td>\n",
       "      <td>...</td>\n",
       "      <td>Slippers Dot Com</td>\n",
       "      <td>NaN</td>\n",
       "      <td>NaN</td>\n",
       "      <td>Value</td>\n",
       "      <td>6</td>\n",
       "      <td>https://www.walmart.com/ip/MUK-LUKS-Womens-Daw...</td>\n",
       "      <td>10,7,6,9,8</td>\n",
       "      <td>https://www.walmart.com/ip/MUK-LUKS-Womens-Daw...</td>\n",
       "      <td>033977045903</td>\n",
       "      <td>NaN</td>\n",
       "    </tr>\n",
       "    <tr>\n",
       "      <th>4</th>\n",
       "      <td>AVphGKLPilAPnD_x1Nrm</td>\n",
       "      <td>2017-01-27T01:25:56Z</td>\n",
       "      <td>2018-01-18T03:55:18Z</td>\n",
       "      <td>NaN</td>\n",
       "      <td>MUK LUKS</td>\n",
       "      <td>Clothing,Shoes,Women's Shoes,All Women's Shoes...</td>\n",
       "      <td>Shoes</td>\n",
       "      <td>Grey</td>\n",
       "      <td>6.0 in x 6.0 in x 1.0 in</td>\n",
       "      <td>3.397705e+10</td>\n",
       "      <td>...</td>\n",
       "      <td>Walmart.com</td>\n",
       "      <td>NaN</td>\n",
       "      <td>NaN</td>\n",
       "      <td>Expedited</td>\n",
       "      <td>6</td>\n",
       "      <td>https://www.walmart.com/ip/MUK-LUKS-Womens-Daw...</td>\n",
       "      <td>10,7,6,9,8</td>\n",
       "      <td>https://www.walmart.com/ip/MUK-LUKS-Womens-Daw...</td>\n",
       "      <td>033977045958</td>\n",
       "      <td>NaN</td>\n",
       "    </tr>\n",
       "  </tbody>\n",
       "</table>\n",
       "<p>5 rows × 34 columns</p>\n",
       "</div>"
      ],
      "text/plain": [
       "                     id             dateAdded           dateUpdated asins  \\\n",
       "0  AVpfEf_hLJeJML431ueH  2015-05-04T12:13:08Z  2018-01-29T04:38:43Z   NaN   \n",
       "1  AVpi74XfLJeJML43qZAc  2017-01-27T01:23:39Z  2018-01-03T05:21:54Z   NaN   \n",
       "2  AVpi74XfLJeJML43qZAc  2017-01-27T01:23:39Z  2018-01-03T05:21:54Z   NaN   \n",
       "3  AVpjXyCc1cnluZ0-V-Gj  2017-01-27T01:25:56Z  2018-01-04T11:52:35Z   NaN   \n",
       "4  AVphGKLPilAPnD_x1Nrm  2017-01-27T01:25:56Z  2018-01-18T03:55:18Z   NaN   \n",
       "\n",
       "         brand                                         categories  \\\n",
       "0  Naturalizer  Clothing,Shoes,Women's Shoes,All Women's Shoes...   \n",
       "1     MUK LUKS  Clothing,Shoes,Women's Shoes,Women's Casual Sh...   \n",
       "2     MUK LUKS  Clothing,Shoes,Women's Shoes,Women's Casual Sh...   \n",
       "3     MUK LUKS  Clothing,Shoes,Women's Shoes,All Women's Shoes...   \n",
       "4     MUK LUKS  Clothing,Shoes,Women's Shoes,All Women's Shoes...   \n",
       "\n",
       "  primaryCategories                          colors                 dimension  \\\n",
       "0             Shoes  Silver,Cream Watercolor Floral                       NaN   \n",
       "1             Shoes                            Grey                       NaN   \n",
       "2             Shoes                            Grey                       NaN   \n",
       "3       Shoes,Shoes                           Black  6.0 in x 6.0 in x 1.0 in   \n",
       "4             Shoes                            Grey  6.0 in x 6.0 in x 1.0 in   \n",
       "\n",
       "            ean  ...   prices_merchant prices_offer prices_returnPolicy  \\\n",
       "0           NaN  ...     Overstock.com          NaN                 NaN   \n",
       "1  3.397705e+10  ...       Walmart.com          NaN                 NaN   \n",
       "2  3.397705e+10  ...  Slippers Dot Com          NaN                 NaN   \n",
       "3  3.397705e+10  ...  Slippers Dot Com          NaN                 NaN   \n",
       "4  3.397705e+10  ...       Walmart.com          NaN                 NaN   \n",
       "\n",
       "  prices_shipping prices_size  \\\n",
       "0             NaN           S   \n",
       "1        Standard           6   \n",
       "2           Value           6   \n",
       "3           Value           6   \n",
       "4       Expedited           6   \n",
       "\n",
       "                                   prices_sourceURLs  \\\n",
       "0  https://www.overstock.com/Clothing-Shoes/Women...   \n",
       "1  https://www.walmart.com/ip/MUK-LUKS-Womens-Jan...   \n",
       "2  https://www.walmart.com/ip/MUK-LUKS-Womens-Jan...   \n",
       "3  https://www.walmart.com/ip/MUK-LUKS-Womens-Daw...   \n",
       "4  https://www.walmart.com/ip/MUK-LUKS-Womens-Daw...   \n",
       "\n",
       "                                               sizes  \\\n",
       "0  6W,9W,7.5W,12W,8.5M,9N,9M,9.5M,10.5M,10W,8.5W,...   \n",
       "1                                         10,7,6,9,8   \n",
       "2                                         10,7,6,9,8   \n",
       "3                                         10,7,6,9,8   \n",
       "4                                         10,7,6,9,8   \n",
       "\n",
       "                                          sourceURLs           upc weight  \n",
       "0  https://www.walmart.com/ip/Naturalizer-Danya-W...  017136472311    NaN  \n",
       "1  https://www.walmart.com/ip/MUK-LUKS-Womens-Jan...  033977045743    NaN  \n",
       "2  https://www.walmart.com/ip/MUK-LUKS-Womens-Jan...  033977045743    NaN  \n",
       "3  https://www.walmart.com/ip/MUK-LUKS-Womens-Daw...  033977045903    NaN  \n",
       "4  https://www.walmart.com/ip/MUK-LUKS-Womens-Daw...  033977045958    NaN  \n",
       "\n",
       "[5 rows x 34 columns]"
      ]
     },
     "execution_count": 16,
     "metadata": {},
     "output_type": "execute_result"
    }
   ],
   "source": [
    "data.head()"
   ]
  },
  {
   "cell_type": "code",
   "execution_count": 17,
   "metadata": {
    "colab": {
     "base_uri": "https://localhost:8080/"
    },
    "id": "x_abV4vXppML",
    "outputId": "d4b2e5cb-558d-43d5-85f9-3769a5ca1186"
   },
   "outputs": [
    {
     "data": {
      "text/plain": [
       "(10000, 34)"
      ]
     },
     "execution_count": 17,
     "metadata": {},
     "output_type": "execute_result"
    }
   ],
   "source": [
    "data.shape"
   ]
  },
  {
   "cell_type": "code",
   "execution_count": 18,
   "metadata": {
    "colab": {
     "base_uri": "https://localhost:8080/"
    },
    "id": "8yDKuebHppPl",
    "outputId": "128aa0af-5d04-4741-db2b-f9e489c9e4ff"
   },
   "outputs": [
    {
     "data": {
      "text/plain": [
       "id                         0\n",
       "dateAdded                  0\n",
       "dateUpdated                0\n",
       "asins                   9997\n",
       "brand                      0\n",
       "categories                 0\n",
       "primaryCategories          0\n",
       "colors                  7369\n",
       "dimension               9883\n",
       "ean                     9329\n",
       "imageURLs                  0\n",
       "keys                       0\n",
       "manufacturer            9473\n",
       "manufacturerNumber      7518\n",
       "name                       0\n",
       "prices_amountMax           0\n",
       "prices_amountMin           0\n",
       "prices_availability     9566\n",
       "prices_color               0\n",
       "prices_condition        9562\n",
       "prices_currency            0\n",
       "prices_dateAdded         777\n",
       "prices_dateSeen            0\n",
       "prices_isSale              0\n",
       "prices_merchant         9565\n",
       "prices_offer            9879\n",
       "prices_returnPolicy    10000\n",
       "prices_shipping         9588\n",
       "prices_size                0\n",
       "prices_sourceURLs          0\n",
       "sizes                      0\n",
       "sourceURLs                 0\n",
       "upc                      360\n",
       "weight                  9701\n",
       "dtype: int64"
      ]
     },
     "execution_count": 18,
     "metadata": {},
     "output_type": "execute_result"
    }
   ],
   "source": [
    "data.isna().sum()"
   ]
  },
  {
   "cell_type": "code",
   "execution_count": 19,
   "metadata": {
    "colab": {
     "base_uri": "https://localhost:8080/"
    },
    "id": "Awx8R9bJuV7q",
    "outputId": "7bfeb7ec-5483-4aaf-c311-e40a36770326"
   },
   "outputs": [
    {
     "name": "stdout",
     "output_type": "stream",
     "text": [
      "<class 'pandas.core.frame.DataFrame'>\n",
      "RangeIndex: 10000 entries, 0 to 9999\n",
      "Data columns (total 34 columns):\n",
      " #   Column               Non-Null Count  Dtype  \n",
      "---  ------               --------------  -----  \n",
      " 0   id                   10000 non-null  object \n",
      " 1   dateAdded            10000 non-null  object \n",
      " 2   dateUpdated          10000 non-null  object \n",
      " 3   asins                3 non-null      object \n",
      " 4   brand                10000 non-null  object \n",
      " 5   categories           10000 non-null  object \n",
      " 6   primaryCategories    10000 non-null  object \n",
      " 7   colors               2631 non-null   object \n",
      " 8   dimension            117 non-null    object \n",
      " 9   ean                  671 non-null    float64\n",
      " 10  imageURLs            10000 non-null  object \n",
      " 11  keys                 10000 non-null  object \n",
      " 12  manufacturer         527 non-null    object \n",
      " 13  manufacturerNumber   2482 non-null   object \n",
      " 14  name                 10000 non-null  object \n",
      " 15  prices_amountMax     10000 non-null  float64\n",
      " 16  prices_amountMin     10000 non-null  float64\n",
      " 17  prices_availability  434 non-null    object \n",
      " 18  prices_color         10000 non-null  object \n",
      " 19  prices_condition     438 non-null    object \n",
      " 20  prices_currency      10000 non-null  object \n",
      " 21  prices_dateAdded     9223 non-null   object \n",
      " 22  prices_dateSeen      10000 non-null  object \n",
      " 23  prices_isSale        10000 non-null  bool   \n",
      " 24  prices_merchant      435 non-null    object \n",
      " 25  prices_offer         121 non-null    object \n",
      " 26  prices_returnPolicy  0 non-null      float64\n",
      " 27  prices_shipping      412 non-null    object \n",
      " 28  prices_size          10000 non-null  object \n",
      " 29  prices_sourceURLs    10000 non-null  object \n",
      " 30  sizes                10000 non-null  object \n",
      " 31  sourceURLs           10000 non-null  object \n",
      " 32  upc                  9640 non-null   object \n",
      " 33  weight               299 non-null    object \n",
      "dtypes: bool(1), float64(4), object(29)\n",
      "memory usage: 2.5+ MB\n"
     ]
    }
   ],
   "source": [
    "data.info()"
   ]
  },
  {
   "cell_type": "code",
   "execution_count": 20,
   "metadata": {
    "colab": {
     "base_uri": "https://localhost:8080/",
     "height": 580
    },
    "id": "S3oLW-ZpuWJW",
    "outputId": "07d0a257-4a3d-4def-970b-36a426890eeb"
   },
   "outputs": [
    {
     "data": {
      "text/html": [
       "<div>\n",
       "<style scoped>\n",
       "    .dataframe tbody tr th:only-of-type {\n",
       "        vertical-align: middle;\n",
       "    }\n",
       "\n",
       "    .dataframe tbody tr th {\n",
       "        vertical-align: top;\n",
       "    }\n",
       "\n",
       "    .dataframe thead th {\n",
       "        text-align: right;\n",
       "    }\n",
       "</style>\n",
       "<table border=\"1\" class=\"dataframe\">\n",
       "  <thead>\n",
       "    <tr style=\"text-align: right;\">\n",
       "      <th></th>\n",
       "      <th>id</th>\n",
       "      <th>dateAdded</th>\n",
       "      <th>dateUpdated</th>\n",
       "      <th>asins</th>\n",
       "      <th>brand</th>\n",
       "      <th>categories</th>\n",
       "      <th>primaryCategories</th>\n",
       "      <th>colors</th>\n",
       "      <th>dimension</th>\n",
       "      <th>ean</th>\n",
       "      <th>...</th>\n",
       "      <th>prices_merchant</th>\n",
       "      <th>prices_offer</th>\n",
       "      <th>prices_returnPolicy</th>\n",
       "      <th>prices_shipping</th>\n",
       "      <th>prices_size</th>\n",
       "      <th>prices_sourceURLs</th>\n",
       "      <th>sizes</th>\n",
       "      <th>sourceURLs</th>\n",
       "      <th>upc</th>\n",
       "      <th>weight</th>\n",
       "    </tr>\n",
       "  </thead>\n",
       "  <tbody>\n",
       "    <tr>\n",
       "      <th>count</th>\n",
       "      <td>10000</td>\n",
       "      <td>10000</td>\n",
       "      <td>10000</td>\n",
       "      <td>3</td>\n",
       "      <td>10000</td>\n",
       "      <td>10000</td>\n",
       "      <td>10000</td>\n",
       "      <td>2631</td>\n",
       "      <td>117</td>\n",
       "      <td>6.710000e+02</td>\n",
       "      <td>...</td>\n",
       "      <td>435</td>\n",
       "      <td>121</td>\n",
       "      <td>0.0</td>\n",
       "      <td>412</td>\n",
       "      <td>10000</td>\n",
       "      <td>10000</td>\n",
       "      <td>10000</td>\n",
       "      <td>10000</td>\n",
       "      <td>9640</td>\n",
       "      <td>299</td>\n",
       "    </tr>\n",
       "    <tr>\n",
       "      <th>unique</th>\n",
       "      <td>653</td>\n",
       "      <td>440</td>\n",
       "      <td>495</td>\n",
       "      <td>1</td>\n",
       "      <td>129</td>\n",
       "      <td>207</td>\n",
       "      <td>2</td>\n",
       "      <td>219</td>\n",
       "      <td>19</td>\n",
       "      <td>NaN</td>\n",
       "      <td>...</td>\n",
       "      <td>11</td>\n",
       "      <td>11</td>\n",
       "      <td>NaN</td>\n",
       "      <td>7</td>\n",
       "      <td>83</td>\n",
       "      <td>754</td>\n",
       "      <td>336</td>\n",
       "      <td>653</td>\n",
       "      <td>489</td>\n",
       "      <td>48</td>\n",
       "    </tr>\n",
       "    <tr>\n",
       "      <th>top</th>\n",
       "      <td>AV46uYe4glJLPUi8VW57</td>\n",
       "      <td>2017-11-10T19:33:19Z</td>\n",
       "      <td>2018-02-01T07:33:40Z</td>\n",
       "      <td>B016GSDNVM</td>\n",
       "      <td>journee collection</td>\n",
       "      <td>Womens,Shoes,Boots,Journee Collection</td>\n",
       "      <td>Shoes</td>\n",
       "      <td>Blackchrome-Aurora Green-Hot Punch,Pure Platin...</td>\n",
       "      <td>8.0 in x 12.0 in x 4.0 in</td>\n",
       "      <td>NaN</td>\n",
       "      <td>...</td>\n",
       "      <td>Backcountry.com</td>\n",
       "      <td>35%</td>\n",
       "      <td>NaN</td>\n",
       "      <td>Free 2-Day shipping on orders over $50</td>\n",
       "      <td>6</td>\n",
       "      <td>https://www.kohls.com/product/prd-2734966/nike...</td>\n",
       "      <td>5 MED,5.5 MED,6 MED,6.5 MED,7 MED,7.5 MED,8 ME...</td>\n",
       "      <td>https://www.kohls.com/product/prd-2734966/nike...</td>\n",
       "      <td>884500153103,884500152984,884500152991,8845001...</td>\n",
       "      <td>2.0 lbs</td>\n",
       "    </tr>\n",
       "    <tr>\n",
       "      <th>freq</th>\n",
       "      <td>185</td>\n",
       "      <td>265</td>\n",
       "      <td>235</td>\n",
       "      <td>3</td>\n",
       "      <td>2182</td>\n",
       "      <td>835</td>\n",
       "      <td>9361</td>\n",
       "      <td>185</td>\n",
       "      <td>82</td>\n",
       "      <td>NaN</td>\n",
       "      <td>...</td>\n",
       "      <td>352</td>\n",
       "      <td>23</td>\n",
       "      <td>NaN</td>\n",
       "      <td>352</td>\n",
       "      <td>435</td>\n",
       "      <td>185</td>\n",
       "      <td>725</td>\n",
       "      <td>185</td>\n",
       "      <td>185</td>\n",
       "      <td>82</td>\n",
       "    </tr>\n",
       "    <tr>\n",
       "      <th>mean</th>\n",
       "      <td>NaN</td>\n",
       "      <td>NaN</td>\n",
       "      <td>NaN</td>\n",
       "      <td>NaN</td>\n",
       "      <td>NaN</td>\n",
       "      <td>NaN</td>\n",
       "      <td>NaN</td>\n",
       "      <td>NaN</td>\n",
       "      <td>NaN</td>\n",
       "      <td>7.714302e+11</td>\n",
       "      <td>...</td>\n",
       "      <td>NaN</td>\n",
       "      <td>NaN</td>\n",
       "      <td>NaN</td>\n",
       "      <td>NaN</td>\n",
       "      <td>NaN</td>\n",
       "      <td>NaN</td>\n",
       "      <td>NaN</td>\n",
       "      <td>NaN</td>\n",
       "      <td>NaN</td>\n",
       "      <td>NaN</td>\n",
       "    </tr>\n",
       "    <tr>\n",
       "      <th>std</th>\n",
       "      <td>NaN</td>\n",
       "      <td>NaN</td>\n",
       "      <td>NaN</td>\n",
       "      <td>NaN</td>\n",
       "      <td>NaN</td>\n",
       "      <td>NaN</td>\n",
       "      <td>NaN</td>\n",
       "      <td>NaN</td>\n",
       "      <td>NaN</td>\n",
       "      <td>1.847119e+11</td>\n",
       "      <td>...</td>\n",
       "      <td>NaN</td>\n",
       "      <td>NaN</td>\n",
       "      <td>NaN</td>\n",
       "      <td>NaN</td>\n",
       "      <td>NaN</td>\n",
       "      <td>NaN</td>\n",
       "      <td>NaN</td>\n",
       "      <td>NaN</td>\n",
       "      <td>NaN</td>\n",
       "      <td>NaN</td>\n",
       "    </tr>\n",
       "    <tr>\n",
       "      <th>min</th>\n",
       "      <td>NaN</td>\n",
       "      <td>NaN</td>\n",
       "      <td>NaN</td>\n",
       "      <td>NaN</td>\n",
       "      <td>NaN</td>\n",
       "      <td>NaN</td>\n",
       "      <td>NaN</td>\n",
       "      <td>NaN</td>\n",
       "      <td>NaN</td>\n",
       "      <td>3.397705e+10</td>\n",
       "      <td>...</td>\n",
       "      <td>NaN</td>\n",
       "      <td>NaN</td>\n",
       "      <td>NaN</td>\n",
       "      <td>NaN</td>\n",
       "      <td>NaN</td>\n",
       "      <td>NaN</td>\n",
       "      <td>NaN</td>\n",
       "      <td>NaN</td>\n",
       "      <td>NaN</td>\n",
       "      <td>NaN</td>\n",
       "    </tr>\n",
       "    <tr>\n",
       "      <th>25%</th>\n",
       "      <td>NaN</td>\n",
       "      <td>NaN</td>\n",
       "      <td>NaN</td>\n",
       "      <td>NaN</td>\n",
       "      <td>NaN</td>\n",
       "      <td>NaN</td>\n",
       "      <td>NaN</td>\n",
       "      <td>NaN</td>\n",
       "      <td>NaN</td>\n",
       "      <td>7.276810e+11</td>\n",
       "      <td>...</td>\n",
       "      <td>NaN</td>\n",
       "      <td>NaN</td>\n",
       "      <td>NaN</td>\n",
       "      <td>NaN</td>\n",
       "      <td>NaN</td>\n",
       "      <td>NaN</td>\n",
       "      <td>NaN</td>\n",
       "      <td>NaN</td>\n",
       "      <td>NaN</td>\n",
       "      <td>NaN</td>\n",
       "    </tr>\n",
       "    <tr>\n",
       "      <th>50%</th>\n",
       "      <td>NaN</td>\n",
       "      <td>NaN</td>\n",
       "      <td>NaN</td>\n",
       "      <td>NaN</td>\n",
       "      <td>NaN</td>\n",
       "      <td>NaN</td>\n",
       "      <td>NaN</td>\n",
       "      <td>NaN</td>\n",
       "      <td>NaN</td>\n",
       "      <td>8.701910e+11</td>\n",
       "      <td>...</td>\n",
       "      <td>NaN</td>\n",
       "      <td>NaN</td>\n",
       "      <td>NaN</td>\n",
       "      <td>NaN</td>\n",
       "      <td>NaN</td>\n",
       "      <td>NaN</td>\n",
       "      <td>NaN</td>\n",
       "      <td>NaN</td>\n",
       "      <td>NaN</td>\n",
       "      <td>NaN</td>\n",
       "    </tr>\n",
       "    <tr>\n",
       "      <th>75%</th>\n",
       "      <td>NaN</td>\n",
       "      <td>NaN</td>\n",
       "      <td>NaN</td>\n",
       "      <td>NaN</td>\n",
       "      <td>NaN</td>\n",
       "      <td>NaN</td>\n",
       "      <td>NaN</td>\n",
       "      <td>NaN</td>\n",
       "      <td>NaN</td>\n",
       "      <td>8.860660e+11</td>\n",
       "      <td>...</td>\n",
       "      <td>NaN</td>\n",
       "      <td>NaN</td>\n",
       "      <td>NaN</td>\n",
       "      <td>NaN</td>\n",
       "      <td>NaN</td>\n",
       "      <td>NaN</td>\n",
       "      <td>NaN</td>\n",
       "      <td>NaN</td>\n",
       "      <td>NaN</td>\n",
       "      <td>NaN</td>\n",
       "    </tr>\n",
       "    <tr>\n",
       "      <th>max</th>\n",
       "      <td>NaN</td>\n",
       "      <td>NaN</td>\n",
       "      <td>NaN</td>\n",
       "      <td>NaN</td>\n",
       "      <td>NaN</td>\n",
       "      <td>NaN</td>\n",
       "      <td>NaN</td>\n",
       "      <td>NaN</td>\n",
       "      <td>NaN</td>\n",
       "      <td>8.898850e+11</td>\n",
       "      <td>...</td>\n",
       "      <td>NaN</td>\n",
       "      <td>NaN</td>\n",
       "      <td>NaN</td>\n",
       "      <td>NaN</td>\n",
       "      <td>NaN</td>\n",
       "      <td>NaN</td>\n",
       "      <td>NaN</td>\n",
       "      <td>NaN</td>\n",
       "      <td>NaN</td>\n",
       "      <td>NaN</td>\n",
       "    </tr>\n",
       "  </tbody>\n",
       "</table>\n",
       "<p>11 rows × 34 columns</p>\n",
       "</div>"
      ],
      "text/plain": [
       "                          id             dateAdded           dateUpdated  \\\n",
       "count                  10000                 10000                 10000   \n",
       "unique                   653                   440                   495   \n",
       "top     AV46uYe4glJLPUi8VW57  2017-11-10T19:33:19Z  2018-02-01T07:33:40Z   \n",
       "freq                     185                   265                   235   \n",
       "mean                     NaN                   NaN                   NaN   \n",
       "std                      NaN                   NaN                   NaN   \n",
       "min                      NaN                   NaN                   NaN   \n",
       "25%                      NaN                   NaN                   NaN   \n",
       "50%                      NaN                   NaN                   NaN   \n",
       "75%                      NaN                   NaN                   NaN   \n",
       "max                      NaN                   NaN                   NaN   \n",
       "\n",
       "             asins               brand                             categories  \\\n",
       "count            3               10000                                  10000   \n",
       "unique           1                 129                                    207   \n",
       "top     B016GSDNVM  journee collection  Womens,Shoes,Boots,Journee Collection   \n",
       "freq             3                2182                                    835   \n",
       "mean           NaN                 NaN                                    NaN   \n",
       "std            NaN                 NaN                                    NaN   \n",
       "min            NaN                 NaN                                    NaN   \n",
       "25%            NaN                 NaN                                    NaN   \n",
       "50%            NaN                 NaN                                    NaN   \n",
       "75%            NaN                 NaN                                    NaN   \n",
       "max            NaN                 NaN                                    NaN   \n",
       "\n",
       "       primaryCategories                                             colors  \\\n",
       "count              10000                                               2631   \n",
       "unique                 2                                                219   \n",
       "top                Shoes  Blackchrome-Aurora Green-Hot Punch,Pure Platin...   \n",
       "freq                9361                                                185   \n",
       "mean                 NaN                                                NaN   \n",
       "std                  NaN                                                NaN   \n",
       "min                  NaN                                                NaN   \n",
       "25%                  NaN                                                NaN   \n",
       "50%                  NaN                                                NaN   \n",
       "75%                  NaN                                                NaN   \n",
       "max                  NaN                                                NaN   \n",
       "\n",
       "                        dimension           ean  ...  prices_merchant  \\\n",
       "count                         117  6.710000e+02  ...              435   \n",
       "unique                         19           NaN  ...               11   \n",
       "top     8.0 in x 12.0 in x 4.0 in           NaN  ...  Backcountry.com   \n",
       "freq                           82           NaN  ...              352   \n",
       "mean                          NaN  7.714302e+11  ...              NaN   \n",
       "std                           NaN  1.847119e+11  ...              NaN   \n",
       "min                           NaN  3.397705e+10  ...              NaN   \n",
       "25%                           NaN  7.276810e+11  ...              NaN   \n",
       "50%                           NaN  8.701910e+11  ...              NaN   \n",
       "75%                           NaN  8.860660e+11  ...              NaN   \n",
       "max                           NaN  8.898850e+11  ...              NaN   \n",
       "\n",
       "       prices_offer prices_returnPolicy  \\\n",
       "count           121                 0.0   \n",
       "unique           11                 NaN   \n",
       "top             35%                 NaN   \n",
       "freq             23                 NaN   \n",
       "mean            NaN                 NaN   \n",
       "std             NaN                 NaN   \n",
       "min             NaN                 NaN   \n",
       "25%             NaN                 NaN   \n",
       "50%             NaN                 NaN   \n",
       "75%             NaN                 NaN   \n",
       "max             NaN                 NaN   \n",
       "\n",
       "                               prices_shipping prices_size  \\\n",
       "count                                      412       10000   \n",
       "unique                                       7          83   \n",
       "top     Free 2-Day shipping on orders over $50           6   \n",
       "freq                                       352         435   \n",
       "mean                                       NaN         NaN   \n",
       "std                                        NaN         NaN   \n",
       "min                                        NaN         NaN   \n",
       "25%                                        NaN         NaN   \n",
       "50%                                        NaN         NaN   \n",
       "75%                                        NaN         NaN   \n",
       "max                                        NaN         NaN   \n",
       "\n",
       "                                        prices_sourceURLs  \\\n",
       "count                                               10000   \n",
       "unique                                                754   \n",
       "top     https://www.kohls.com/product/prd-2734966/nike...   \n",
       "freq                                                  185   \n",
       "mean                                                  NaN   \n",
       "std                                                   NaN   \n",
       "min                                                   NaN   \n",
       "25%                                                   NaN   \n",
       "50%                                                   NaN   \n",
       "75%                                                   NaN   \n",
       "max                                                   NaN   \n",
       "\n",
       "                                                    sizes  \\\n",
       "count                                               10000   \n",
       "unique                                                336   \n",
       "top     5 MED,5.5 MED,6 MED,6.5 MED,7 MED,7.5 MED,8 ME...   \n",
       "freq                                                  725   \n",
       "mean                                                  NaN   \n",
       "std                                                   NaN   \n",
       "min                                                   NaN   \n",
       "25%                                                   NaN   \n",
       "50%                                                   NaN   \n",
       "75%                                                   NaN   \n",
       "max                                                   NaN   \n",
       "\n",
       "                                               sourceURLs  \\\n",
       "count                                               10000   \n",
       "unique                                                653   \n",
       "top     https://www.kohls.com/product/prd-2734966/nike...   \n",
       "freq                                                  185   \n",
       "mean                                                  NaN   \n",
       "std                                                   NaN   \n",
       "min                                                   NaN   \n",
       "25%                                                   NaN   \n",
       "50%                                                   NaN   \n",
       "75%                                                   NaN   \n",
       "max                                                   NaN   \n",
       "\n",
       "                                                      upc   weight  \n",
       "count                                                9640      299  \n",
       "unique                                                489       48  \n",
       "top     884500153103,884500152984,884500152991,8845001...  2.0 lbs  \n",
       "freq                                                  185       82  \n",
       "mean                                                  NaN      NaN  \n",
       "std                                                   NaN      NaN  \n",
       "min                                                   NaN      NaN  \n",
       "25%                                                   NaN      NaN  \n",
       "50%                                                   NaN      NaN  \n",
       "75%                                                   NaN      NaN  \n",
       "max                                                   NaN      NaN  \n",
       "\n",
       "[11 rows x 34 columns]"
      ]
     },
     "execution_count": 20,
     "metadata": {},
     "output_type": "execute_result"
    }
   ],
   "source": [
    "data.describe(include='all')"
   ]
  },
  {
   "cell_type": "markdown",
   "metadata": {
    "id": "Xf5xR9gxOCp7"
   },
   "source": [
    "1.The above shows numerical analysis of the given dataset\n",
    "\n",
    "2.There are 10000 respondents\n",
    "\n",
    "3.There are 129 unique brands and 207 Unique categories\n",
    "\n",
    "4.The mean of Price_amount is 60.17 and Std is 18.8"
   ]
  },
  {
   "cell_type": "code",
   "execution_count": 21,
   "metadata": {
    "colab": {
     "base_uri": "https://localhost:8080/"
    },
    "id": "nVHHC4QTn28G",
    "outputId": "7c84cc6c-03e1-4cfb-91c7-2125f1300e12"
   },
   "outputs": [
    {
     "data": {
      "text/plain": [
       "Index(['id', 'dateAdded', 'dateUpdated', 'asins', 'brand', 'categories',\n",
       "       'primaryCategories', 'colors', 'dimension', 'ean', 'imageURLs', 'keys',\n",
       "       'manufacturer', 'manufacturerNumber', 'name', 'prices_amountMax',\n",
       "       'prices_amountMin', 'prices_availability', 'prices_color',\n",
       "       'prices_condition', 'prices_currency', 'prices_dateAdded',\n",
       "       'prices_dateSeen', 'prices_isSale', 'prices_merchant', 'prices_offer',\n",
       "       'prices_returnPolicy', 'prices_shipping', 'prices_size',\n",
       "       'prices_sourceURLs', 'sizes', 'sourceURLs', 'upc', 'weight'],\n",
       "      dtype='object')"
      ]
     },
     "execution_count": 21,
     "metadata": {},
     "output_type": "execute_result"
    }
   ],
   "source": [
    "data.columns"
   ]
  },
  {
   "cell_type": "markdown",
   "metadata": {
    "id": "1odDA9JypCcc"
   },
   "source": [
    "# Checking equality of similar named columns\n",
    "\n",
    "We see some similar named columns let's check whether they are duplicate columns or not."
   ]
  },
  {
   "cell_type": "code",
   "execution_count": 22,
   "metadata": {
    "colab": {
     "base_uri": "https://localhost:8080/"
    },
    "id": "tseF8dq3pcc9",
    "outputId": "aa8c00ab-2e27-44fc-a2fd-97c36c571b7e"
   },
   "outputs": [
    {
     "name": "stdout",
     "output_type": "stream",
     "text": [
      "size False\n",
      "color False\n",
      "sourceURL False\n"
     ]
    }
   ],
   "source": [
    "print('size',data['prices_size'].equals(data['sizes']))\n",
    "print('color',data['prices_color'].equals(data['colors']))\n",
    "print('sourceURL',data['prices_sourceURLs'].equals(data['sourceURLs']))"
   ]
  },
  {
   "cell_type": "markdown",
   "metadata": {
    "id": "D3Y8s0tYp4ND"
   },
   "source": [
    "They all seem to be different. We have two values of sizes(prices.size),colors(prices.color) and sourceURL(prices.sourceURLs) as we can see in the code above but for sake of simplicity we will not consider sizes,colors and sourceURL columns in our selected column list for our further processing. As we would want to keep these information with regards to the prices only."
   ]
  },
  {
   "cell_type": "markdown",
   "metadata": {
    "id": "3JoWCQUHydME"
   },
   "source": [
    "# Choosing Columns\n",
    "1.Since we don't have merchant information, columns containing unique identifier with respect to specific merchants, are not considered viz. asins (amazon id),keys (walmart id),manufacturerNumber (manufacturer id).\n",
    "\n",
    "2.ean / upc columns are also not considered as for same product we can have multiple EANs (European Article Number) and UPCs (Universal Product Code) for smallest varaiations.\n",
    "\n",
    "3.All Urls columns (imageURLs and sourceURLs)except prices_sourceURLs are not considered in selected columns as they are not relevant to our analysis."
   ]
  },
  {
   "cell_type": "code",
   "execution_count": 23,
   "metadata": {
    "id": "Xodi-Me3ycgp"
   },
   "outputs": [],
   "source": [
    "selected_cols = ['id', 'dateUpdated', 'brand', 'categories','primaryCategories', 'dimension',\n",
    "        'manufacturer', 'name','prices_amount' , 'prices_availability',\n",
    "       'prices_color', 'prices_currency', 'prices_dateSeen', 'prices_isSale',\n",
    "       'prices_shipping','prices_size','prices_sourceURLs']"
   ]
  },
  {
   "cell_type": "markdown",
   "metadata": {
    "id": "04S2yy-z0p6p"
   },
   "source": [
    "Keeping a copy of the data from these selected columns into a new data frame called df, which we can continue to modify further without affecting the original data frame."
   ]
  },
  {
   "cell_type": "code",
   "execution_count": 24,
   "metadata": {
    "id": "_i1Y9fUKp3LM"
   },
   "outputs": [
    {
     "ename": "KeyError",
     "evalue": "\"['prices_amount'] not in index\"",
     "output_type": "error",
     "traceback": [
      "\u001b[1;31m---------------------------------------------------------------------------\u001b[0m",
      "\u001b[1;31mKeyError\u001b[0m                                  Traceback (most recent call last)",
      "\u001b[1;32m<ipython-input-24-a4a1189e6d8b>\u001b[0m in \u001b[0;36m<module>\u001b[1;34m\u001b[0m\n\u001b[1;32m----> 1\u001b[1;33m \u001b[0mdf\u001b[0m \u001b[1;33m=\u001b[0m \u001b[0mdata\u001b[0m\u001b[1;33m[\u001b[0m\u001b[0mselected_cols\u001b[0m\u001b[1;33m]\u001b[0m\u001b[1;33m.\u001b[0m\u001b[0mcopy\u001b[0m\u001b[1;33m(\u001b[0m\u001b[1;33m)\u001b[0m\u001b[1;33m\u001b[0m\u001b[1;33m\u001b[0m\u001b[0m\n\u001b[0m",
      "\u001b[1;32m~\\anaconda3\\lib\\site-packages\\pandas\\core\\frame.py\u001b[0m in \u001b[0;36m__getitem__\u001b[1;34m(self, key)\u001b[0m\n\u001b[0;32m   3028\u001b[0m             \u001b[1;32mif\u001b[0m \u001b[0mis_iterator\u001b[0m\u001b[1;33m(\u001b[0m\u001b[0mkey\u001b[0m\u001b[1;33m)\u001b[0m\u001b[1;33m:\u001b[0m\u001b[1;33m\u001b[0m\u001b[1;33m\u001b[0m\u001b[0m\n\u001b[0;32m   3029\u001b[0m                 \u001b[0mkey\u001b[0m \u001b[1;33m=\u001b[0m \u001b[0mlist\u001b[0m\u001b[1;33m(\u001b[0m\u001b[0mkey\u001b[0m\u001b[1;33m)\u001b[0m\u001b[1;33m\u001b[0m\u001b[1;33m\u001b[0m\u001b[0m\n\u001b[1;32m-> 3030\u001b[1;33m             \u001b[0mindexer\u001b[0m \u001b[1;33m=\u001b[0m \u001b[0mself\u001b[0m\u001b[1;33m.\u001b[0m\u001b[0mloc\u001b[0m\u001b[1;33m.\u001b[0m\u001b[0m_get_listlike_indexer\u001b[0m\u001b[1;33m(\u001b[0m\u001b[0mkey\u001b[0m\u001b[1;33m,\u001b[0m \u001b[0maxis\u001b[0m\u001b[1;33m=\u001b[0m\u001b[1;36m1\u001b[0m\u001b[1;33m,\u001b[0m \u001b[0mraise_missing\u001b[0m\u001b[1;33m=\u001b[0m\u001b[1;32mTrue\u001b[0m\u001b[1;33m)\u001b[0m\u001b[1;33m[\u001b[0m\u001b[1;36m1\u001b[0m\u001b[1;33m]\u001b[0m\u001b[1;33m\u001b[0m\u001b[1;33m\u001b[0m\u001b[0m\n\u001b[0m\u001b[0;32m   3031\u001b[0m \u001b[1;33m\u001b[0m\u001b[0m\n\u001b[0;32m   3032\u001b[0m         \u001b[1;31m# take() does not accept boolean indexers\u001b[0m\u001b[1;33m\u001b[0m\u001b[1;33m\u001b[0m\u001b[1;33m\u001b[0m\u001b[0m\n",
      "\u001b[1;32m~\\anaconda3\\lib\\site-packages\\pandas\\core\\indexing.py\u001b[0m in \u001b[0;36m_get_listlike_indexer\u001b[1;34m(self, key, axis, raise_missing)\u001b[0m\n\u001b[0;32m   1264\u001b[0m             \u001b[0mkeyarr\u001b[0m\u001b[1;33m,\u001b[0m \u001b[0mindexer\u001b[0m\u001b[1;33m,\u001b[0m \u001b[0mnew_indexer\u001b[0m \u001b[1;33m=\u001b[0m \u001b[0max\u001b[0m\u001b[1;33m.\u001b[0m\u001b[0m_reindex_non_unique\u001b[0m\u001b[1;33m(\u001b[0m\u001b[0mkeyarr\u001b[0m\u001b[1;33m)\u001b[0m\u001b[1;33m\u001b[0m\u001b[1;33m\u001b[0m\u001b[0m\n\u001b[0;32m   1265\u001b[0m \u001b[1;33m\u001b[0m\u001b[0m\n\u001b[1;32m-> 1266\u001b[1;33m         \u001b[0mself\u001b[0m\u001b[1;33m.\u001b[0m\u001b[0m_validate_read_indexer\u001b[0m\u001b[1;33m(\u001b[0m\u001b[0mkeyarr\u001b[0m\u001b[1;33m,\u001b[0m \u001b[0mindexer\u001b[0m\u001b[1;33m,\u001b[0m \u001b[0maxis\u001b[0m\u001b[1;33m,\u001b[0m \u001b[0mraise_missing\u001b[0m\u001b[1;33m=\u001b[0m\u001b[0mraise_missing\u001b[0m\u001b[1;33m)\u001b[0m\u001b[1;33m\u001b[0m\u001b[1;33m\u001b[0m\u001b[0m\n\u001b[0m\u001b[0;32m   1267\u001b[0m         \u001b[1;32mreturn\u001b[0m \u001b[0mkeyarr\u001b[0m\u001b[1;33m,\u001b[0m \u001b[0mindexer\u001b[0m\u001b[1;33m\u001b[0m\u001b[1;33m\u001b[0m\u001b[0m\n\u001b[0;32m   1268\u001b[0m \u001b[1;33m\u001b[0m\u001b[0m\n",
      "\u001b[1;32m~\\anaconda3\\lib\\site-packages\\pandas\\core\\indexing.py\u001b[0m in \u001b[0;36m_validate_read_indexer\u001b[1;34m(self, key, indexer, axis, raise_missing)\u001b[0m\n\u001b[0;32m   1314\u001b[0m             \u001b[1;32mif\u001b[0m \u001b[0mraise_missing\u001b[0m\u001b[1;33m:\u001b[0m\u001b[1;33m\u001b[0m\u001b[1;33m\u001b[0m\u001b[0m\n\u001b[0;32m   1315\u001b[0m                 \u001b[0mnot_found\u001b[0m \u001b[1;33m=\u001b[0m \u001b[0mlist\u001b[0m\u001b[1;33m(\u001b[0m\u001b[0mset\u001b[0m\u001b[1;33m(\u001b[0m\u001b[0mkey\u001b[0m\u001b[1;33m)\u001b[0m \u001b[1;33m-\u001b[0m \u001b[0mset\u001b[0m\u001b[1;33m(\u001b[0m\u001b[0max\u001b[0m\u001b[1;33m)\u001b[0m\u001b[1;33m)\u001b[0m\u001b[1;33m\u001b[0m\u001b[1;33m\u001b[0m\u001b[0m\n\u001b[1;32m-> 1316\u001b[1;33m                 \u001b[1;32mraise\u001b[0m \u001b[0mKeyError\u001b[0m\u001b[1;33m(\u001b[0m\u001b[1;34mf\"{not_found} not in index\"\u001b[0m\u001b[1;33m)\u001b[0m\u001b[1;33m\u001b[0m\u001b[1;33m\u001b[0m\u001b[0m\n\u001b[0m\u001b[0;32m   1317\u001b[0m \u001b[1;33m\u001b[0m\u001b[0m\n\u001b[0;32m   1318\u001b[0m             \u001b[0mnot_found\u001b[0m \u001b[1;33m=\u001b[0m \u001b[0mkey\u001b[0m\u001b[1;33m[\u001b[0m\u001b[0mmissing_mask\u001b[0m\u001b[1;33m]\u001b[0m\u001b[1;33m\u001b[0m\u001b[1;33m\u001b[0m\u001b[0m\n",
      "\u001b[1;31mKeyError\u001b[0m: \"['prices_amount'] not in index\""
     ]
    }
   ],
   "source": [
    "df = data[selected_cols].copy()"
   ]
  },
  {
   "cell_type": "code",
   "execution_count": null,
   "metadata": {
    "colab": {
     "base_uri": "https://localhost:8080/"
    },
    "id": "r0aC5m5R25Jd",
    "outputId": "d963999d-8865-4632-ba81-474bb4d603ac"
   },
   "outputs": [],
   "source": [
    "df.isna().sum()"
   ]
  },
  {
   "cell_type": "markdown",
   "metadata": {
    "id": "Gek4tqFO3b1v"
   },
   "source": [
    "From the above,we can see that 4 columns have more than 10% of null values.therefore we have to drop this 4 columns"
   ]
  },
  {
   "cell_type": "markdown",
   "metadata": {
    "id": "M7yJorkbuZaZ"
   },
   "source": [
    "# Extracting merchant information"
   ]
  },
  {
   "cell_type": "markdown",
   "metadata": {
    "id": "JPQBm37Z1Y5r"
   },
   "source": [
    "prices_merchant was empty but we can still find the information from prices_sourceURLs."
   ]
  },
  {
   "cell_type": "code",
   "execution_count": null,
   "metadata": {
    "colab": {
     "base_uri": "https://localhost:8080/",
     "height": 53
    },
    "id": "zyoxUQo87FYk",
    "outputId": "f5c1c128-fbea-4adc-def9-7312d138e30e"
   },
   "outputs": [],
   "source": [
    "url = df['prices_sourceURLs'][0]\n",
    "url"
   ]
  },
  {
   "cell_type": "markdown",
   "metadata": {
    "id": "q86f6fZr2QWY"
   },
   "source": [
    "Now, parsing the url to get the merchant information"
   ]
  },
  {
   "cell_type": "code",
   "execution_count": null,
   "metadata": {
    "colab": {
     "base_uri": "https://localhost:8080/"
    },
    "id": "RhSJ5LAu7Fd7",
    "outputId": "1e79923b-a97d-4d0e-ae2a-76fc5ff2d7f9"
   },
   "outputs": [],
   "source": [
    "print('step1:',url.split('www.'))\n",
    "print('step2:',url.split('www.')[1])\n",
    "print('step3:',url.split('www.')[1].split('/'))\n",
    "print('step4:',url.split('www.')[1].split('/')[0])"
   ]
  },
  {
   "cell_type": "markdown",
   "metadata": {
    "id": "byI05qwc2bLI"
   },
   "source": [
    "Applying these above steps to all values of prices_sourceURLs with .apply() and seeing uniques merchants along with their counts using .value_counts()"
   ]
  },
  {
   "cell_type": "code",
   "execution_count": null,
   "metadata": {
    "colab": {
     "base_uri": "https://localhost:8080/"
    },
    "id": "j0ki1BhD7Fkh",
    "outputId": "bf52aa17-552d-442e-eb6b-45f2244b6734"
   },
   "outputs": [],
   "source": [
    "df['merchant'] = df['prices_sourceURLs'].apply(lambda x: x.split('www.')[1].split('/')[0])\n",
    "df['merchant'].value_counts()"
   ]
  },
  {
   "cell_type": "markdown",
   "metadata": {
    "id": "n9cOkZan2o3f"
   },
   "source": [
    "It is evident from above result that all prices are sourced from different merchants"
   ]
  },
  {
   "cell_type": "markdown",
   "metadata": {
    "id": "E-x1OIyIgLRM"
   },
   "source": [
    "# Merchant V/S Categories"
   ]
  },
  {
   "cell_type": "code",
   "execution_count": null,
   "metadata": {
    "colab": {
     "base_uri": "https://localhost:8080/"
    },
    "id": "HOUhBUiwZAlI",
    "outputId": "666dde9b-f1ad-4ae2-ae9c-ba82dd3891b2"
   },
   "outputs": [],
   "source": [
    "no_of_merchants=df.groupby('categories')['merchant'].count().sort_values(ascending=False)\n",
    "no_of_merchants"
   ]
  },
  {
   "cell_type": "markdown",
   "metadata": {
    "id": "pP6_ysc9bO4s"
   },
   "source": [
    "From the above we can see that 'womens,Shoes,Boots,Journee Collection' category have highest number of merchants.And this is even more clear to observe from the below bar chart visualization which gives us the the top 10 categories based on number of merchants."
   ]
  },
  {
   "cell_type": "code",
   "execution_count": null,
   "metadata": {
    "colab": {
     "base_uri": "https://localhost:8080/",
     "height": 365
    },
    "id": "wpNIPQv2bD0Y",
    "outputId": "5c278d68-ae98-4ac6-88cb-c3cf0a44f4b3"
   },
   "outputs": [],
   "source": [
    "plt.xticks(rotation=45)\n",
    "plt.title(\"Number of merchant in 10 categories\",fontsize=20)\n",
    "plt.xlabel('categories')\n",
    "plt.ylabel('No of merchants')\n",
    "sns.barplot(no_of_merchants[:10],no_of_merchants[:10].index);"
   ]
  },
  {
   "cell_type": "markdown",
   "metadata": {
    "id": "JSDrV0hMeya7"
   },
   "source": [
    "From above barchart we can clearly understand that Number of merchants are high in 'Womens,Shoes,Boots,Journee Collection' category."
   ]
  },
  {
   "cell_type": "markdown",
   "metadata": {
    "id": "2933KZpg0tJ-"
   },
   "source": [
    "# Prices_issale V/S Manufacturer"
   ]
  },
  {
   "cell_type": "code",
   "execution_count": null,
   "metadata": {
    "colab": {
     "base_uri": "https://localhost:8080/"
    },
    "id": "Fc_owlt8hlbH",
    "outputId": "39112daa-b2c8-430a-d812-0d6cc27babc7"
   },
   "outputs": [],
   "source": [
    "df['prices_isSale'].value_counts()"
   ]
  },
  {
   "cell_type": "code",
   "execution_count": null,
   "metadata": {
    "colab": {
     "base_uri": "https://localhost:8080/"
    },
    "id": "ZKQUWGtbhldl",
    "outputId": "a0df92a2-21d5-4577-9cc4-dc7d8b458f28"
   },
   "outputs": [],
   "source": [
    "sale_df = df[df['prices_isSale'] != False]\n",
    "print(\"sale_df's rows and columns:\",sale_df.shape)\n",
    "non_sale_df = df[df['prices_isSale'] == False]\n",
    "print(\"non_sale_df's rows and columns:\",non_sale_df.shape)"
   ]
  },
  {
   "cell_type": "code",
   "execution_count": null,
   "metadata": {
    "colab": {
     "base_uri": "https://localhost:8080/"
    },
    "id": "qoNhnDg5hlgz",
    "outputId": "b400485f-f22a-428c-c29d-c9bb830e2dbe"
   },
   "outputs": [],
   "source": [
    "#Before handling null values\n",
    "top_manufacturers = non_sale_df.manufacturer.value_counts().head(10)\n",
    "top_manufacturers"
   ]
  },
  {
   "cell_type": "markdown",
   "metadata": {
    "id": "y1hvfM9x3nJE"
   },
   "source": [
    "From the above result,we can understand that Dr.scholl's emerged as the top manufacturer by count of their product listing,being almost double th size of it's immediate competitor Brinley.Co.(Before handling missing values)"
   ]
  },
  {
   "cell_type": "code",
   "execution_count": null,
   "metadata": {
    "colab": {
     "base_uri": "https://localhost:8080/"
    },
    "id": "Ws2uftkLgWC7",
    "outputId": "76352aeb-da08-4624-9ae1-d6ed1778640e"
   },
   "outputs": [],
   "source": [
    "#Before handling null values\n",
    "top_manufacturers1 = sale_df.manufacturer.value_counts().head(10)\n",
    "top_manufacturers1"
   ]
  },
  {
   "cell_type": "markdown",
   "metadata": {
    "id": "Me6UB9sHgewl"
   },
   "source": [
    "In case of sale,'Brinley Co' category have the highest number of merchants."
   ]
  },
  {
   "cell_type": "code",
   "execution_count": null,
   "metadata": {
    "colab": {
     "base_uri": "https://localhost:8080/"
    },
    "id": "HH9Dnlrm8QvF",
    "outputId": "dd3b74a2-6410-468a-97b6-b6f5c656a377"
   },
   "outputs": [],
   "source": [
    "df.shape"
   ]
  },
  {
   "cell_type": "markdown",
   "metadata": {
    "id": "Z5v6SzYe1c_3"
   },
   "source": [
    "# Brand V/S Prices_issale"
   ]
  },
  {
   "cell_type": "code",
   "execution_count": null,
   "metadata": {
    "colab": {
     "base_uri": "https://localhost:8080/"
    },
    "id": "p5yWSuL4wzuX",
    "outputId": "0a1488e0-290c-4c03-cdf0-d5665443f655"
   },
   "outputs": [],
   "source": [
    "df['brand'].value_counts()"
   ]
  },
  {
   "cell_type": "code",
   "execution_count": null,
   "metadata": {
    "colab": {
     "base_uri": "https://localhost:8080/"
    },
    "id": "UwWVxLLEEaQI",
    "outputId": "45c28727-f3ce-42c2-a600-42e213bd4c00"
   },
   "outputs": [],
   "source": [
    "print(\"No. of unique brands:\",df.brand.nunique())"
   ]
  },
  {
   "cell_type": "markdown",
   "metadata": {
    "id": "1L6mWaCJf-eD"
   },
   "source": [
    "Let's look at the list of top 10 brands by count of their product listings"
   ]
  },
  {
   "cell_type": "code",
   "execution_count": null,
   "metadata": {
    "colab": {
     "base_uri": "https://localhost:8080/"
    },
    "id": "JedbkQIiiJFg",
    "outputId": "bd4d344b-71a0-4dc2-ff58-41fa47e8047f"
   },
   "outputs": [],
   "source": [
    "top_brands = sale_df.brand.value_counts().head(10)\n",
    "top_brands"
   ]
  },
  {
   "cell_type": "markdown",
   "metadata": {
    "id": "VUpiNdkHiU00"
   },
   "source": [
    "In case of sale,'Brinley Co' brand is the top brand by count of their product listing."
   ]
  },
  {
   "cell_type": "code",
   "execution_count": null,
   "metadata": {
    "colab": {
     "base_uri": "https://localhost:8080/"
    },
    "id": "FpESELJw8ORb",
    "outputId": "99f28d86-8d66-4f3d-c0d3-44ad7370f5fe"
   },
   "outputs": [],
   "source": [
    "top_brands1 = non_sale_df.brand.value_counts().head(10)\n",
    "top_brands1"
   ]
  },
  {
   "cell_type": "code",
   "execution_count": null,
   "metadata": {
    "colab": {
     "base_uri": "https://localhost:8080/",
     "height": 485
    },
    "id": "9Xfp3njXgFZa",
    "outputId": "ce8ad937-671d-4bec-8a3b-dcbb39d2056e"
   },
   "outputs": [],
   "source": [
    "plt.figure(figsize=(12,6))\n",
    "plt.xticks(rotation=45)\n",
    "plt.title(\"Top 10 Women's Shoes Brands by their product listings\",fontsize=20)\n",
    "sns.barplot(top_brands.index, top_brands);"
   ]
  },
  {
   "cell_type": "markdown",
   "metadata": {
    "id": "Ohqp1en9g8ea"
   },
   "source": [
    "We can see from the visualization above that journee collection is almost double the size of it's immediate competitor. And this is even more clear to observe from the below pie chart visualization which gives us the actual market share by percentage between the top 5 brands.\n"
   ]
  },
  {
   "cell_type": "code",
   "execution_count": null,
   "metadata": {
    "colab": {
     "base_uri": "https://localhost:8080/",
     "height": 373
    },
    "id": "86Mmk8lrgFpy",
    "outputId": "1df73957-d116-4589-b765-4b9a17b3d2b7"
   },
   "outputs": [],
   "source": [
    "plt.figure(figsize=(12,6))\n",
    "plt.title(\"Top 5 Brand share by percentage\",)\n",
    "plt.pie(top_brands[:5], labels=top_brands[:5].index, autopct='%1.1f%%', startangle=180);"
   ]
  },
  {
   "cell_type": "markdown",
   "metadata": {
    "id": "138iNwN75Dfd"
   },
   "source": [
    "The above pie chart shows how much percentage market is shared between these top 5 brands with a pie chart visualization."
   ]
  },
  {
   "cell_type": "markdown",
   "metadata": {
    "id": "nq6L9u8x9UgJ"
   },
   "source": [
    "# Brand V/S Avg Price"
   ]
  },
  {
   "cell_type": "code",
   "execution_count": null,
   "metadata": {
    "colab": {
     "base_uri": "https://localhost:8080/"
    },
    "id": "9VZZxnFBgFtW",
    "outputId": "0aa81373-88d0-490e-84d0-994868f9ee73"
   },
   "outputs": [],
   "source": [
    "av_price_brand_wise = df.groupby('brand')['prices_amount'].mean().sort_values(ascending=False)\n",
    "av_price_brand_wise"
   ]
  },
  {
   "cell_type": "code",
   "execution_count": null,
   "metadata": {
    "colab": {
     "base_uri": "https://localhost:8080/",
     "height": 363
    },
    "id": "Ia6rJXukhpWA",
    "outputId": "63a300a4-7b72-4e20-f762-1fdb6368a015"
   },
   "outputs": [],
   "source": [
    "plt.xticks(rotation=45)\n",
    "plt.title(\"Top 5 Women's Most Expensive Shoes Brands\",fontsize=15)\n",
    "sns.barplot(av_price_brand_wise[:5],av_price_brand_wise[:5].index);"
   ]
  },
  {
   "cell_type": "markdown",
   "metadata": {
    "id": "inY3cw4t5wSp"
   },
   "source": [
    "from the above graph, we got red wing  turned out to be the most expensive brand based on average prices."
   ]
  },
  {
   "cell_type": "code",
   "execution_count": null,
   "metadata": {
    "colab": {
     "base_uri": "https://localhost:8080/"
    },
    "id": "9ZntiYiM-YVd",
    "outputId": "51a1e608-ee1c-4aaf-ec94-9ea0f3a9a21d"
   },
   "outputs": [],
   "source": [
    "av_price_brand_wise1 = df.groupby('brand')['prices_amount'].mean().sort_values(ascending=True)\n",
    "av_price_brand_wise1"
   ]
  },
  {
   "cell_type": "code",
   "execution_count": null,
   "metadata": {
    "colab": {
     "base_uri": "https://localhost:8080/",
     "height": 361
    },
    "id": "szlfl2yN-i7P",
    "outputId": "8bc96cc9-a9c9-4c9d-adb8-d8a5168e29d1"
   },
   "outputs": [],
   "source": [
    "plt.xticks(rotation=45)\n",
    "plt.title(\"Top 5 Women's least Expensive Shoes Brands\",fontsize=20)\n",
    "sns.barplot(av_price_brand_wise1[:5],av_price_brand_wise1[:5].index);"
   ]
  },
  {
   "cell_type": "markdown",
   "metadata": {
    "id": "8fr2_Tm96MuR"
   },
   "source": [
    "From the above graph, we got Unbranded product turned out to be the least expensive brand on average prices."
   ]
  },
  {
   "cell_type": "code",
   "execution_count": null,
   "metadata": {
    "colab": {
     "base_uri": "https://localhost:8080/",
     "height": 404
    },
    "id": "YPxAfo6ShpZG",
    "outputId": "39990675-ffc8-45ba-ccc3-49c411ca461d"
   },
   "outputs": [],
   "source": [
    "plt.figure(figsize=(12, 6))\n",
    "plt.title(\"Price distribution\")\n",
    "plt.xlabel('Price bins')\n",
    "plt.ylabel('Number brands falling in each bin')\n",
    "\n",
    "plt.hist(df.prices_amount, bins=np.arange(15,315,5), color='orange');"
   ]
  },
  {
   "cell_type": "code",
   "execution_count": null,
   "metadata": {
    "colab": {
     "base_uri": "https://localhost:8080/"
    },
    "id": "Gh1xK-Iwhpbw",
    "outputId": "05fbc79d-b97d-4276-8ea8-299727936e7a"
   },
   "outputs": [],
   "source": [
    "df.prices_amount.describe()"
   ]
  },
  {
   "cell_type": "code",
   "execution_count": null,
   "metadata": {
    "colab": {
     "base_uri": "https://localhost:8080/",
     "height": 356
    },
    "id": "DryRhm7jhpfE",
    "outputId": "7b21094d-21a3-424e-e2bd-646f9e2ab4fd"
   },
   "outputs": [],
   "source": [
    "plt.title(\"Price distribution\",fontsize=20)\n",
    "sns.distplot(df.prices_amount);"
   ]
  },
  {
   "cell_type": "markdown",
   "metadata": {
    "id": "RZ2ZaneBkX3p"
   },
   "source": [
    "By looking at all of the above results, the answer is NO, distribution is no where close to normal. Infact, the Price distribution is rightly skewed suggesting to us that most of the brands prefer to price their products around the lower side of prices (viz. 15 to 50 USD) for better sales. Second bump is around 80 to 85 USD."
   ]
  },
  {
   "cell_type": "markdown",
   "metadata": {
    "id": "_5gOpz5G8s-M"
   },
   "source": [
    "# Prices_issale V/S  prices_amount"
   ]
  },
  {
   "cell_type": "code",
   "execution_count": null,
   "metadata": {
    "colab": {
     "base_uri": "https://localhost:8080/",
     "height": 522
    },
    "id": "1TpnpjRekUFt",
    "outputId": "d01cb234-9094-4ef2-8341-2705a847797c"
   },
   "outputs": [],
   "source": [
    "corrmatrix=df.corr()\n",
    "plt.subplots(figsize=(20,8))\n",
    "plt.title(\"Correlation between Price_issale and Prices_amount\",fontsize=20)\n",
    "sns.heatmap(corrmatrix,vmin=-.7,vmax=0.7,annot=True,linewidth=0.2)"
   ]
  },
  {
   "cell_type": "markdown",
   "metadata": {
    "id": "II8P1z-n6daB"
   },
   "source": [
    "The above shows correlation between Prices_amount and prices_issale."
   ]
  },
  {
   "cell_type": "markdown",
   "metadata": {
    "id": "fFzrkmo_9jUJ"
   },
   "source": [
    "# Brand V/S Color"
   ]
  },
  {
   "cell_type": "code",
   "execution_count": null,
   "metadata": {
    "colab": {
     "base_uri": "https://localhost:8080/"
    },
    "id": "mXp6MnpqQ2kA",
    "outputId": "707ab959-f483-4fc4-928d-4e6eddbf7fbf"
   },
   "outputs": [],
   "source": [
    "top_colors=df.prices_color.value_counts()\n",
    "top_colors"
   ]
  },
  {
   "cell_type": "code",
   "execution_count": null,
   "metadata": {
    "colab": {
     "base_uri": "https://localhost:8080/",
     "height": 482
    },
    "id": "4GgsVCw-jFNm",
    "outputId": "84c67a25-901f-4f9c-cf28-cd98656ae340"
   },
   "outputs": [],
   "source": [
    "plt.figure(figsize=(12,6))\n",
    "plt.xticks(rotation=45)\n",
    "plt.xlabel('Colors')\n",
    "plt.ylabel('Count')\n",
    "plt.title(\"Top 5 Women's Shoes colors\",fontsize=20)\n",
    "sns.barplot(top_colors.index[:5], top_colors[:5]);"
   ]
  },
  {
   "cell_type": "code",
   "execution_count": null,
   "metadata": {
    "id": "Nap-LX8BtL7U"
   },
   "outputs": [],
   "source": [
    "# top 5 shoe colors\n",
    "Black= df[df.prices_color ==\"Black\"]\n",
    "Grey= df[df.prices_color ==\"Gray\"]\n",
    "Taupe= df[df.prices_color ==\"Taupe\"]\n",
    "Navy= df[df.prices_color ==\"Navy\"]\n",
    "Brown=df[df.prices_color ==\"Brown\"]"
   ]
  },
  {
   "cell_type": "code",
   "execution_count": null,
   "metadata": {
    "colab": {
     "base_uri": "https://localhost:8080/"
    },
    "id": "KjQgOGZ_tMAT",
    "outputId": "48b9e81b-6c62-4356-8b22-bb6a381e2495"
   },
   "outputs": [],
   "source": [
    "#Black\n",
    "Black.brand.value_counts()"
   ]
  },
  {
   "cell_type": "code",
   "execution_count": null,
   "metadata": {
    "colab": {
     "base_uri": "https://localhost:8080/",
     "height": 299
    },
    "id": "yGVYrw_itMDA",
    "outputId": "0912986f-aeb7-4f56-83ed-7812e4ac7a91"
   },
   "outputs": [],
   "source": [
    "#Graph for Black color shoe collection - top 10 list\n",
    "Black['brand'].value_counts()[:10].plot(kind='barh')\n",
    "plt.title('Black color shoes data', fontsize = 20)\n",
    "plt.xlabel('Count', fontsize = 10)\n",
    "plt.ylabel('Brands', fontsize = 10)\n",
    "plt.show()"
   ]
  },
  {
   "cell_type": "markdown",
   "metadata": {
    "id": "58nb-7YTCMyW"
   },
   "source": [
    "The above shows black color shoes data.we can understand that the mostely used shoe color is black and also got that womens mostely used journee collection  black shoes"
   ]
  },
  {
   "cell_type": "markdown",
   "metadata": {
    "id": "Ov8ZKeky-H4O"
   },
   "source": [
    "# Category V/S Avg Price"
   ]
  },
  {
   "cell_type": "code",
   "execution_count": null,
   "metadata": {
    "colab": {
     "base_uri": "https://localhost:8080/"
    },
    "id": "g5mixAApvMax",
    "outputId": "16719603-05d7-4861-9994-4bbecd80f0b4"
   },
   "outputs": [],
   "source": [
    "av_price_category_wise = df.groupby(by='categories').mean()['prices_amount'].sort_values(ascending=False)\n",
    "av_price_category_wise"
   ]
  },
  {
   "cell_type": "code",
   "execution_count": null,
   "metadata": {
    "colab": {
     "base_uri": "https://localhost:8080/",
     "height": 366
    },
    "id": "_FGAZFY9vMoQ",
    "outputId": "44ca8591-87ab-4e1d-a5ca-bd2f00f15600"
   },
   "outputs": [],
   "source": [
    "plt.xticks(rotation=45)\n",
    "plt.title(\"Top 5 categories based on avg price\",fontsize=20)\n",
    "sns.barplot(av_price_category_wise[:5],av_price_category_wise[:5].index);"
   ]
  },
  {
   "cell_type": "markdown",
   "metadata": {
    "id": "Ccf9ZRDTDYee"
   },
   "source": [
    "From the above barplot,we can understand that 'Women's Red Wing Shoes,Women's Clothing,Women's Shoes'emerged as the top category based on avg price."
   ]
  },
  {
   "cell_type": "code",
   "execution_count": null,
   "metadata": {
    "colab": {
     "base_uri": "https://localhost:8080/"
    },
    "id": "TP0-31ZEvMq9",
    "outputId": "aa4c3798-701f-4ecb-f43c-fa4cca15ab95"
   },
   "outputs": [],
   "source": [
    "av_price_category_wise1 = df.groupby(by='categories').mean()['prices_amount'].sort_values(ascending=True)\n",
    "av_price_category_wise1"
   ]
  },
  {
   "cell_type": "code",
   "execution_count": null,
   "metadata": {
    "colab": {
     "base_uri": "https://localhost:8080/",
     "height": 361
    },
    "id": "1fV-0wQ_vMuQ",
    "outputId": "bb1cc635-1cd3-4013-bf8a-758a775b44f0"
   },
   "outputs": [],
   "source": [
    "plt.xticks(rotation=45)\n",
    "plt.title(\"Top 5 categories based on avg price\",fontsize=20)\n",
    "sns.barplot(av_price_category_wise1[:5],av_price_category_wise1[:5].index);"
   ]
  },
  {
   "cell_type": "markdown",
   "metadata": {
    "id": "oDauQhwgFobX"
   },
   "source": [
    "From the above barplot,we can understand that 'Clothing,Shoes,Womens Shoes,Womens Casual Shoes,Women's Shoes,Women's Casual Shoes,All Women's Shoes'emerged as the bottom category based on avg price."
   ]
  },
  {
   "cell_type": "markdown",
   "metadata": {
    "id": "5EoF_Qw_ZgZB"
   },
   "source": [
    "# Stock availability"
   ]
  },
  {
   "cell_type": "code",
   "execution_count": null,
   "metadata": {
    "colab": {
     "base_uri": "https://localhost:8080/"
    },
    "id": "p61qURoCkr3c",
    "outputId": "94eebc59-42f8-4730-aa41-be4e9b93037c"
   },
   "outputs": [],
   "source": [
    "df.prices_availability.value_counts()"
   ]
  },
  {
   "cell_type": "markdown",
   "metadata": {
    "id": "H_QainxYZxrl"
   },
   "source": [
    "After Assuming TRUE value  to be 'In stock',the availability of stock will be 406.Then the out of stock will be 28."
   ]
  },
  {
   "cell_type": "code",
   "execution_count": null,
   "metadata": {
    "id": "ayKxQpQDbmSH"
   },
   "outputs": [],
   "source": []
  }
 ],
 "metadata": {
  "colab": {
   "collapsed_sections": [],
   "name": "Project.ipynb",
   "provenance": []
  },
  "kernelspec": {
   "display_name": "Python 3",
   "language": "python",
   "name": "python3"
  },
  "language_info": {
   "codemirror_mode": {
    "name": "ipython",
    "version": 3
   },
   "file_extension": ".py",
   "mimetype": "text/x-python",
   "name": "python",
   "nbconvert_exporter": "python",
   "pygments_lexer": "ipython3",
   "version": "3.8.8"
  }
 },
 "nbformat": 4,
 "nbformat_minor": 1
}
