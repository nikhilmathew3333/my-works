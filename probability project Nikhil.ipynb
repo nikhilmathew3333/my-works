{
 "cells": [
  {
   "cell_type": "markdown",
   "id": "5f3de02d",
   "metadata": {},
   "source": [
    "# Case Study on Probability "
   ]
  },
  {
   "cell_type": "markdown",
   "id": "8ed63a44",
   "metadata": {},
   "source": [
    "# python libraries"
   ]
  },
  {
   "cell_type": "code",
   "execution_count": 1,
   "id": "b61dc382",
   "metadata": {},
   "outputs": [],
   "source": [
    "import numpy as np \n",
    "import pandas as pd \n",
    "import matplotlib.pyplot as plt\n",
    "import seaborn as sns"
   ]
  },
  {
   "cell_type": "markdown",
   "id": "8df4c081",
   "metadata": {},
   "source": [
    "# dataset to the python environment"
   ]
  },
  {
   "cell_type": "code",
   "execution_count": 3,
   "id": "22a9726b",
   "metadata": {},
   "outputs": [
    {
     "data": {
      "text/html": [
       "<div>\n",
       "<style scoped>\n",
       "    .dataframe tbody tr th:only-of-type {\n",
       "        vertical-align: middle;\n",
       "    }\n",
       "\n",
       "    .dataframe tbody tr th {\n",
       "        vertical-align: top;\n",
       "    }\n",
       "\n",
       "    .dataframe thead th {\n",
       "        text-align: right;\n",
       "    }\n",
       "</style>\n",
       "<table border=\"1\" class=\"dataframe\">\n",
       "  <thead>\n",
       "    <tr style=\"text-align: right;\">\n",
       "      <th></th>\n",
       "      <th>class</th>\n",
       "      <th>cap-shape</th>\n",
       "      <th>cap-surface</th>\n",
       "      <th>cap-color</th>\n",
       "      <th>bruises</th>\n",
       "      <th>odor</th>\n",
       "      <th>gill-attachment</th>\n",
       "      <th>gill-spacing</th>\n",
       "      <th>gill-size</th>\n",
       "      <th>gill-color</th>\n",
       "      <th>...</th>\n",
       "      <th>stalk-surface-below-ring</th>\n",
       "      <th>stalk-color-above-ring</th>\n",
       "      <th>stalk-color-below-ring</th>\n",
       "      <th>veil-type</th>\n",
       "      <th>veil-color</th>\n",
       "      <th>ring-number</th>\n",
       "      <th>ring-type</th>\n",
       "      <th>spore-print-color</th>\n",
       "      <th>population</th>\n",
       "      <th>habitat</th>\n",
       "    </tr>\n",
       "  </thead>\n",
       "  <tbody>\n",
       "    <tr>\n",
       "      <th>0</th>\n",
       "      <td>p</td>\n",
       "      <td>x</td>\n",
       "      <td>s</td>\n",
       "      <td>n</td>\n",
       "      <td>t</td>\n",
       "      <td>p</td>\n",
       "      <td>f</td>\n",
       "      <td>c</td>\n",
       "      <td>n</td>\n",
       "      <td>k</td>\n",
       "      <td>...</td>\n",
       "      <td>s</td>\n",
       "      <td>w</td>\n",
       "      <td>w</td>\n",
       "      <td>p</td>\n",
       "      <td>w</td>\n",
       "      <td>o</td>\n",
       "      <td>p</td>\n",
       "      <td>k</td>\n",
       "      <td>s</td>\n",
       "      <td>u</td>\n",
       "    </tr>\n",
       "    <tr>\n",
       "      <th>1</th>\n",
       "      <td>e</td>\n",
       "      <td>x</td>\n",
       "      <td>s</td>\n",
       "      <td>y</td>\n",
       "      <td>t</td>\n",
       "      <td>a</td>\n",
       "      <td>f</td>\n",
       "      <td>c</td>\n",
       "      <td>b</td>\n",
       "      <td>k</td>\n",
       "      <td>...</td>\n",
       "      <td>s</td>\n",
       "      <td>w</td>\n",
       "      <td>w</td>\n",
       "      <td>p</td>\n",
       "      <td>w</td>\n",
       "      <td>o</td>\n",
       "      <td>p</td>\n",
       "      <td>n</td>\n",
       "      <td>n</td>\n",
       "      <td>g</td>\n",
       "    </tr>\n",
       "    <tr>\n",
       "      <th>2</th>\n",
       "      <td>e</td>\n",
       "      <td>b</td>\n",
       "      <td>s</td>\n",
       "      <td>w</td>\n",
       "      <td>t</td>\n",
       "      <td>l</td>\n",
       "      <td>f</td>\n",
       "      <td>c</td>\n",
       "      <td>b</td>\n",
       "      <td>n</td>\n",
       "      <td>...</td>\n",
       "      <td>s</td>\n",
       "      <td>w</td>\n",
       "      <td>w</td>\n",
       "      <td>p</td>\n",
       "      <td>w</td>\n",
       "      <td>o</td>\n",
       "      <td>p</td>\n",
       "      <td>n</td>\n",
       "      <td>n</td>\n",
       "      <td>m</td>\n",
       "    </tr>\n",
       "    <tr>\n",
       "      <th>3</th>\n",
       "      <td>p</td>\n",
       "      <td>x</td>\n",
       "      <td>y</td>\n",
       "      <td>w</td>\n",
       "      <td>t</td>\n",
       "      <td>p</td>\n",
       "      <td>f</td>\n",
       "      <td>c</td>\n",
       "      <td>n</td>\n",
       "      <td>n</td>\n",
       "      <td>...</td>\n",
       "      <td>s</td>\n",
       "      <td>w</td>\n",
       "      <td>w</td>\n",
       "      <td>p</td>\n",
       "      <td>w</td>\n",
       "      <td>o</td>\n",
       "      <td>p</td>\n",
       "      <td>k</td>\n",
       "      <td>s</td>\n",
       "      <td>u</td>\n",
       "    </tr>\n",
       "    <tr>\n",
       "      <th>4</th>\n",
       "      <td>e</td>\n",
       "      <td>x</td>\n",
       "      <td>s</td>\n",
       "      <td>g</td>\n",
       "      <td>f</td>\n",
       "      <td>n</td>\n",
       "      <td>f</td>\n",
       "      <td>w</td>\n",
       "      <td>b</td>\n",
       "      <td>k</td>\n",
       "      <td>...</td>\n",
       "      <td>s</td>\n",
       "      <td>w</td>\n",
       "      <td>w</td>\n",
       "      <td>p</td>\n",
       "      <td>w</td>\n",
       "      <td>o</td>\n",
       "      <td>e</td>\n",
       "      <td>n</td>\n",
       "      <td>a</td>\n",
       "      <td>g</td>\n",
       "    </tr>\n",
       "  </tbody>\n",
       "</table>\n",
       "<p>5 rows × 23 columns</p>\n",
       "</div>"
      ],
      "text/plain": [
       "  class cap-shape cap-surface cap-color bruises odor gill-attachment  \\\n",
       "0     p         x           s         n       t    p               f   \n",
       "1     e         x           s         y       t    a               f   \n",
       "2     e         b           s         w       t    l               f   \n",
       "3     p         x           y         w       t    p               f   \n",
       "4     e         x           s         g       f    n               f   \n",
       "\n",
       "  gill-spacing gill-size gill-color  ... stalk-surface-below-ring  \\\n",
       "0            c         n          k  ...                        s   \n",
       "1            c         b          k  ...                        s   \n",
       "2            c         b          n  ...                        s   \n",
       "3            c         n          n  ...                        s   \n",
       "4            w         b          k  ...                        s   \n",
       "\n",
       "  stalk-color-above-ring stalk-color-below-ring veil-type veil-color  \\\n",
       "0                      w                      w         p          w   \n",
       "1                      w                      w         p          w   \n",
       "2                      w                      w         p          w   \n",
       "3                      w                      w         p          w   \n",
       "4                      w                      w         p          w   \n",
       "\n",
       "  ring-number ring-type spore-print-color population habitat  \n",
       "0           o         p                 k          s       u  \n",
       "1           o         p                 n          n       g  \n",
       "2           o         p                 n          n       m  \n",
       "3           o         p                 k          s       u  \n",
       "4           o         e                 n          a       g  \n",
       "\n",
       "[5 rows x 23 columns]"
      ]
     },
     "execution_count": 3,
     "metadata": {},
     "output_type": "execute_result"
    }
   ],
   "source": [
    "data1=pd.read_csv('mushrooms.csv')\n",
    "data1.head()"
   ]
  },
  {
   "cell_type": "code",
   "execution_count": 5,
   "id": "f755ffcf",
   "metadata": {},
   "outputs": [
    {
     "data": {
      "text/plain": [
       "(8124, 23)"
      ]
     },
     "execution_count": 5,
     "metadata": {},
     "output_type": "execute_result"
    }
   ],
   "source": [
    "data1.shape"
   ]
  },
  {
   "cell_type": "code",
   "execution_count": 6,
   "id": "c3e1ac7f",
   "metadata": {},
   "outputs": [
    {
     "name": "stdout",
     "output_type": "stream",
     "text": [
      "<class 'pandas.core.frame.DataFrame'>\n",
      "RangeIndex: 8124 entries, 0 to 8123\n",
      "Data columns (total 23 columns):\n",
      " #   Column                    Non-Null Count  Dtype \n",
      "---  ------                    --------------  ----- \n",
      " 0   class                     8124 non-null   object\n",
      " 1   cap-shape                 8124 non-null   object\n",
      " 2   cap-surface               8124 non-null   object\n",
      " 3   cap-color                 8124 non-null   object\n",
      " 4   bruises                   8124 non-null   object\n",
      " 5   odor                      8124 non-null   object\n",
      " 6   gill-attachment           8124 non-null   object\n",
      " 7   gill-spacing              8124 non-null   object\n",
      " 8   gill-size                 8124 non-null   object\n",
      " 9   gill-color                8124 non-null   object\n",
      " 10  stalk-shape               8124 non-null   object\n",
      " 11  stalk-root                8124 non-null   object\n",
      " 12  stalk-surface-above-ring  8124 non-null   object\n",
      " 13  stalk-surface-below-ring  8124 non-null   object\n",
      " 14  stalk-color-above-ring    8124 non-null   object\n",
      " 15  stalk-color-below-ring    8124 non-null   object\n",
      " 16  veil-type                 8124 non-null   object\n",
      " 17  veil-color                8124 non-null   object\n",
      " 18  ring-number               8124 non-null   object\n",
      " 19  ring-type                 8124 non-null   object\n",
      " 20  spore-print-color         8124 non-null   object\n",
      " 21  population                8124 non-null   object\n",
      " 22  habitat                   8124 non-null   object\n",
      "dtypes: object(23)\n",
      "memory usage: 1.4+ MB\n"
     ]
    }
   ],
   "source": [
    "data1.info()"
   ]
  },
  {
   "cell_type": "markdown",
   "id": "fefeb314",
   "metadata": {},
   "source": [
    "# checking null values"
   ]
  },
  {
   "cell_type": "code",
   "execution_count": 8,
   "id": "d06fbb49",
   "metadata": {},
   "outputs": [
    {
     "data": {
      "text/plain": [
       "class                       0\n",
       "cap-shape                   0\n",
       "cap-surface                 0\n",
       "cap-color                   0\n",
       "bruises                     0\n",
       "odor                        0\n",
       "gill-attachment             0\n",
       "gill-spacing                0\n",
       "gill-size                   0\n",
       "gill-color                  0\n",
       "stalk-shape                 0\n",
       "stalk-root                  0\n",
       "stalk-surface-above-ring    0\n",
       "stalk-surface-below-ring    0\n",
       "stalk-color-above-ring      0\n",
       "stalk-color-below-ring      0\n",
       "veil-type                   0\n",
       "veil-color                  0\n",
       "ring-number                 0\n",
       "ring-type                   0\n",
       "spore-print-color           0\n",
       "population                  0\n",
       "habitat                     0\n",
       "dtype: int64"
      ]
     },
     "execution_count": 8,
     "metadata": {},
     "output_type": "execute_result"
    }
   ],
   "source": [
    "data1.isna().sum()"
   ]
  },
  {
   "cell_type": "code",
   "execution_count": 9,
   "id": "ac16886d",
   "metadata": {},
   "outputs": [
    {
     "data": {
      "text/html": [
       "<div>\n",
       "<style scoped>\n",
       "    .dataframe tbody tr th:only-of-type {\n",
       "        vertical-align: middle;\n",
       "    }\n",
       "\n",
       "    .dataframe tbody tr th {\n",
       "        vertical-align: top;\n",
       "    }\n",
       "\n",
       "    .dataframe thead th {\n",
       "        text-align: right;\n",
       "    }\n",
       "</style>\n",
       "<table border=\"1\" class=\"dataframe\">\n",
       "  <thead>\n",
       "    <tr style=\"text-align: right;\">\n",
       "      <th></th>\n",
       "      <th>class</th>\n",
       "      <th>cap-shape</th>\n",
       "      <th>cap-surface</th>\n",
       "      <th>cap-color</th>\n",
       "      <th>bruises</th>\n",
       "      <th>odor</th>\n",
       "      <th>gill-attachment</th>\n",
       "      <th>gill-spacing</th>\n",
       "      <th>gill-size</th>\n",
       "      <th>gill-color</th>\n",
       "      <th>...</th>\n",
       "      <th>stalk-surface-below-ring</th>\n",
       "      <th>stalk-color-above-ring</th>\n",
       "      <th>stalk-color-below-ring</th>\n",
       "      <th>veil-type</th>\n",
       "      <th>veil-color</th>\n",
       "      <th>ring-number</th>\n",
       "      <th>ring-type</th>\n",
       "      <th>spore-print-color</th>\n",
       "      <th>population</th>\n",
       "      <th>habitat</th>\n",
       "    </tr>\n",
       "  </thead>\n",
       "  <tbody>\n",
       "    <tr>\n",
       "      <th>count</th>\n",
       "      <td>8124</td>\n",
       "      <td>8124</td>\n",
       "      <td>8124</td>\n",
       "      <td>8124</td>\n",
       "      <td>8124</td>\n",
       "      <td>8124</td>\n",
       "      <td>8124</td>\n",
       "      <td>8124</td>\n",
       "      <td>8124</td>\n",
       "      <td>8124</td>\n",
       "      <td>...</td>\n",
       "      <td>8124</td>\n",
       "      <td>8124</td>\n",
       "      <td>8124</td>\n",
       "      <td>8124</td>\n",
       "      <td>8124</td>\n",
       "      <td>8124</td>\n",
       "      <td>8124</td>\n",
       "      <td>8124</td>\n",
       "      <td>8124</td>\n",
       "      <td>8124</td>\n",
       "    </tr>\n",
       "    <tr>\n",
       "      <th>unique</th>\n",
       "      <td>2</td>\n",
       "      <td>6</td>\n",
       "      <td>4</td>\n",
       "      <td>10</td>\n",
       "      <td>2</td>\n",
       "      <td>9</td>\n",
       "      <td>2</td>\n",
       "      <td>2</td>\n",
       "      <td>2</td>\n",
       "      <td>12</td>\n",
       "      <td>...</td>\n",
       "      <td>4</td>\n",
       "      <td>9</td>\n",
       "      <td>9</td>\n",
       "      <td>1</td>\n",
       "      <td>4</td>\n",
       "      <td>3</td>\n",
       "      <td>5</td>\n",
       "      <td>9</td>\n",
       "      <td>6</td>\n",
       "      <td>7</td>\n",
       "    </tr>\n",
       "    <tr>\n",
       "      <th>top</th>\n",
       "      <td>e</td>\n",
       "      <td>x</td>\n",
       "      <td>y</td>\n",
       "      <td>n</td>\n",
       "      <td>f</td>\n",
       "      <td>n</td>\n",
       "      <td>f</td>\n",
       "      <td>c</td>\n",
       "      <td>b</td>\n",
       "      <td>b</td>\n",
       "      <td>...</td>\n",
       "      <td>s</td>\n",
       "      <td>w</td>\n",
       "      <td>w</td>\n",
       "      <td>p</td>\n",
       "      <td>w</td>\n",
       "      <td>o</td>\n",
       "      <td>p</td>\n",
       "      <td>w</td>\n",
       "      <td>v</td>\n",
       "      <td>d</td>\n",
       "    </tr>\n",
       "    <tr>\n",
       "      <th>freq</th>\n",
       "      <td>4208</td>\n",
       "      <td>3656</td>\n",
       "      <td>3244</td>\n",
       "      <td>2284</td>\n",
       "      <td>4748</td>\n",
       "      <td>3528</td>\n",
       "      <td>7914</td>\n",
       "      <td>6812</td>\n",
       "      <td>5612</td>\n",
       "      <td>1728</td>\n",
       "      <td>...</td>\n",
       "      <td>4936</td>\n",
       "      <td>4464</td>\n",
       "      <td>4384</td>\n",
       "      <td>8124</td>\n",
       "      <td>7924</td>\n",
       "      <td>7488</td>\n",
       "      <td>3968</td>\n",
       "      <td>2388</td>\n",
       "      <td>4040</td>\n",
       "      <td>3148</td>\n",
       "    </tr>\n",
       "  </tbody>\n",
       "</table>\n",
       "<p>4 rows × 23 columns</p>\n",
       "</div>"
      ],
      "text/plain": [
       "       class cap-shape cap-surface cap-color bruises  odor gill-attachment  \\\n",
       "count   8124      8124        8124      8124    8124  8124            8124   \n",
       "unique     2         6           4        10       2     9               2   \n",
       "top        e         x           y         n       f     n               f   \n",
       "freq    4208      3656        3244      2284    4748  3528            7914   \n",
       "\n",
       "       gill-spacing gill-size gill-color  ... stalk-surface-below-ring  \\\n",
       "count          8124      8124       8124  ...                     8124   \n",
       "unique            2         2         12  ...                        4   \n",
       "top               c         b          b  ...                        s   \n",
       "freq           6812      5612       1728  ...                     4936   \n",
       "\n",
       "       stalk-color-above-ring stalk-color-below-ring veil-type veil-color  \\\n",
       "count                    8124                   8124      8124       8124   \n",
       "unique                      9                      9         1          4   \n",
       "top                         w                      w         p          w   \n",
       "freq                     4464                   4384      8124       7924   \n",
       "\n",
       "       ring-number ring-type spore-print-color population habitat  \n",
       "count         8124      8124              8124       8124    8124  \n",
       "unique           3         5                 9          6       7  \n",
       "top              o         p                 w          v       d  \n",
       "freq          7488      3968              2388       4040    3148  \n",
       "\n",
       "[4 rows x 23 columns]"
      ]
     },
     "execution_count": 9,
     "metadata": {},
     "output_type": "execute_result"
    }
   ],
   "source": [
    "data1.describe()"
   ]
  },
  {
   "cell_type": "markdown",
   "id": "5f9155e2",
   "metadata": {},
   "source": [
    "# Preprocessing "
   ]
  },
  {
   "cell_type": "code",
   "execution_count": 11,
   "id": "b04db3e3",
   "metadata": {},
   "outputs": [],
   "source": [
    "#Label encoder\n",
    "from sklearn.preprocessing import LabelEncoder\n",
    "le=LabelEncoder()\n",
    "for column in data1.columns:\n",
    "   data1[column]=le.fit_transform(data1[column])"
   ]
  },
  {
   "cell_type": "code",
   "execution_count": 12,
   "id": "0dd12501",
   "metadata": {},
   "outputs": [
    {
     "data": {
      "text/html": [
       "<div>\n",
       "<style scoped>\n",
       "    .dataframe tbody tr th:only-of-type {\n",
       "        vertical-align: middle;\n",
       "    }\n",
       "\n",
       "    .dataframe tbody tr th {\n",
       "        vertical-align: top;\n",
       "    }\n",
       "\n",
       "    .dataframe thead th {\n",
       "        text-align: right;\n",
       "    }\n",
       "</style>\n",
       "<table border=\"1\" class=\"dataframe\">\n",
       "  <thead>\n",
       "    <tr style=\"text-align: right;\">\n",
       "      <th></th>\n",
       "      <th>class</th>\n",
       "      <th>cap-shape</th>\n",
       "      <th>cap-surface</th>\n",
       "      <th>cap-color</th>\n",
       "      <th>bruises</th>\n",
       "      <th>odor</th>\n",
       "      <th>gill-attachment</th>\n",
       "      <th>gill-spacing</th>\n",
       "      <th>gill-size</th>\n",
       "      <th>gill-color</th>\n",
       "      <th>...</th>\n",
       "      <th>stalk-surface-below-ring</th>\n",
       "      <th>stalk-color-above-ring</th>\n",
       "      <th>stalk-color-below-ring</th>\n",
       "      <th>veil-type</th>\n",
       "      <th>veil-color</th>\n",
       "      <th>ring-number</th>\n",
       "      <th>ring-type</th>\n",
       "      <th>spore-print-color</th>\n",
       "      <th>population</th>\n",
       "      <th>habitat</th>\n",
       "    </tr>\n",
       "  </thead>\n",
       "  <tbody>\n",
       "    <tr>\n",
       "      <th>0</th>\n",
       "      <td>1</td>\n",
       "      <td>5</td>\n",
       "      <td>2</td>\n",
       "      <td>4</td>\n",
       "      <td>1</td>\n",
       "      <td>6</td>\n",
       "      <td>1</td>\n",
       "      <td>0</td>\n",
       "      <td>1</td>\n",
       "      <td>4</td>\n",
       "      <td>...</td>\n",
       "      <td>2</td>\n",
       "      <td>7</td>\n",
       "      <td>7</td>\n",
       "      <td>0</td>\n",
       "      <td>2</td>\n",
       "      <td>1</td>\n",
       "      <td>4</td>\n",
       "      <td>2</td>\n",
       "      <td>3</td>\n",
       "      <td>5</td>\n",
       "    </tr>\n",
       "    <tr>\n",
       "      <th>1</th>\n",
       "      <td>0</td>\n",
       "      <td>5</td>\n",
       "      <td>2</td>\n",
       "      <td>9</td>\n",
       "      <td>1</td>\n",
       "      <td>0</td>\n",
       "      <td>1</td>\n",
       "      <td>0</td>\n",
       "      <td>0</td>\n",
       "      <td>4</td>\n",
       "      <td>...</td>\n",
       "      <td>2</td>\n",
       "      <td>7</td>\n",
       "      <td>7</td>\n",
       "      <td>0</td>\n",
       "      <td>2</td>\n",
       "      <td>1</td>\n",
       "      <td>4</td>\n",
       "      <td>3</td>\n",
       "      <td>2</td>\n",
       "      <td>1</td>\n",
       "    </tr>\n",
       "    <tr>\n",
       "      <th>2</th>\n",
       "      <td>0</td>\n",
       "      <td>0</td>\n",
       "      <td>2</td>\n",
       "      <td>8</td>\n",
       "      <td>1</td>\n",
       "      <td>3</td>\n",
       "      <td>1</td>\n",
       "      <td>0</td>\n",
       "      <td>0</td>\n",
       "      <td>5</td>\n",
       "      <td>...</td>\n",
       "      <td>2</td>\n",
       "      <td>7</td>\n",
       "      <td>7</td>\n",
       "      <td>0</td>\n",
       "      <td>2</td>\n",
       "      <td>1</td>\n",
       "      <td>4</td>\n",
       "      <td>3</td>\n",
       "      <td>2</td>\n",
       "      <td>3</td>\n",
       "    </tr>\n",
       "    <tr>\n",
       "      <th>3</th>\n",
       "      <td>1</td>\n",
       "      <td>5</td>\n",
       "      <td>3</td>\n",
       "      <td>8</td>\n",
       "      <td>1</td>\n",
       "      <td>6</td>\n",
       "      <td>1</td>\n",
       "      <td>0</td>\n",
       "      <td>1</td>\n",
       "      <td>5</td>\n",
       "      <td>...</td>\n",
       "      <td>2</td>\n",
       "      <td>7</td>\n",
       "      <td>7</td>\n",
       "      <td>0</td>\n",
       "      <td>2</td>\n",
       "      <td>1</td>\n",
       "      <td>4</td>\n",
       "      <td>2</td>\n",
       "      <td>3</td>\n",
       "      <td>5</td>\n",
       "    </tr>\n",
       "    <tr>\n",
       "      <th>4</th>\n",
       "      <td>0</td>\n",
       "      <td>5</td>\n",
       "      <td>2</td>\n",
       "      <td>3</td>\n",
       "      <td>0</td>\n",
       "      <td>5</td>\n",
       "      <td>1</td>\n",
       "      <td>1</td>\n",
       "      <td>0</td>\n",
       "      <td>4</td>\n",
       "      <td>...</td>\n",
       "      <td>2</td>\n",
       "      <td>7</td>\n",
       "      <td>7</td>\n",
       "      <td>0</td>\n",
       "      <td>2</td>\n",
       "      <td>1</td>\n",
       "      <td>0</td>\n",
       "      <td>3</td>\n",
       "      <td>0</td>\n",
       "      <td>1</td>\n",
       "    </tr>\n",
       "  </tbody>\n",
       "</table>\n",
       "<p>5 rows × 23 columns</p>\n",
       "</div>"
      ],
      "text/plain": [
       "   class  cap-shape  cap-surface  cap-color  bruises  odor  gill-attachment  \\\n",
       "0      1          5            2          4        1     6                1   \n",
       "1      0          5            2          9        1     0                1   \n",
       "2      0          0            2          8        1     3                1   \n",
       "3      1          5            3          8        1     6                1   \n",
       "4      0          5            2          3        0     5                1   \n",
       "\n",
       "   gill-spacing  gill-size  gill-color  ...  stalk-surface-below-ring  \\\n",
       "0             0          1           4  ...                         2   \n",
       "1             0          0           4  ...                         2   \n",
       "2             0          0           5  ...                         2   \n",
       "3             0          1           5  ...                         2   \n",
       "4             1          0           4  ...                         2   \n",
       "\n",
       "   stalk-color-above-ring  stalk-color-below-ring  veil-type  veil-color  \\\n",
       "0                       7                       7          0           2   \n",
       "1                       7                       7          0           2   \n",
       "2                       7                       7          0           2   \n",
       "3                       7                       7          0           2   \n",
       "4                       7                       7          0           2   \n",
       "\n",
       "   ring-number  ring-type  spore-print-color  population  habitat  \n",
       "0            1          4                  2           3        5  \n",
       "1            1          4                  3           2        1  \n",
       "2            1          4                  3           2        3  \n",
       "3            1          4                  2           3        5  \n",
       "4            1          0                  3           0        1  \n",
       "\n",
       "[5 rows x 23 columns]"
      ]
     },
     "execution_count": 12,
     "metadata": {},
     "output_type": "execute_result"
    }
   ],
   "source": [
    "data1.head()"
   ]
  },
  {
   "cell_type": "markdown",
   "id": "fc39ba2e",
   "metadata": {},
   "source": [
    "column values are converted to ordinal"
   ]
  },
  {
   "cell_type": "code",
   "execution_count": 13,
   "id": "7b427a15",
   "metadata": {},
   "outputs": [
    {
     "data": {
      "text/plain": [
       "0       0\n",
       "1       0\n",
       "2       0\n",
       "3       0\n",
       "4       0\n",
       "       ..\n",
       "8119    0\n",
       "8120    0\n",
       "8121    0\n",
       "8122    0\n",
       "8123    0\n",
       "Name: veil-type, Length: 8124, dtype: int32"
      ]
     },
     "execution_count": 13,
     "metadata": {},
     "output_type": "execute_result"
    }
   ],
   "source": [
    "data1['veil-type']"
   ]
  },
  {
   "cell_type": "code",
   "execution_count": 14,
   "id": "c04bcd39",
   "metadata": {},
   "outputs": [],
   "source": [
    "data1=data1.drop(['veil-type'],axis=1)"
   ]
  },
  {
   "cell_type": "code",
   "execution_count": 15,
   "id": "f75e4c9c",
   "metadata": {},
   "outputs": [],
   "source": [
    "x=data1.drop(['class'],axis=1)\n",
    "y=data1['class']"
   ]
  },
  {
   "cell_type": "code",
   "execution_count": 16,
   "id": "12e989d1",
   "metadata": {},
   "outputs": [],
   "source": [
    "from sklearn.preprocessing import StandardScaler\n",
    "scaler=StandardScaler()\n",
    "x=scaler.fit_transform(x)\n",
    "x=pd.DataFrame(x)"
   ]
  },
  {
   "cell_type": "code",
   "execution_count": 17,
   "id": "6a481cdc",
   "metadata": {},
   "outputs": [
    {
     "data": {
      "text/html": [
       "<div>\n",
       "<style scoped>\n",
       "    .dataframe tbody tr th:only-of-type {\n",
       "        vertical-align: middle;\n",
       "    }\n",
       "\n",
       "    .dataframe tbody tr th {\n",
       "        vertical-align: top;\n",
       "    }\n",
       "\n",
       "    .dataframe thead th {\n",
       "        text-align: right;\n",
       "    }\n",
       "</style>\n",
       "<table border=\"1\" class=\"dataframe\">\n",
       "  <thead>\n",
       "    <tr style=\"text-align: right;\">\n",
       "      <th></th>\n",
       "      <th>0</th>\n",
       "      <th>1</th>\n",
       "      <th>2</th>\n",
       "      <th>3</th>\n",
       "      <th>4</th>\n",
       "      <th>5</th>\n",
       "      <th>6</th>\n",
       "      <th>7</th>\n",
       "      <th>8</th>\n",
       "      <th>9</th>\n",
       "      <th>...</th>\n",
       "      <th>11</th>\n",
       "      <th>12</th>\n",
       "      <th>13</th>\n",
       "      <th>14</th>\n",
       "      <th>15</th>\n",
       "      <th>16</th>\n",
       "      <th>17</th>\n",
       "      <th>18</th>\n",
       "      <th>19</th>\n",
       "      <th>20</th>\n",
       "    </tr>\n",
       "  </thead>\n",
       "  <tbody>\n",
       "    <tr>\n",
       "      <th>count</th>\n",
       "      <td>8.124000e+03</td>\n",
       "      <td>8.124000e+03</td>\n",
       "      <td>8.124000e+03</td>\n",
       "      <td>8.124000e+03</td>\n",
       "      <td>8.124000e+03</td>\n",
       "      <td>8.124000e+03</td>\n",
       "      <td>8.124000e+03</td>\n",
       "      <td>8.124000e+03</td>\n",
       "      <td>8.124000e+03</td>\n",
       "      <td>8.124000e+03</td>\n",
       "      <td>...</td>\n",
       "      <td>8.124000e+03</td>\n",
       "      <td>8.124000e+03</td>\n",
       "      <td>8.124000e+03</td>\n",
       "      <td>8.124000e+03</td>\n",
       "      <td>8.124000e+03</td>\n",
       "      <td>8.124000e+03</td>\n",
       "      <td>8.124000e+03</td>\n",
       "      <td>8.124000e+03</td>\n",
       "      <td>8.124000e+03</td>\n",
       "      <td>8.124000e+03</td>\n",
       "    </tr>\n",
       "    <tr>\n",
       "      <th>mean</th>\n",
       "      <td>-5.423612e-15</td>\n",
       "      <td>4.217659e-17</td>\n",
       "      <td>4.423065e-15</td>\n",
       "      <td>-1.797258e-14</td>\n",
       "      <td>-3.590486e-15</td>\n",
       "      <td>-2.478055e-14</td>\n",
       "      <td>8.422977e-15</td>\n",
       "      <td>8.636999e-15</td>\n",
       "      <td>1.302651e-14</td>\n",
       "      <td>-6.287000e-15</td>\n",
       "      <td>...</td>\n",
       "      <td>5.016557e-15</td>\n",
       "      <td>1.023102e-15</td>\n",
       "      <td>1.695586e-14</td>\n",
       "      <td>-1.065692e-14</td>\n",
       "      <td>2.558990e-14</td>\n",
       "      <td>2.290006e-16</td>\n",
       "      <td>-2.067585e-14</td>\n",
       "      <td>5.804445e-14</td>\n",
       "      <td>-6.046588e-15</td>\n",
       "      <td>9.402621e-15</td>\n",
       "    </tr>\n",
       "    <tr>\n",
       "      <th>std</th>\n",
       "      <td>1.000062e+00</td>\n",
       "      <td>1.000062e+00</td>\n",
       "      <td>1.000062e+00</td>\n",
       "      <td>1.000062e+00</td>\n",
       "      <td>1.000062e+00</td>\n",
       "      <td>1.000062e+00</td>\n",
       "      <td>1.000062e+00</td>\n",
       "      <td>1.000062e+00</td>\n",
       "      <td>1.000062e+00</td>\n",
       "      <td>1.000062e+00</td>\n",
       "      <td>...</td>\n",
       "      <td>1.000062e+00</td>\n",
       "      <td>1.000062e+00</td>\n",
       "      <td>1.000062e+00</td>\n",
       "      <td>1.000062e+00</td>\n",
       "      <td>1.000062e+00</td>\n",
       "      <td>1.000062e+00</td>\n",
       "      <td>1.000062e+00</td>\n",
       "      <td>1.000062e+00</td>\n",
       "      <td>1.000062e+00</td>\n",
       "      <td>1.000062e+00</td>\n",
       "    </tr>\n",
       "    <tr>\n",
       "      <th>min</th>\n",
       "      <td>-2.087047e+00</td>\n",
       "      <td>-1.486157e+00</td>\n",
       "      <td>-1.769549e+00</td>\n",
       "      <td>-8.432296e-01</td>\n",
       "      <td>-1.970316e+00</td>\n",
       "      <td>-6.138869e+00</td>\n",
       "      <td>-4.388636e-01</td>\n",
       "      <td>-6.690383e-01</td>\n",
       "      <td>-1.358896e+00</td>\n",
       "      <td>-1.144806e+00</td>\n",
       "      <td>...</td>\n",
       "      <td>-2.534652e+00</td>\n",
       "      <td>-2.372490e+00</td>\n",
       "      <td>-3.058611e+00</td>\n",
       "      <td>-3.038361e+00</td>\n",
       "      <td>-8.100146e+00</td>\n",
       "      <td>-3.945519e+00</td>\n",
       "      <td>-1.272216e+00</td>\n",
       "      <td>-1.509643e+00</td>\n",
       "      <td>-2.910546e+00</td>\n",
       "      <td>-8.771691e-01</td>\n",
       "    </tr>\n",
       "    <tr>\n",
       "      <th>25%</th>\n",
       "      <td>-8.403434e-01</td>\n",
       "      <td>-1.486157e+00</td>\n",
       "      <td>-5.910746e-01</td>\n",
       "      <td>-8.432296e-01</td>\n",
       "      <td>-1.019565e+00</td>\n",
       "      <td>1.628965e-01</td>\n",
       "      <td>-4.388636e-01</td>\n",
       "      <td>-6.690383e-01</td>\n",
       "      <td>-7.939470e-01</td>\n",
       "      <td>-1.144806e+00</td>\n",
       "      <td>...</td>\n",
       "      <td>-9.254372e-01</td>\n",
       "      <td>-8.930529e-01</td>\n",
       "      <td>9.657680e-02</td>\n",
       "      <td>1.076554e-01</td>\n",
       "      <td>1.420366e-01</td>\n",
       "      <td>-2.561317e-01</td>\n",
       "      <td>-1.272216e+00</td>\n",
       "      <td>-6.701949e-01</td>\n",
       "      <td>-5.143892e-01</td>\n",
       "      <td>-8.771691e-01</td>\n",
       "    </tr>\n",
       "    <tr>\n",
       "      <th>50%</th>\n",
       "      <td>-2.169915e-01</td>\n",
       "      <td>1.401279e-01</td>\n",
       "      <td>-1.982498e-01</td>\n",
       "      <td>-8.432296e-01</td>\n",
       "      <td>4.065620e-01</td>\n",
       "      <td>1.628965e-01</td>\n",
       "      <td>-4.388636e-01</td>\n",
       "      <td>-6.690383e-01</td>\n",
       "      <td>5.347685e-02</td>\n",
       "      <td>8.735106e-01</td>\n",
       "      <td>...</td>\n",
       "      <td>6.837777e-01</td>\n",
       "      <td>5.863847e-01</td>\n",
       "      <td>6.224414e-01</td>\n",
       "      <td>6.319914e-01</td>\n",
       "      <td>1.420366e-01</td>\n",
       "      <td>-2.561317e-01</td>\n",
       "      <td>-1.620674e-01</td>\n",
       "      <td>-2.504706e-01</td>\n",
       "      <td>2.843298e-01</td>\n",
       "      <td>-2.957297e-01</td>\n",
       "    </tr>\n",
       "    <tr>\n",
       "      <th>75%</th>\n",
       "      <td>1.029712e+00</td>\n",
       "      <td>9.532704e-01</td>\n",
       "      <td>1.373049e+00</td>\n",
       "      <td>1.185917e+00</td>\n",
       "      <td>4.065620e-01</td>\n",
       "      <td>1.628965e-01</td>\n",
       "      <td>-4.388636e-01</td>\n",
       "      <td>1.494683e+00</td>\n",
       "      <td>6.184261e-01</td>\n",
       "      <td>8.735106e-01</td>\n",
       "      <td>...</td>\n",
       "      <td>6.837777e-01</td>\n",
       "      <td>5.863847e-01</td>\n",
       "      <td>6.224414e-01</td>\n",
       "      <td>6.319914e-01</td>\n",
       "      <td>1.420366e-01</td>\n",
       "      <td>-2.561317e-01</td>\n",
       "      <td>9.480809e-01</td>\n",
       "      <td>1.428426e+00</td>\n",
       "      <td>2.843298e-01</td>\n",
       "      <td>2.857098e-01</td>\n",
       "    </tr>\n",
       "    <tr>\n",
       "      <th>max</th>\n",
       "      <td>1.029712e+00</td>\n",
       "      <td>9.532704e-01</td>\n",
       "      <td>1.765874e+00</td>\n",
       "      <td>1.185917e+00</td>\n",
       "      <td>1.832689e+00</td>\n",
       "      <td>1.628965e-01</td>\n",
       "      <td>2.278612e+00</td>\n",
       "      <td>1.494683e+00</td>\n",
       "      <td>1.748325e+00</td>\n",
       "      <td>8.735106e-01</td>\n",
       "      <td>...</td>\n",
       "      <td>2.292993e+00</td>\n",
       "      <td>2.065822e+00</td>\n",
       "      <td>1.148306e+00</td>\n",
       "      <td>1.156327e+00</td>\n",
       "      <td>4.263128e+00</td>\n",
       "      <td>3.433255e+00</td>\n",
       "      <td>9.480809e-01</td>\n",
       "      <td>1.848151e+00</td>\n",
       "      <td>1.083049e+00</td>\n",
       "      <td>2.611468e+00</td>\n",
       "    </tr>\n",
       "  </tbody>\n",
       "</table>\n",
       "<p>8 rows × 21 columns</p>\n",
       "</div>"
      ],
      "text/plain": [
       "                 0             1             2             3             4   \\\n",
       "count  8.124000e+03  8.124000e+03  8.124000e+03  8.124000e+03  8.124000e+03   \n",
       "mean  -5.423612e-15  4.217659e-17  4.423065e-15 -1.797258e-14 -3.590486e-15   \n",
       "std    1.000062e+00  1.000062e+00  1.000062e+00  1.000062e+00  1.000062e+00   \n",
       "min   -2.087047e+00 -1.486157e+00 -1.769549e+00 -8.432296e-01 -1.970316e+00   \n",
       "25%   -8.403434e-01 -1.486157e+00 -5.910746e-01 -8.432296e-01 -1.019565e+00   \n",
       "50%   -2.169915e-01  1.401279e-01 -1.982498e-01 -8.432296e-01  4.065620e-01   \n",
       "75%    1.029712e+00  9.532704e-01  1.373049e+00  1.185917e+00  4.065620e-01   \n",
       "max    1.029712e+00  9.532704e-01  1.765874e+00  1.185917e+00  1.832689e+00   \n",
       "\n",
       "                 5             6             7             8             9   \\\n",
       "count  8.124000e+03  8.124000e+03  8.124000e+03  8.124000e+03  8.124000e+03   \n",
       "mean  -2.478055e-14  8.422977e-15  8.636999e-15  1.302651e-14 -6.287000e-15   \n",
       "std    1.000062e+00  1.000062e+00  1.000062e+00  1.000062e+00  1.000062e+00   \n",
       "min   -6.138869e+00 -4.388636e-01 -6.690383e-01 -1.358896e+00 -1.144806e+00   \n",
       "25%    1.628965e-01 -4.388636e-01 -6.690383e-01 -7.939470e-01 -1.144806e+00   \n",
       "50%    1.628965e-01 -4.388636e-01 -6.690383e-01  5.347685e-02  8.735106e-01   \n",
       "75%    1.628965e-01 -4.388636e-01  1.494683e+00  6.184261e-01  8.735106e-01   \n",
       "max    1.628965e-01  2.278612e+00  1.494683e+00  1.748325e+00  8.735106e-01   \n",
       "\n",
       "       ...            11            12            13            14  \\\n",
       "count  ...  8.124000e+03  8.124000e+03  8.124000e+03  8.124000e+03   \n",
       "mean   ...  5.016557e-15  1.023102e-15  1.695586e-14 -1.065692e-14   \n",
       "std    ...  1.000062e+00  1.000062e+00  1.000062e+00  1.000062e+00   \n",
       "min    ... -2.534652e+00 -2.372490e+00 -3.058611e+00 -3.038361e+00   \n",
       "25%    ... -9.254372e-01 -8.930529e-01  9.657680e-02  1.076554e-01   \n",
       "50%    ...  6.837777e-01  5.863847e-01  6.224414e-01  6.319914e-01   \n",
       "75%    ...  6.837777e-01  5.863847e-01  6.224414e-01  6.319914e-01   \n",
       "max    ...  2.292993e+00  2.065822e+00  1.148306e+00  1.156327e+00   \n",
       "\n",
       "                 15            16            17            18            19  \\\n",
       "count  8.124000e+03  8.124000e+03  8.124000e+03  8.124000e+03  8.124000e+03   \n",
       "mean   2.558990e-14  2.290006e-16 -2.067585e-14  5.804445e-14 -6.046588e-15   \n",
       "std    1.000062e+00  1.000062e+00  1.000062e+00  1.000062e+00  1.000062e+00   \n",
       "min   -8.100146e+00 -3.945519e+00 -1.272216e+00 -1.509643e+00 -2.910546e+00   \n",
       "25%    1.420366e-01 -2.561317e-01 -1.272216e+00 -6.701949e-01 -5.143892e-01   \n",
       "50%    1.420366e-01 -2.561317e-01 -1.620674e-01 -2.504706e-01  2.843298e-01   \n",
       "75%    1.420366e-01 -2.561317e-01  9.480809e-01  1.428426e+00  2.843298e-01   \n",
       "max    4.263128e+00  3.433255e+00  9.480809e-01  1.848151e+00  1.083049e+00   \n",
       "\n",
       "                 20  \n",
       "count  8.124000e+03  \n",
       "mean   9.402621e-15  \n",
       "std    1.000062e+00  \n",
       "min   -8.771691e-01  \n",
       "25%   -8.771691e-01  \n",
       "50%   -2.957297e-01  \n",
       "75%    2.857098e-01  \n",
       "max    2.611468e+00  \n",
       "\n",
       "[8 rows x 21 columns]"
      ]
     },
     "execution_count": 17,
     "metadata": {},
     "output_type": "execute_result"
    }
   ],
   "source": [
    "x.describe()"
   ]
  },
  {
   "cell_type": "code",
   "execution_count": 18,
   "id": "4a190e09",
   "metadata": {},
   "outputs": [],
   "source": [
    "\n",
    "from sklearn.preprocessing import Normalizer\n",
    "norm=Normalizer()\n",
    "x=norm.fit_transform(x)\n",
    "x=pd.DataFrame(x)"
   ]
  },
  {
   "cell_type": "code",
   "execution_count": 19,
   "id": "071d9b71",
   "metadata": {},
   "outputs": [
    {
     "data": {
      "text/html": [
       "<div>\n",
       "<style scoped>\n",
       "    .dataframe tbody tr th:only-of-type {\n",
       "        vertical-align: middle;\n",
       "    }\n",
       "\n",
       "    .dataframe tbody tr th {\n",
       "        vertical-align: top;\n",
       "    }\n",
       "\n",
       "    .dataframe thead th {\n",
       "        text-align: right;\n",
       "    }\n",
       "</style>\n",
       "<table border=\"1\" class=\"dataframe\">\n",
       "  <thead>\n",
       "    <tr style=\"text-align: right;\">\n",
       "      <th></th>\n",
       "      <th>0</th>\n",
       "      <th>1</th>\n",
       "      <th>2</th>\n",
       "      <th>3</th>\n",
       "      <th>4</th>\n",
       "      <th>5</th>\n",
       "      <th>6</th>\n",
       "      <th>7</th>\n",
       "      <th>8</th>\n",
       "      <th>9</th>\n",
       "      <th>...</th>\n",
       "      <th>11</th>\n",
       "      <th>12</th>\n",
       "      <th>13</th>\n",
       "      <th>14</th>\n",
       "      <th>15</th>\n",
       "      <th>16</th>\n",
       "      <th>17</th>\n",
       "      <th>18</th>\n",
       "      <th>19</th>\n",
       "      <th>20</th>\n",
       "    </tr>\n",
       "  </thead>\n",
       "  <tbody>\n",
       "    <tr>\n",
       "      <th>0</th>\n",
       "      <td>0.244678</td>\n",
       "      <td>0.033297</td>\n",
       "      <td>-0.047108</td>\n",
       "      <td>0.281795</td>\n",
       "      <td>0.209564</td>\n",
       "      <td>0.038707</td>\n",
       "      <td>-0.104282</td>\n",
       "      <td>0.355163</td>\n",
       "      <td>-0.054414</td>\n",
       "      <td>-0.272026</td>\n",
       "      <td>...</td>\n",
       "      <td>0.162478</td>\n",
       "      <td>0.139335</td>\n",
       "      <td>0.147903</td>\n",
       "      <td>0.150172</td>\n",
       "      <td>0.033750</td>\n",
       "      <td>-0.060861</td>\n",
       "      <td>0.225281</td>\n",
       "      <td>-0.159250</td>\n",
       "      <td>-0.122228</td>\n",
       "      <td>0.482371</td>\n",
       "    </tr>\n",
       "    <tr>\n",
       "      <th>1</th>\n",
       "      <td>0.252143</td>\n",
       "      <td>0.034313</td>\n",
       "      <td>0.432405</td>\n",
       "      <td>0.290392</td>\n",
       "      <td>-0.482466</td>\n",
       "      <td>0.039888</td>\n",
       "      <td>-0.107463</td>\n",
       "      <td>-0.163826</td>\n",
       "      <td>-0.056074</td>\n",
       "      <td>-0.280325</td>\n",
       "      <td>...</td>\n",
       "      <td>0.167435</td>\n",
       "      <td>0.143586</td>\n",
       "      <td>0.152416</td>\n",
       "      <td>0.154754</td>\n",
       "      <td>0.034780</td>\n",
       "      <td>-0.062718</td>\n",
       "      <td>0.232154</td>\n",
       "      <td>-0.061332</td>\n",
       "      <td>-0.321537</td>\n",
       "      <td>-0.072415</td>\n",
       "    </tr>\n",
       "    <tr>\n",
       "      <th>2</th>\n",
       "      <td>-0.525568</td>\n",
       "      <td>0.035288</td>\n",
       "      <td>0.345766</td>\n",
       "      <td>0.298642</td>\n",
       "      <td>-0.137040</td>\n",
       "      <td>0.041021</td>\n",
       "      <td>-0.110516</td>\n",
       "      <td>-0.168480</td>\n",
       "      <td>0.013467</td>\n",
       "      <td>-0.288289</td>\n",
       "      <td>...</td>\n",
       "      <td>0.172191</td>\n",
       "      <td>0.147665</td>\n",
       "      <td>0.156745</td>\n",
       "      <td>0.159150</td>\n",
       "      <td>0.035768</td>\n",
       "      <td>-0.064500</td>\n",
       "      <td>0.238749</td>\n",
       "      <td>-0.063074</td>\n",
       "      <td>-0.330672</td>\n",
       "      <td>0.218369</td>\n",
       "    </tr>\n",
       "    <tr>\n",
       "      <th>3</th>\n",
       "      <td>0.228002</td>\n",
       "      <td>0.211076</td>\n",
       "      <td>0.304025</td>\n",
       "      <td>0.262589</td>\n",
       "      <td>0.195281</td>\n",
       "      <td>0.036069</td>\n",
       "      <td>-0.097175</td>\n",
       "      <td>0.330957</td>\n",
       "      <td>0.011841</td>\n",
       "      <td>-0.253487</td>\n",
       "      <td>...</td>\n",
       "      <td>0.151404</td>\n",
       "      <td>0.129839</td>\n",
       "      <td>0.137823</td>\n",
       "      <td>0.139938</td>\n",
       "      <td>0.031450</td>\n",
       "      <td>-0.056714</td>\n",
       "      <td>0.209927</td>\n",
       "      <td>-0.148397</td>\n",
       "      <td>-0.113898</td>\n",
       "      <td>0.449495</td>\n",
       "    </tr>\n",
       "    <tr>\n",
       "      <th>4</th>\n",
       "      <td>0.210695</td>\n",
       "      <td>0.028672</td>\n",
       "      <td>-0.120943</td>\n",
       "      <td>-0.172538</td>\n",
       "      <td>0.083189</td>\n",
       "      <td>0.033331</td>\n",
       "      <td>0.466239</td>\n",
       "      <td>-0.136895</td>\n",
       "      <td>-0.046856</td>\n",
       "      <td>0.178734</td>\n",
       "      <td>...</td>\n",
       "      <td>0.139911</td>\n",
       "      <td>0.119983</td>\n",
       "      <td>0.127361</td>\n",
       "      <td>0.129315</td>\n",
       "      <td>0.029063</td>\n",
       "      <td>-0.052408</td>\n",
       "      <td>-0.260315</td>\n",
       "      <td>-0.051250</td>\n",
       "      <td>-0.595542</td>\n",
       "      <td>-0.060511</td>\n",
       "    </tr>\n",
       "  </tbody>\n",
       "</table>\n",
       "<p>5 rows × 21 columns</p>\n",
       "</div>"
      ],
      "text/plain": [
       "         0         1         2         3         4         5         6   \\\n",
       "0  0.244678  0.033297 -0.047108  0.281795  0.209564  0.038707 -0.104282   \n",
       "1  0.252143  0.034313  0.432405  0.290392 -0.482466  0.039888 -0.107463   \n",
       "2 -0.525568  0.035288  0.345766  0.298642 -0.137040  0.041021 -0.110516   \n",
       "3  0.228002  0.211076  0.304025  0.262589  0.195281  0.036069 -0.097175   \n",
       "4  0.210695  0.028672 -0.120943 -0.172538  0.083189  0.033331  0.466239   \n",
       "\n",
       "         7         8         9   ...        11        12        13        14  \\\n",
       "0  0.355163 -0.054414 -0.272026  ...  0.162478  0.139335  0.147903  0.150172   \n",
       "1 -0.163826 -0.056074 -0.280325  ...  0.167435  0.143586  0.152416  0.154754   \n",
       "2 -0.168480  0.013467 -0.288289  ...  0.172191  0.147665  0.156745  0.159150   \n",
       "3  0.330957  0.011841 -0.253487  ...  0.151404  0.129839  0.137823  0.139938   \n",
       "4 -0.136895 -0.046856  0.178734  ...  0.139911  0.119983  0.127361  0.129315   \n",
       "\n",
       "         15        16        17        18        19        20  \n",
       "0  0.033750 -0.060861  0.225281 -0.159250 -0.122228  0.482371  \n",
       "1  0.034780 -0.062718  0.232154 -0.061332 -0.321537 -0.072415  \n",
       "2  0.035768 -0.064500  0.238749 -0.063074 -0.330672  0.218369  \n",
       "3  0.031450 -0.056714  0.209927 -0.148397 -0.113898  0.449495  \n",
       "4  0.029063 -0.052408 -0.260315 -0.051250 -0.595542 -0.060511  \n",
       "\n",
       "[5 rows x 21 columns]"
      ]
     },
     "execution_count": 19,
     "metadata": {},
     "output_type": "execute_result"
    }
   ],
   "source": [
    "x.head()"
   ]
  },
  {
   "cell_type": "code",
   "execution_count": 20,
   "id": "16019f21",
   "metadata": {},
   "outputs": [],
   "source": [
    "from sklearn.model_selection import train_test_split\n",
    "x_train,x_test,y_train,y_test=train_test_split(x,y,test_size=0.25,random_state=42)"
   ]
  },
  {
   "cell_type": "code",
   "execution_count": 21,
   "id": "4024edab",
   "metadata": {},
   "outputs": [
    {
     "data": {
      "text/plain": [
       "(6093, 21)"
      ]
     },
     "execution_count": 21,
     "metadata": {},
     "output_type": "execute_result"
    }
   ],
   "source": [
    "x_train.shape"
   ]
  },
  {
   "cell_type": "code",
   "execution_count": 22,
   "id": "940761f4",
   "metadata": {},
   "outputs": [
    {
     "data": {
      "text/plain": [
       "(6093,)"
      ]
     },
     "execution_count": 22,
     "metadata": {},
     "output_type": "execute_result"
    }
   ],
   "source": [
    "y_train.shape"
   ]
  },
  {
   "cell_type": "code",
   "execution_count": 23,
   "id": "cd9a3a44",
   "metadata": {},
   "outputs": [
    {
     "data": {
      "text/plain": [
       "(2031, 21)"
      ]
     },
     "execution_count": 23,
     "metadata": {},
     "output_type": "execute_result"
    }
   ],
   "source": [
    "x_test.shape"
   ]
  },
  {
   "cell_type": "code",
   "execution_count": 24,
   "id": "d2e0ed22",
   "metadata": {},
   "outputs": [
    {
     "data": {
      "text/plain": [
       "(2031,)"
      ]
     },
     "execution_count": 24,
     "metadata": {},
     "output_type": "execute_result"
    }
   ],
   "source": [
    "y_test.shape"
   ]
  },
  {
   "cell_type": "code",
   "execution_count": 25,
   "id": "fb6d9b56",
   "metadata": {},
   "outputs": [],
   "source": [
    "from sklearn.linear_model import LogisticRegression\n",
    "logit_model=LogisticRegression()\n",
    "logit_model.fit(x_train,y_train)\n",
    "y_pred_lr=logit_model.predict(x_test)"
   ]
  },
  {
   "cell_type": "code",
   "execution_count": 26,
   "id": "39edfb87",
   "metadata": {},
   "outputs": [],
   "source": [
    "from sklearn.metrics import confusion_matrix,accuracy_score,precision_score,recall_score,f1_score,classification_report"
   ]
  },
  {
   "cell_type": "code",
   "execution_count": 27,
   "id": "743b60db",
   "metadata": {},
   "outputs": [
    {
     "name": "stdout",
     "output_type": "stream",
     "text": [
      "Logistic regression Classifier report: \n",
      "\n",
      "               precision    recall  f1-score   support\n",
      "\n",
      "           0       0.94      0.95      0.95      1040\n",
      "           1       0.95      0.94      0.95       991\n",
      "\n",
      "    accuracy                           0.95      2031\n",
      "   macro avg       0.95      0.95      0.95      2031\n",
      "weighted avg       0.95      0.95      0.95      2031\n",
      "\n"
     ]
    }
   ],
   "source": [
    "print(\"Logistic regression Classifier report: \\n\\n\", classification_report(y_test, y_pred_lr))"
   ]
  },
  {
   "cell_type": "code",
   "execution_count": 28,
   "id": "e07ef676",
   "metadata": {},
   "outputs": [
    {
     "data": {
      "text/plain": [
       "array([[990,  50],\n",
       "       [ 58, 933]], dtype=int64)"
      ]
     },
     "execution_count": 28,
     "metadata": {},
     "output_type": "execute_result"
    }
   ],
   "source": [
    " confusion_matrix(y_test, y_pred_lr)"
   ]
  },
  {
   "cell_type": "markdown",
   "id": "0c04e607",
   "metadata": {},
   "source": [
    "# KNN"
   ]
  },
  {
   "cell_type": "code",
   "execution_count": 29,
   "id": "d768d57f",
   "metadata": {},
   "outputs": [],
   "source": [
    "from sklearn.neighbors import KNeighborsClassifier\n",
    "acc_values=[]\n",
    "neighbors=np.arange(3,15)\n",
    "for k in neighbors:\n",
    "    classifier=KNeighborsClassifier(n_neighbors=k,metric='minkowski')\n",
    "    classifier.fit(x_train,y_train)\n",
    "    y_pred_kn=classifier.predict(x_test)\n",
    "    acc=accuracy_score(y_test,y_pred_kn)\n",
    "    acc_values.append(acc)"
   ]
  },
  {
   "cell_type": "code",
   "execution_count": 30,
   "id": "688aa467",
   "metadata": {},
   "outputs": [
    {
     "data": {
      "text/plain": [
       "[1.0,\n",
       " 1.0,\n",
       " 1.0,\n",
       " 1.0,\n",
       " 1.0,\n",
       " 1.0,\n",
       " 1.0,\n",
       " 1.0,\n",
       " 1.0,\n",
       " 0.999015263417036,\n",
       " 0.999015263417036,\n",
       " 0.999015263417036]"
      ]
     },
     "execution_count": 30,
     "metadata": {},
     "output_type": "execute_result"
    }
   ],
   "source": [
    "acc_values"
   ]
  },
  {
   "cell_type": "code",
   "execution_count": 31,
   "id": "a47e0fa3",
   "metadata": {},
   "outputs": [
    {
     "data": {
      "text/plain": [
       "Text(0, 0.5, 'accuracy')"
      ]
     },
     "execution_count": 31,
     "metadata": {},
     "output_type": "execute_result"
    },
    {
     "data": {
      "image/png": "[encoded data removed]",
      "text/plain": [
       "<Figure size 432x288 with 1 Axes>"
      ]
     },
     "metadata": {
      "needs_background": "light"
     },
     "output_type": "display_data"
    }
   ],
   "source": [
    "plt.plot(neighbors,acc_values,'o-')\n",
    "plt.xlabel('k value')\n",
    "plt.ylabel('accuracy')"
   ]
  },
  {
   "cell_type": "code",
   "execution_count": 32,
   "id": "ea665ec3",
   "metadata": {},
   "outputs": [],
   "source": [
    "classifier=KNeighborsClassifier(n_neighbors=4,metric='minkowski')\n",
    "classifier.fit(x_train,y_train)\n",
    "y_pred_kn=classifier.predict(x_test)"
   ]
  },
  {
   "cell_type": "code",
   "execution_count": 33,
   "id": "31007cfe",
   "metadata": {},
   "outputs": [
    {
     "name": "stdout",
     "output_type": "stream",
     "text": [
      "KNN Classifier report: \n",
      "\n",
      "               precision    recall  f1-score   support\n",
      "\n",
      "           0       1.00      1.00      1.00      1040\n",
      "           1       1.00      1.00      1.00       991\n",
      "\n",
      "    accuracy                           1.00      2031\n",
      "   macro avg       1.00      1.00      1.00      2031\n",
      "weighted avg       1.00      1.00      1.00      2031\n",
      "\n"
     ]
    }
   ],
   "source": [
    "print(\"KNN Classifier report: \\n\\n\", classification_report(y_test, y_pred_kn))"
   ]
  },
  {
   "cell_type": "code",
   "execution_count": 34,
   "id": "5ce1183f",
   "metadata": {},
   "outputs": [
    {
     "data": {
      "text/plain": [
       "array([[1040,    0],\n",
       "       [   0,  991]], dtype=int64)"
      ]
     },
     "execution_count": 34,
     "metadata": {},
     "output_type": "execute_result"
    }
   ],
   "source": [
    "confusion_matrix(y_test, y_pred_kn)"
   ]
  },
  {
   "cell_type": "markdown",
   "id": "e9d0003c",
   "metadata": {},
   "source": [
    "# SVM"
   ]
  },
  {
   "cell_type": "code",
   "execution_count": 35,
   "id": "474864ac",
   "metadata": {},
   "outputs": [],
   "source": [
    "from sklearn.svm import SVC\n",
    "svm = SVC(random_state=42,kernel='linear')\n",
    "svm.fit(x_train, y_train)\n",
    "y_pred_svm=svm.predict(x_test)"
   ]
  },
  {
   "cell_type": "code",
   "execution_count": 36,
   "id": "d1b92eb1",
   "metadata": {},
   "outputs": [
    {
     "name": "stdout",
     "output_type": "stream",
     "text": [
      "SVM Classifier report: \n",
      "\n",
      "               precision    recall  f1-score   support\n",
      "\n",
      "           0       0.97      0.96      0.96      1040\n",
      "           1       0.95      0.97      0.96       991\n",
      "\n",
      "    accuracy                           0.96      2031\n",
      "   macro avg       0.96      0.96      0.96      2031\n",
      "weighted avg       0.96      0.96      0.96      2031\n",
      "\n"
     ]
    }
   ],
   "source": [
    "print(\"SVM Classifier report: \\n\\n\", classification_report(y_test, y_pred_svm))"
   ]
  },
  {
   "cell_type": "code",
   "execution_count": 37,
   "id": "073b530c",
   "metadata": {},
   "outputs": [
    {
     "data": {
      "text/plain": [
       "array([[994,  46],\n",
       "       [ 33, 958]], dtype=int64)"
      ]
     },
     "execution_count": 37,
     "metadata": {},
     "output_type": "execute_result"
    }
   ],
   "source": [
    "confusion_matrix(y_test, y_pred_svm)"
   ]
  },
  {
   "cell_type": "markdown",
   "id": "ed867489",
   "metadata": {},
   "source": [
    "# DECISION TREE"
   ]
  },
  {
   "cell_type": "code",
   "execution_count": 38,
   "id": "056a3e79",
   "metadata": {},
   "outputs": [],
   "source": [
    "from sklearn.tree import DecisionTreeClassifier\n",
    "dt = DecisionTreeClassifier()\n",
    "dt.fit(x_train, y_train)\n",
    "y_pred_dt=dt.predict(x_test)"
   ]
  },
  {
   "cell_type": "code",
   "execution_count": 39,
   "id": "bcc1cba5",
   "metadata": {},
   "outputs": [
    {
     "name": "stdout",
     "output_type": "stream",
     "text": [
      "Decision Tree Classifier report: \n",
      "\n",
      "               precision    recall  f1-score   support\n",
      "\n",
      "           0       1.00      1.00      1.00      1040\n",
      "           1       1.00      1.00      1.00       991\n",
      "\n",
      "    accuracy                           1.00      2031\n",
      "   macro avg       1.00      1.00      1.00      2031\n",
      "weighted avg       1.00      1.00      1.00      2031\n",
      "\n"
     ]
    }
   ],
   "source": [
    "print(\"Decision Tree Classifier report: \\n\\n\", classification_report(y_test, y_pred_dt))"
   ]
  },
  {
   "cell_type": "code",
   "execution_count": 40,
   "id": "01914734",
   "metadata": {},
   "outputs": [
    {
     "data": {
      "text/plain": [
       "array([[1037,    3],\n",
       "       [   2,  989]], dtype=int64)"
      ]
     },
     "execution_count": 40,
     "metadata": {},
     "output_type": "execute_result"
    }
   ],
   "source": [
    "confusion_matrix(y_test,y_pred_dt)"
   ]
  },
  {
   "cell_type": "markdown",
   "id": "ac46ad05",
   "metadata": {},
   "source": [
    "# RANDOM FOREST"
   ]
  },
  {
   "cell_type": "code",
   "execution_count": 41,
   "id": "e7410843",
   "metadata": {},
   "outputs": [],
   "source": [
    "\n",
    "from sklearn.ensemble import RandomForestClassifier\n",
    "rf = RandomForestClassifier(n_estimators=100, random_state=42)\n",
    "rf.fit(x_train, y_train)\n",
    "y_pred_rf=rf.predict(x_test)"
   ]
  },
  {
   "cell_type": "code",
   "execution_count": 42,
   "id": "2a32341a",
   "metadata": {},
   "outputs": [
    {
     "name": "stdout",
     "output_type": "stream",
     "text": [
      "Random forest Classifier report: \n",
      "\n",
      "               precision    recall  f1-score   support\n",
      "\n",
      "           0       1.00      1.00      1.00      1040\n",
      "           1       1.00      1.00      1.00       991\n",
      "\n",
      "    accuracy                           1.00      2031\n",
      "   macro avg       1.00      1.00      1.00      2031\n",
      "weighted avg       1.00      1.00      1.00      2031\n",
      "\n"
     ]
    }
   ],
   "source": [
    "print(\"Random forest Classifier report: \\n\\n\", classification_report(y_test, y_pred_rf))"
   ]
  },
  {
   "cell_type": "code",
   "execution_count": 43,
   "id": "6db44c4b",
   "metadata": {},
   "outputs": [
    {
     "data": {
      "text/plain": [
       "array([[1040,    0],\n",
       "       [   0,  991]], dtype=int64)"
      ]
     },
     "execution_count": 43,
     "metadata": {},
     "output_type": "execute_result"
    }
   ],
   "source": [
    "confusion_matrix(y_test,y_pred_rf)"
   ]
  },
  {
   "cell_type": "markdown",
   "id": "55e82fe0",
   "metadata": {},
   "source": [
    "# Naive Bayes Classification"
   ]
  },
  {
   "cell_type": "code",
   "execution_count": 44,
   "id": "bc5942fa",
   "metadata": {},
   "outputs": [
    {
     "data": {
      "text/plain": [
       "array([0, 1, 1, ..., 0, 0, 1])"
      ]
     },
     "execution_count": 44,
     "metadata": {},
     "output_type": "execute_result"
    }
   ],
   "source": [
    "from sklearn.naive_bayes import GaussianNB\n",
    "classifier=GaussianNB()\n",
    "classifier.fit(x_train,y_train)\n",
    "y_pred_Gu=classifier.predict(x_test)\n",
    "y_pred_Gu"
   ]
  },
  {
   "cell_type": "code",
   "execution_count": 45,
   "id": "651b8a52",
   "metadata": {},
   "outputs": [
    {
     "data": {
      "text/plain": [
       "array([[985,  55],\n",
       "       [ 71, 920]], dtype=int64)"
      ]
     },
     "execution_count": 45,
     "metadata": {},
     "output_type": "execute_result"
    }
   ],
   "source": [
    "confusion_matrix(y_test,y_pred_Gu)"
   ]
  },
  {
   "cell_type": "code",
   "execution_count": 46,
   "id": "ecaf07a7",
   "metadata": {},
   "outputs": [
    {
     "data": {
      "text/plain": [
       "0.9379615952732644"
      ]
     },
     "execution_count": 46,
     "metadata": {},
     "output_type": "execute_result"
    }
   ],
   "source": [
    "accuracy_score(y_test,y_pred_Gu)"
   ]
  },
  {
   "cell_type": "markdown",
   "id": "bc23e5fb",
   "metadata": {},
   "source": [
    "# RESULT"
   ]
  },
  {
   "cell_type": "markdown",
   "id": "10342073",
   "metadata": {},
   "source": [
    "From the confusion matrix,our train and test data is balanced.Most of the classification methods hit 100% accuracy with this dataset.From the methods,KNN and Random forest are the best models compared to other models. is there any misclassification in the case of KNN and Random forest.They have also 100% accuracy."
   ]
  },
  {
   "cell_type": "markdown",
   "id": "e26465b4",
   "metadata": {},
   "source": [
    "# Attribute Information"
   ]
  },
  {
   "cell_type": "markdown",
   "id": "c65583f4",
   "metadata": {},
   "source": [
    "• cap-shape: bell=b, conical=c, convex=x, flat=f, knobbed=k, sunken=s\n",
    "\n",
    "• cap-surface: fibrous=f, grooves=g, scaly=y, smooth=s\n",
    "\n",
    "• cap-colour: brown=n, buff=b, cinnamon=c, Gray=g, green=r, pink=p, purple=u,red=e, white=w, yellow=y\n",
    "\n",
    "• bruises: bruises=t, no=f \n",
    "\n",
    "• odour: almond=a, anise=l, creosote=c, fishy=y, foul=f, musty=m, none=n,pungent=p, spicy=s \n",
    "\n",
    "• gill-attachment: attached=a, descending=d, free=f, notched=n \n",
    "\n",
    "• gill-spacing: close=c, crowded=w, distant=d \n",
    "\n",
    "• gill-size: broad=b, narrow=n \n",
    "\n",
    "• gill-colour: black=k, brown=n, buff=b, chocolate=h, grey=g, green=r, orange=o, pink=p, purple=u, red=e, white=w, yellow=y \n",
    "\n",
    "• stalk-shape: enlarging=e, tapering=t \n",
    "\n",
    "• Stalk-root: bulbous=b, club=c, cup=u, equal=e, rhizomorphs=z, rooted=r, missing=? \n",
    "\n",
    "• stalk-surface-above-ring: fibrous=f, scaly=y, silky=k, smooth=s \n",
    "\n",
    "• stalk-surface-below-ring: fibrous=f, scaly=y, silky=k, smooth=s \n",
    "\n",
    "• stalk-colour-above-ring: brown=n, buff=b, cinnamon=c, gray=g, orange=o,pink=p, red=e, white=w, yellow=y \n",
    "\n",
    "• stalk-colour-below-ring: brown=n, buff=b, cinnamon=c, gray=g, orange=o,pink=p, red=e, white=w, yellow=y \n",
    "\n",
    "• veil-type: partial=p, universal=u \n",
    "\n",
    "• veil-colour: brown=n, orange=o, white=w, yellow=y \n",
    "\n",
    "• ring-number: none=n, one=o, two=t \n",
    "\n",
    "• ring-type: cobwebby=c, evanescent=e, flaring=f, large=l, none=n, pendant=p,sheathing=s, zone=z \n",
    "\n",
    "• spore-print-colour: black=k, brown=n, buff=b, chocolate=h, green=r, orange=o,purple=u, white=w, yellow=y \n",
    "\n",
    "• population: abundant=a, clustered=c, numerous=n, scattered=s, several=v,solitary=y \n",
    "\n",
    "• habitat: grasses=g, leaves=l, meadows=m, paths=p, urban=u, waste=w,\n",
    "woods=d "
   ]
  },
  {
   "cell_type": "code",
   "execution_count": null,
   "id": "9f357267",
   "metadata": {},
   "outputs": [],
   "source": []
  }
 ],
 "metadata": {
  "kernelspec": {
   "display_name": "Python 3",
   "language": "python",
   "name": "python3"
  },
  "language_info": {
   "codemirror_mode": {
    "name": "ipython",
    "version": 3
   },
   "file_extension": ".py",
   "mimetype": "text/x-python",
   "name": "python",
   "nbconvert_exporter": "python",
   "pygments_lexer": "ipython3",
   "version": "3.8.8"
  }
 },
 "nbformat": 4,
 "nbformat_minor": 5
}
