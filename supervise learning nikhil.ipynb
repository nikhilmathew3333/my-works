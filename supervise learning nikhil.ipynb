{
 "cells": [
  {
   "cell_type": "code",
   "execution_count": 67,
   "id": "06e0639f",
   "metadata": {},
   "outputs": [],
   "source": [
    "import pandas as pd\n",
    "import numpy as np\n",
    "import matplotlib.pyplot as plt\n",
    "import seaborn as sns"
   ]
  },
  {
   "cell_type": "code",
   "execution_count": 9,
   "id": "535b3691",
   "metadata": {},
   "outputs": [],
   "source": [
    "ir_data=pd.read_excel('iris.xls')\n"
   ]
  },
  {
   "cell_type": "markdown",
   "id": "61bef35a",
   "metadata": {},
   "source": [
    "# basic info"
   ]
  },
  {
   "cell_type": "code",
   "execution_count": 14,
   "id": "ce57440f",
   "metadata": {},
   "outputs": [
    {
     "data": {
      "text/html": [
       "<div>\n",
       "<style scoped>\n",
       "    .dataframe tbody tr th:only-of-type {\n",
       "        vertical-align: middle;\n",
       "    }\n",
       "\n",
       "    .dataframe tbody tr th {\n",
       "        vertical-align: top;\n",
       "    }\n",
       "\n",
       "    .dataframe thead th {\n",
       "        text-align: right;\n",
       "    }\n",
       "</style>\n",
       "<table border=\"1\" class=\"dataframe\">\n",
       "  <thead>\n",
       "    <tr style=\"text-align: right;\">\n",
       "      <th></th>\n",
       "      <th>SL</th>\n",
       "      <th>SW</th>\n",
       "      <th>PL</th>\n",
       "      <th>PW</th>\n",
       "      <th>Classification</th>\n",
       "    </tr>\n",
       "  </thead>\n",
       "  <tbody>\n",
       "    <tr>\n",
       "      <th>0</th>\n",
       "      <td>5.1</td>\n",
       "      <td>3.5</td>\n",
       "      <td>1.4</td>\n",
       "      <td>0.2</td>\n",
       "      <td>Iris-setosa</td>\n",
       "    </tr>\n",
       "    <tr>\n",
       "      <th>1</th>\n",
       "      <td>4.9</td>\n",
       "      <td>3.0</td>\n",
       "      <td>1.4</td>\n",
       "      <td>0.2</td>\n",
       "      <td>Iris-setosa</td>\n",
       "    </tr>\n",
       "    <tr>\n",
       "      <th>2</th>\n",
       "      <td>NaN</td>\n",
       "      <td>3.2</td>\n",
       "      <td>1.3</td>\n",
       "      <td>0.2</td>\n",
       "      <td>Iris-setosa</td>\n",
       "    </tr>\n",
       "    <tr>\n",
       "      <th>3</th>\n",
       "      <td>4.6</td>\n",
       "      <td>3.1</td>\n",
       "      <td>1.5</td>\n",
       "      <td>0.2</td>\n",
       "      <td>Iris-setosa</td>\n",
       "    </tr>\n",
       "    <tr>\n",
       "      <th>4</th>\n",
       "      <td>5.0</td>\n",
       "      <td>3.6</td>\n",
       "      <td>1.4</td>\n",
       "      <td>0.2</td>\n",
       "      <td>Iris-setosa</td>\n",
       "    </tr>\n",
       "    <tr>\n",
       "      <th>5</th>\n",
       "      <td>5.4</td>\n",
       "      <td>3.9</td>\n",
       "      <td>1.7</td>\n",
       "      <td>0.4</td>\n",
       "      <td>Iris-setosa</td>\n",
       "    </tr>\n",
       "    <tr>\n",
       "      <th>6</th>\n",
       "      <td>4.6</td>\n",
       "      <td>3.4</td>\n",
       "      <td>1.4</td>\n",
       "      <td>0.3</td>\n",
       "      <td>Iris-setosa</td>\n",
       "    </tr>\n",
       "    <tr>\n",
       "      <th>7</th>\n",
       "      <td>5.0</td>\n",
       "      <td>3.4</td>\n",
       "      <td>1.5</td>\n",
       "      <td>0.2</td>\n",
       "      <td>Iris-setosa</td>\n",
       "    </tr>\n",
       "    <tr>\n",
       "      <th>8</th>\n",
       "      <td>4.4</td>\n",
       "      <td>2.9</td>\n",
       "      <td>1.4</td>\n",
       "      <td>0.2</td>\n",
       "      <td>Iris-setosa</td>\n",
       "    </tr>\n",
       "    <tr>\n",
       "      <th>9</th>\n",
       "      <td>4.9</td>\n",
       "      <td>3.1</td>\n",
       "      <td>1.5</td>\n",
       "      <td>0.1</td>\n",
       "      <td>Iris-setosa</td>\n",
       "    </tr>\n",
       "  </tbody>\n",
       "</table>\n",
       "</div>"
      ],
      "text/plain": [
       "    SL   SW   PL   PW Classification\n",
       "0  5.1  3.5  1.4  0.2    Iris-setosa\n",
       "1  4.9  3.0  1.4  0.2    Iris-setosa\n",
       "2  NaN  3.2  1.3  0.2    Iris-setosa\n",
       "3  4.6  3.1  1.5  0.2    Iris-setosa\n",
       "4  5.0  3.6  1.4  0.2    Iris-setosa\n",
       "5  5.4  3.9  1.7  0.4    Iris-setosa\n",
       "6  4.6  3.4  1.4  0.3    Iris-setosa\n",
       "7  5.0  3.4  1.5  0.2    Iris-setosa\n",
       "8  4.4  2.9  1.4  0.2    Iris-setosa\n",
       "9  4.9  3.1  1.5  0.1    Iris-setosa"
      ]
     },
     "execution_count": 14,
     "metadata": {},
     "output_type": "execute_result"
    }
   ],
   "source": [
    "ir_data.head(10)"
   ]
  },
  {
   "cell_type": "code",
   "execution_count": 6,
   "id": "e876f230",
   "metadata": {},
   "outputs": [
    {
     "name": "stdout",
     "output_type": "stream",
     "text": [
      "<class 'pandas.core.frame.DataFrame'>\n",
      "RangeIndex: 150 entries, 0 to 149\n",
      "Data columns (total 5 columns):\n",
      " #   Column          Non-Null Count  Dtype  \n",
      "---  ------          --------------  -----  \n",
      " 0   SL              143 non-null    float64\n",
      " 1   SW              144 non-null    float64\n",
      " 2   PL              144 non-null    float64\n",
      " 3   PW              150 non-null    float64\n",
      " 4   Classification  150 non-null    object \n",
      "dtypes: float64(4), object(1)\n",
      "memory usage: 6.0+ KB\n"
     ]
    }
   ],
   "source": [
    "ir_data.info()"
   ]
  },
  {
   "cell_type": "code",
   "execution_count": 7,
   "id": "73013ba9",
   "metadata": {},
   "outputs": [
    {
     "data": {
      "text/plain": [
       "<bound method DataFrame.info of       SL   SW   PL   PW  Classification\n",
       "0    5.1  3.5  1.4  0.2     Iris-setosa\n",
       "1    4.9  3.0  1.4  0.2     Iris-setosa\n",
       "2    NaN  3.2  1.3  0.2     Iris-setosa\n",
       "3    4.6  3.1  1.5  0.2     Iris-setosa\n",
       "4    5.0  3.6  1.4  0.2     Iris-setosa\n",
       "..   ...  ...  ...  ...             ...\n",
       "145  6.7  3.0  5.2  2.3  Iris-virginica\n",
       "146  6.3  2.5  5.0  1.9  Iris-virginica\n",
       "147  6.5  3.0  NaN  2.0  Iris-virginica\n",
       "148  6.2  3.4  5.4  2.3  Iris-virginica\n",
       "149  5.9  3.0  5.1  1.8  Iris-virginica\n",
       "\n",
       "[150 rows x 5 columns]>"
      ]
     },
     "execution_count": 7,
     "metadata": {},
     "output_type": "execute_result"
    }
   ],
   "source": [
    "ir_data.info"
   ]
  },
  {
   "cell_type": "code",
   "execution_count": 8,
   "id": "f27c8942",
   "metadata": {},
   "outputs": [
    {
     "data": {
      "text/plain": [
       "SL                7\n",
       "SW                6\n",
       "PL                6\n",
       "PW                0\n",
       "Classification    0\n",
       "dtype: int64"
      ]
     },
     "execution_count": 8,
     "metadata": {},
     "output_type": "execute_result"
    }
   ],
   "source": [
    "ir_data.isna().sum()"
   ]
  },
  {
   "cell_type": "code",
   "execution_count": 15,
   "id": "fc2990e3",
   "metadata": {},
   "outputs": [
    {
     "data": {
      "text/plain": [
       "(150, 5)"
      ]
     },
     "execution_count": 15,
     "metadata": {},
     "output_type": "execute_result"
    }
   ],
   "source": [
    "ir_data.shape"
   ]
  },
  {
   "cell_type": "code",
   "execution_count": 17,
   "id": "791d61f6",
   "metadata": {},
   "outputs": [
    {
     "data": {
      "text/plain": [
       "3.0    0.180556\n",
       "2.8    0.097222\n",
       "3.2    0.090278\n",
       "3.1    0.083333\n",
       "3.4    0.083333\n",
       "2.9    0.069444\n",
       "2.7    0.062500\n",
       "3.8    0.041667\n",
       "2.5    0.041667\n",
       "2.6    0.034722\n",
       "3.3    0.034722\n",
       "2.3    0.027778\n",
       "3.5    0.027778\n",
       "2.2    0.020833\n",
       "2.4    0.020833\n",
       "3.6    0.020833\n",
       "3.9    0.013889\n",
       "3.7    0.013889\n",
       "4.4    0.006944\n",
       "2.0    0.006944\n",
       "4.0    0.006944\n",
       "4.2    0.006944\n",
       "4.1    0.006944\n",
       "Name: SW, dtype: float64"
      ]
     },
     "execution_count": 17,
     "metadata": {},
     "output_type": "execute_result"
    }
   ],
   "source": [
    "ir_data['SW'].value_counts(normalize=True)"
   ]
  },
  {
   "cell_type": "code",
   "execution_count": 18,
   "id": "645093ec",
   "metadata": {},
   "outputs": [
    {
     "data": {
      "text/plain": [
       "Iris-versicolor    0.333333\n",
       "Iris-setosa        0.333333\n",
       "Iris-virginica     0.333333\n",
       "Name: Classification, dtype: float64"
      ]
     },
     "execution_count": 18,
     "metadata": {},
     "output_type": "execute_result"
    }
   ],
   "source": [
    "ir_data['Classification'].value_counts(normalize=True)"
   ]
  },
  {
   "cell_type": "markdown",
   "id": "6f1de60c",
   "metadata": {},
   "source": [
    "# Null value arrangments"
   ]
  },
  {
   "cell_type": "code",
   "execution_count": 19,
   "id": "559535e1",
   "metadata": {},
   "outputs": [],
   "source": [
    "for item in ['SL','SW','PL']:\n",
    "    ir_data.fillna(ir_data[item].median(),inplace=True)"
   ]
  },
  {
   "cell_type": "code",
   "execution_count": 20,
   "id": "9f450539",
   "metadata": {},
   "outputs": [
    {
     "data": {
      "text/plain": [
       "Index(['SL', 'SW', 'PL', 'PW', 'Classification'], dtype='object')"
      ]
     },
     "execution_count": 20,
     "metadata": {},
     "output_type": "execute_result"
    }
   ],
   "source": [
    "ir_data.columns"
   ]
  },
  {
   "cell_type": "markdown",
   "id": "2ae8a69c",
   "metadata": {},
   "source": [
    "# outlier checking"
   ]
  },
  {
   "cell_type": "code",
   "execution_count": 21,
   "id": "63c74dd8",
   "metadata": {},
   "outputs": [
    {
     "data": {
      "text/plain": [
       "<AxesSubplot:ylabel='SL'>"
      ]
     },
     "execution_count": 21,
     "metadata": {},
     "output_type": "execute_result"
    },
    {
     "data": {
      "image/png": "[encoded data removed]",
      "text/plain": [
       "<Figure size 432x288 with 1 Axes>"
      ]
     },
     "metadata": {
      "needs_background": "light"
     },
     "output_type": "display_data"
    }
   ],
   "source": [
    "sns.boxplot(y='SL',data=ir_data)"
   ]
  },
  {
   "cell_type": "code",
   "execution_count": 22,
   "id": "336b7ab2",
   "metadata": {},
   "outputs": [
    {
     "data": {
      "text/plain": [
       "<AxesSubplot:ylabel='SW'>"
      ]
     },
     "execution_count": 22,
     "metadata": {},
     "output_type": "execute_result"
    },
    {
     "data": {
      "image/png": "[encoded data removed]",
      "text/plain": [
       "<Figure size 432x288 with 1 Axes>"
      ]
     },
     "metadata": {
      "needs_background": "light"
     },
     "output_type": "display_data"
    }
   ],
   "source": [
    "sns.boxplot(y='SW',data=ir_data)"
   ]
  },
  {
   "cell_type": "markdown",
   "id": "17f4bc9f",
   "metadata": {},
   "source": [
    "# removing the outlier using IQR"
   ]
  },
  {
   "cell_type": "code",
   "execution_count": 23,
   "id": "3d0e7a5e",
   "metadata": {},
   "outputs": [],
   "source": [
    "\n",
    "q1 = np.percentile(ir_data['SW'],25,interpolation='midpoint')\n",
    "q2 = np.percentile(ir_data['SW'],50,interpolation='midpoint')\n",
    "q3 = np.percentile(ir_data['SW'],75,interpolation='midpoint')"
   ]
  },
  {
   "cell_type": "code",
   "execution_count": 24,
   "id": "c0176512",
   "metadata": {},
   "outputs": [],
   "source": [
    "#Calculation\n",
    "IQR = q3-q1"
   ]
  },
  {
   "cell_type": "code",
   "execution_count": 25,
   "id": "32b275c1",
   "metadata": {},
   "outputs": [],
   "source": [
    "upp_lim = q3 + 1.5*IQR\n",
    "low_lim = q1 - 1.5*IQR"
   ]
  },
  {
   "cell_type": "code",
   "execution_count": 27,
   "id": "1ae16c69",
   "metadata": {},
   "outputs": [],
   "source": [
    "filtr = (ir_data['SW']> upp_lim) & (ir_data['SW']> low_lim)"
   ]
  },
  {
   "cell_type": "code",
   "execution_count": 29,
   "id": "18a4f4cb",
   "metadata": {},
   "outputs": [],
   "source": [
    "ir_data.drop([10, 15, 27, 43, 72, 98, 124],inplace=True)"
   ]
  },
  {
   "cell_type": "code",
   "execution_count": 30,
   "id": "add858bd",
   "metadata": {},
   "outputs": [
    {
     "data": {
      "text/plain": [
       "<AxesSubplot:ylabel='SW'>"
      ]
     },
     "execution_count": 30,
     "metadata": {},
     "output_type": "execute_result"
    },
    {
     "data": {
      "image/png": "[encoded data removed]",
      "text/plain": [
       "<Figure size 432x288 with 1 Axes>"
      ]
     },
     "metadata": {
      "needs_background": "light"
     },
     "output_type": "display_data"
    }
   ],
   "source": [
    "sns.boxplot(y='SW',data=ir_data)"
   ]
  },
  {
   "cell_type": "code",
   "execution_count": 31,
   "id": "37e2aad4",
   "metadata": {},
   "outputs": [
    {
     "data": {
      "text/plain": [
       "<AxesSubplot:ylabel='PL'>"
      ]
     },
     "execution_count": 31,
     "metadata": {},
     "output_type": "execute_result"
    },
    {
     "data": {
      "image/png": "[encoded data removed]",
      "text/plain": [
       "<Figure size 432x288 with 1 Axes>"
      ]
     },
     "metadata": {
      "needs_background": "light"
     },
     "output_type": "display_data"
    }
   ],
   "source": [
    "sns.boxplot(y='PL',data=ir_data)"
   ]
  },
  {
   "cell_type": "code",
   "execution_count": 32,
   "id": "0df049d8",
   "metadata": {},
   "outputs": [
    {
     "data": {
      "text/plain": [
       "<AxesSubplot:ylabel='PW'>"
      ]
     },
     "execution_count": 32,
     "metadata": {},
     "output_type": "execute_result"
    },
    {
     "data": {
      "image/png": "[encoded data removed]",
      "text/plain": [
       "<Figure size 432x288 with 1 Axes>"
      ]
     },
     "metadata": {
      "needs_background": "light"
     },
     "output_type": "display_data"
    }
   ],
   "source": [
    "sns.boxplot(y='PW',data=ir_data)"
   ]
  },
  {
   "cell_type": "markdown",
   "id": "35eccb34",
   "metadata": {},
   "source": [
    "# converting the classifications to numeric values"
   ]
  },
  {
   "cell_type": "code",
   "execution_count": 34,
   "id": "79993fb7",
   "metadata": {},
   "outputs": [],
   "source": [
    "from sklearn.preprocessing import LabelEncoder\n",
    "le = LabelEncoder()\n",
    "ir_data.Classification =le.fit_transform(ir_data.Classification)"
   ]
  },
  {
   "cell_type": "code",
   "execution_count": 36,
   "id": "4f44481b",
   "metadata": {},
   "outputs": [
    {
     "data": {
      "text/html": [
       "<div>\n",
       "<style scoped>\n",
       "    .dataframe tbody tr th:only-of-type {\n",
       "        vertical-align: middle;\n",
       "    }\n",
       "\n",
       "    .dataframe tbody tr th {\n",
       "        vertical-align: top;\n",
       "    }\n",
       "\n",
       "    .dataframe thead th {\n",
       "        text-align: right;\n",
       "    }\n",
       "</style>\n",
       "<table border=\"1\" class=\"dataframe\">\n",
       "  <thead>\n",
       "    <tr style=\"text-align: right;\">\n",
       "      <th></th>\n",
       "      <th>SL</th>\n",
       "      <th>SW</th>\n",
       "      <th>PL</th>\n",
       "      <th>PW</th>\n",
       "      <th>Classification</th>\n",
       "    </tr>\n",
       "  </thead>\n",
       "  <tbody>\n",
       "    <tr>\n",
       "      <th>0</th>\n",
       "      <td>5.1</td>\n",
       "      <td>3.5</td>\n",
       "      <td>1.4</td>\n",
       "      <td>0.2</td>\n",
       "      <td>0</td>\n",
       "    </tr>\n",
       "    <tr>\n",
       "      <th>1</th>\n",
       "      <td>4.9</td>\n",
       "      <td>3.0</td>\n",
       "      <td>1.4</td>\n",
       "      <td>0.2</td>\n",
       "      <td>0</td>\n",
       "    </tr>\n",
       "    <tr>\n",
       "      <th>2</th>\n",
       "      <td>5.8</td>\n",
       "      <td>3.2</td>\n",
       "      <td>1.3</td>\n",
       "      <td>0.2</td>\n",
       "      <td>0</td>\n",
       "    </tr>\n",
       "    <tr>\n",
       "      <th>3</th>\n",
       "      <td>4.6</td>\n",
       "      <td>3.1</td>\n",
       "      <td>1.5</td>\n",
       "      <td>0.2</td>\n",
       "      <td>0</td>\n",
       "    </tr>\n",
       "    <tr>\n",
       "      <th>4</th>\n",
       "      <td>5.0</td>\n",
       "      <td>3.6</td>\n",
       "      <td>1.4</td>\n",
       "      <td>0.2</td>\n",
       "      <td>0</td>\n",
       "    </tr>\n",
       "    <tr>\n",
       "      <th>5</th>\n",
       "      <td>5.4</td>\n",
       "      <td>3.9</td>\n",
       "      <td>1.7</td>\n",
       "      <td>0.4</td>\n",
       "      <td>0</td>\n",
       "    </tr>\n",
       "    <tr>\n",
       "      <th>6</th>\n",
       "      <td>4.6</td>\n",
       "      <td>3.4</td>\n",
       "      <td>1.4</td>\n",
       "      <td>0.3</td>\n",
       "      <td>0</td>\n",
       "    </tr>\n",
       "    <tr>\n",
       "      <th>7</th>\n",
       "      <td>5.0</td>\n",
       "      <td>3.4</td>\n",
       "      <td>1.5</td>\n",
       "      <td>0.2</td>\n",
       "      <td>0</td>\n",
       "    </tr>\n",
       "    <tr>\n",
       "      <th>8</th>\n",
       "      <td>4.4</td>\n",
       "      <td>2.9</td>\n",
       "      <td>1.4</td>\n",
       "      <td>0.2</td>\n",
       "      <td>0</td>\n",
       "    </tr>\n",
       "    <tr>\n",
       "      <th>9</th>\n",
       "      <td>4.9</td>\n",
       "      <td>3.1</td>\n",
       "      <td>1.5</td>\n",
       "      <td>0.1</td>\n",
       "      <td>0</td>\n",
       "    </tr>\n",
       "  </tbody>\n",
       "</table>\n",
       "</div>"
      ],
      "text/plain": [
       "    SL   SW   PL   PW  Classification\n",
       "0  5.1  3.5  1.4  0.2               0\n",
       "1  4.9  3.0  1.4  0.2               0\n",
       "2  5.8  3.2  1.3  0.2               0\n",
       "3  4.6  3.1  1.5  0.2               0\n",
       "4  5.0  3.6  1.4  0.2               0\n",
       "5  5.4  3.9  1.7  0.4               0\n",
       "6  4.6  3.4  1.4  0.3               0\n",
       "7  5.0  3.4  1.5  0.2               0\n",
       "8  4.4  2.9  1.4  0.2               0\n",
       "9  4.9  3.1  1.5  0.1               0"
      ]
     },
     "execution_count": 36,
     "metadata": {},
     "output_type": "execute_result"
    }
   ],
   "source": [
    "ir_data.head(10)"
   ]
  },
  {
   "cell_type": "markdown",
   "id": "8cf9e0ba",
   "metadata": {},
   "source": [
    "# splitting the data - features and target"
   ]
  },
  {
   "cell_type": "code",
   "execution_count": 37,
   "id": "d832fb11",
   "metadata": {},
   "outputs": [],
   "source": [
    "x = ir_data.drop(columns=['Classification'])\n"
   ]
  },
  {
   "cell_type": "code",
   "execution_count": 38,
   "id": "80c536cc",
   "metadata": {},
   "outputs": [
    {
     "data": {
      "text/html": [
       "<div>\n",
       "<style scoped>\n",
       "    .dataframe tbody tr th:only-of-type {\n",
       "        vertical-align: middle;\n",
       "    }\n",
       "\n",
       "    .dataframe tbody tr th {\n",
       "        vertical-align: top;\n",
       "    }\n",
       "\n",
       "    .dataframe thead th {\n",
       "        text-align: right;\n",
       "    }\n",
       "</style>\n",
       "<table border=\"1\" class=\"dataframe\">\n",
       "  <thead>\n",
       "    <tr style=\"text-align: right;\">\n",
       "      <th></th>\n",
       "      <th>SL</th>\n",
       "      <th>SW</th>\n",
       "      <th>PL</th>\n",
       "      <th>PW</th>\n",
       "    </tr>\n",
       "  </thead>\n",
       "  <tbody>\n",
       "    <tr>\n",
       "      <th>0</th>\n",
       "      <td>5.1</td>\n",
       "      <td>3.5</td>\n",
       "      <td>1.4</td>\n",
       "      <td>0.2</td>\n",
       "    </tr>\n",
       "    <tr>\n",
       "      <th>1</th>\n",
       "      <td>4.9</td>\n",
       "      <td>3.0</td>\n",
       "      <td>1.4</td>\n",
       "      <td>0.2</td>\n",
       "    </tr>\n",
       "    <tr>\n",
       "      <th>2</th>\n",
       "      <td>5.8</td>\n",
       "      <td>3.2</td>\n",
       "      <td>1.3</td>\n",
       "      <td>0.2</td>\n",
       "    </tr>\n",
       "    <tr>\n",
       "      <th>3</th>\n",
       "      <td>4.6</td>\n",
       "      <td>3.1</td>\n",
       "      <td>1.5</td>\n",
       "      <td>0.2</td>\n",
       "    </tr>\n",
       "    <tr>\n",
       "      <th>4</th>\n",
       "      <td>5.0</td>\n",
       "      <td>3.6</td>\n",
       "      <td>1.4</td>\n",
       "      <td>0.2</td>\n",
       "    </tr>\n",
       "    <tr>\n",
       "      <th>...</th>\n",
       "      <td>...</td>\n",
       "      <td>...</td>\n",
       "      <td>...</td>\n",
       "      <td>...</td>\n",
       "    </tr>\n",
       "    <tr>\n",
       "      <th>145</th>\n",
       "      <td>6.7</td>\n",
       "      <td>3.0</td>\n",
       "      <td>5.2</td>\n",
       "      <td>2.3</td>\n",
       "    </tr>\n",
       "    <tr>\n",
       "      <th>146</th>\n",
       "      <td>6.3</td>\n",
       "      <td>2.5</td>\n",
       "      <td>5.0</td>\n",
       "      <td>1.9</td>\n",
       "    </tr>\n",
       "    <tr>\n",
       "      <th>147</th>\n",
       "      <td>6.5</td>\n",
       "      <td>3.0</td>\n",
       "      <td>5.8</td>\n",
       "      <td>2.0</td>\n",
       "    </tr>\n",
       "    <tr>\n",
       "      <th>148</th>\n",
       "      <td>6.2</td>\n",
       "      <td>3.4</td>\n",
       "      <td>5.4</td>\n",
       "      <td>2.3</td>\n",
       "    </tr>\n",
       "    <tr>\n",
       "      <th>149</th>\n",
       "      <td>5.9</td>\n",
       "      <td>3.0</td>\n",
       "      <td>5.1</td>\n",
       "      <td>1.8</td>\n",
       "    </tr>\n",
       "  </tbody>\n",
       "</table>\n",
       "<p>143 rows × 4 columns</p>\n",
       "</div>"
      ],
      "text/plain": [
       "      SL   SW   PL   PW\n",
       "0    5.1  3.5  1.4  0.2\n",
       "1    4.9  3.0  1.4  0.2\n",
       "2    5.8  3.2  1.3  0.2\n",
       "3    4.6  3.1  1.5  0.2\n",
       "4    5.0  3.6  1.4  0.2\n",
       "..   ...  ...  ...  ...\n",
       "145  6.7  3.0  5.2  2.3\n",
       "146  6.3  2.5  5.0  1.9\n",
       "147  6.5  3.0  5.8  2.0\n",
       "148  6.2  3.4  5.4  2.3\n",
       "149  5.9  3.0  5.1  1.8\n",
       "\n",
       "[143 rows x 4 columns]"
      ]
     },
     "execution_count": 38,
     "metadata": {},
     "output_type": "execute_result"
    }
   ],
   "source": [
    "x"
   ]
  },
  {
   "cell_type": "code",
   "execution_count": 39,
   "id": "f05bec9a",
   "metadata": {},
   "outputs": [],
   "source": [
    "y = ir_data['Classification']"
   ]
  },
  {
   "cell_type": "code",
   "execution_count": 41,
   "id": "02b415a0",
   "metadata": {},
   "outputs": [
    {
     "data": {
      "text/plain": [
       "0      0\n",
       "1      0\n",
       "2      0\n",
       "3      0\n",
       "4      0\n",
       "      ..\n",
       "145    2\n",
       "146    2\n",
       "147    2\n",
       "148    2\n",
       "149    2\n",
       "Name: Classification, Length: 143, dtype: int32"
      ]
     },
     "execution_count": 41,
     "metadata": {},
     "output_type": "execute_result"
    }
   ],
   "source": [
    "y"
   ]
  },
  {
   "cell_type": "markdown",
   "id": "b4a562b3",
   "metadata": {},
   "source": [
    "# Data scaling"
   ]
  },
  {
   "cell_type": "code",
   "execution_count": 42,
   "id": "0be4e902",
   "metadata": {},
   "outputs": [
    {
     "data": {
      "text/html": [
       "<div>\n",
       "<style scoped>\n",
       "    .dataframe tbody tr th:only-of-type {\n",
       "        vertical-align: middle;\n",
       "    }\n",
       "\n",
       "    .dataframe tbody tr th {\n",
       "        vertical-align: top;\n",
       "    }\n",
       "\n",
       "    .dataframe thead th {\n",
       "        text-align: right;\n",
       "    }\n",
       "</style>\n",
       "<table border=\"1\" class=\"dataframe\">\n",
       "  <thead>\n",
       "    <tr style=\"text-align: right;\">\n",
       "      <th></th>\n",
       "      <th>SL</th>\n",
       "      <th>SW</th>\n",
       "      <th>PL</th>\n",
       "      <th>PW</th>\n",
       "    </tr>\n",
       "  </thead>\n",
       "  <tbody>\n",
       "    <tr>\n",
       "      <th>count</th>\n",
       "      <td>143.000000</td>\n",
       "      <td>143.00000</td>\n",
       "      <td>143.000000</td>\n",
       "      <td>143.000000</td>\n",
       "    </tr>\n",
       "    <tr>\n",
       "      <th>mean</th>\n",
       "      <td>5.864336</td>\n",
       "      <td>3.03986</td>\n",
       "      <td>3.888112</td>\n",
       "      <td>1.214685</td>\n",
       "    </tr>\n",
       "    <tr>\n",
       "      <th>std</th>\n",
       "      <td>0.815899</td>\n",
       "      <td>0.41692</td>\n",
       "      <td>1.761501</td>\n",
       "      <td>0.763789</td>\n",
       "    </tr>\n",
       "    <tr>\n",
       "      <th>min</th>\n",
       "      <td>4.300000</td>\n",
       "      <td>2.00000</td>\n",
       "      <td>1.000000</td>\n",
       "      <td>0.100000</td>\n",
       "    </tr>\n",
       "    <tr>\n",
       "      <th>25%</th>\n",
       "      <td>5.200000</td>\n",
       "      <td>2.80000</td>\n",
       "      <td>1.600000</td>\n",
       "      <td>0.300000</td>\n",
       "    </tr>\n",
       "    <tr>\n",
       "      <th>50%</th>\n",
       "      <td>5.800000</td>\n",
       "      <td>3.00000</td>\n",
       "      <td>4.500000</td>\n",
       "      <td>1.300000</td>\n",
       "    </tr>\n",
       "    <tr>\n",
       "      <th>75%</th>\n",
       "      <td>6.400000</td>\n",
       "      <td>3.30000</td>\n",
       "      <td>5.250000</td>\n",
       "      <td>1.800000</td>\n",
       "    </tr>\n",
       "    <tr>\n",
       "      <th>max</th>\n",
       "      <td>7.900000</td>\n",
       "      <td>4.20000</td>\n",
       "      <td>6.900000</td>\n",
       "      <td>2.500000</td>\n",
       "    </tr>\n",
       "  </tbody>\n",
       "</table>\n",
       "</div>"
      ],
      "text/plain": [
       "               SL         SW          PL          PW\n",
       "count  143.000000  143.00000  143.000000  143.000000\n",
       "mean     5.864336    3.03986    3.888112    1.214685\n",
       "std      0.815899    0.41692    1.761501    0.763789\n",
       "min      4.300000    2.00000    1.000000    0.100000\n",
       "25%      5.200000    2.80000    1.600000    0.300000\n",
       "50%      5.800000    3.00000    4.500000    1.300000\n",
       "75%      6.400000    3.30000    5.250000    1.800000\n",
       "max      7.900000    4.20000    6.900000    2.500000"
      ]
     },
     "execution_count": 42,
     "metadata": {},
     "output_type": "execute_result"
    }
   ],
   "source": [
    "x.describe()"
   ]
  },
  {
   "cell_type": "code",
   "execution_count": 43,
   "id": "0d05ee95",
   "metadata": {},
   "outputs": [],
   "source": [
    "from sklearn import preprocessing\n",
    "standardization = preprocessing.StandardScaler()"
   ]
  },
  {
   "cell_type": "code",
   "execution_count": 44,
   "id": "7c17fd68",
   "metadata": {},
   "outputs": [
    {
     "data": {
      "text/html": [
       "<div>\n",
       "<style scoped>\n",
       "    .dataframe tbody tr th:only-of-type {\n",
       "        vertical-align: middle;\n",
       "    }\n",
       "\n",
       "    .dataframe tbody tr th {\n",
       "        vertical-align: top;\n",
       "    }\n",
       "\n",
       "    .dataframe thead th {\n",
       "        text-align: right;\n",
       "    }\n",
       "</style>\n",
       "<table border=\"1\" class=\"dataframe\">\n",
       "  <thead>\n",
       "    <tr style=\"text-align: right;\">\n",
       "      <th></th>\n",
       "      <th>0</th>\n",
       "      <th>1</th>\n",
       "      <th>2</th>\n",
       "      <th>3</th>\n",
       "    </tr>\n",
       "  </thead>\n",
       "  <tbody>\n",
       "    <tr>\n",
       "      <th>count</th>\n",
       "      <td>1.430000e+02</td>\n",
       "      <td>1.430000e+02</td>\n",
       "      <td>1.430000e+02</td>\n",
       "      <td>1.430000e+02</td>\n",
       "    </tr>\n",
       "    <tr>\n",
       "      <th>mean</th>\n",
       "      <td>1.182669e-15</td>\n",
       "      <td>-1.272292e-15</td>\n",
       "      <td>9.006005e-17</td>\n",
       "      <td>1.832256e-16</td>\n",
       "    </tr>\n",
       "    <tr>\n",
       "      <th>std</th>\n",
       "      <td>1.003515e+00</td>\n",
       "      <td>1.003515e+00</td>\n",
       "      <td>1.003515e+00</td>\n",
       "      <td>1.003515e+00</td>\n",
       "    </tr>\n",
       "    <tr>\n",
       "      <th>min</th>\n",
       "      <td>-1.924055e+00</td>\n",
       "      <td>-2.502913e+00</td>\n",
       "      <td>-1.645337e+00</td>\n",
       "      <td>-1.464544e+00</td>\n",
       "    </tr>\n",
       "    <tr>\n",
       "      <th>25%</th>\n",
       "      <td>-8.170998e-01</td>\n",
       "      <td>-5.773364e-01</td>\n",
       "      <td>-1.303522e+00</td>\n",
       "      <td>-1.201771e+00</td>\n",
       "    </tr>\n",
       "    <tr>\n",
       "      <th>50%</th>\n",
       "      <td>-7.912966e-02</td>\n",
       "      <td>-9.594219e-02</td>\n",
       "      <td>3.485884e-01</td>\n",
       "      <td>1.120918e-01</td>\n",
       "    </tr>\n",
       "    <tr>\n",
       "      <th>75%</th>\n",
       "      <td>6.588405e-01</td>\n",
       "      <td>6.261491e-01</td>\n",
       "      <td>7.758582e-01</td>\n",
       "      <td>7.690235e-01</td>\n",
       "    </tr>\n",
       "    <tr>\n",
       "      <th>max</th>\n",
       "      <td>2.503766e+00</td>\n",
       "      <td>2.792423e+00</td>\n",
       "      <td>1.715852e+00</td>\n",
       "      <td>1.688728e+00</td>\n",
       "    </tr>\n",
       "  </tbody>\n",
       "</table>\n",
       "</div>"
      ],
      "text/plain": [
       "                  0             1             2             3\n",
       "count  1.430000e+02  1.430000e+02  1.430000e+02  1.430000e+02\n",
       "mean   1.182669e-15 -1.272292e-15  9.006005e-17  1.832256e-16\n",
       "std    1.003515e+00  1.003515e+00  1.003515e+00  1.003515e+00\n",
       "min   -1.924055e+00 -2.502913e+00 -1.645337e+00 -1.464544e+00\n",
       "25%   -8.170998e-01 -5.773364e-01 -1.303522e+00 -1.201771e+00\n",
       "50%   -7.912966e-02 -9.594219e-02  3.485884e-01  1.120918e-01\n",
       "75%    6.588405e-01  6.261491e-01  7.758582e-01  7.690235e-01\n",
       "max    2.503766e+00  2.792423e+00  1.715852e+00  1.688728e+00"
      ]
     },
     "execution_count": 44,
     "metadata": {},
     "output_type": "execute_result"
    }
   ],
   "source": [
    "x = standardization.fit_transform(x)\n",
    "x = pd.DataFrame(x)\n",
    "x.describe()"
   ]
  },
  {
   "cell_type": "markdown",
   "id": "92383875",
   "metadata": {},
   "source": [
    "# splitting the data - train and testset"
   ]
  },
  {
   "cell_type": "code",
   "execution_count": 45,
   "id": "8a6f9689",
   "metadata": {},
   "outputs": [],
   "source": [
    "from sklearn.model_selection import train_test_split\n",
    "x_train, x_test, y_train, y_test = train_test_split(x,y,random_state=42,test_size=0.2)"
   ]
  },
  {
   "cell_type": "code",
   "execution_count": 47,
   "id": "1548d461",
   "metadata": {},
   "outputs": [
    {
     "data": {
      "text/plain": [
       "(29, 4)"
      ]
     },
     "execution_count": 47,
     "metadata": {},
     "output_type": "execute_result"
    }
   ],
   "source": [
    "\n",
    "x_test.shape"
   ]
  },
  {
   "cell_type": "code",
   "execution_count": 48,
   "id": "2c2674ac",
   "metadata": {},
   "outputs": [
    {
     "data": {
      "text/plain": [
       "(114, 4)"
      ]
     },
     "execution_count": 48,
     "metadata": {},
     "output_type": "execute_result"
    }
   ],
   "source": [
    "x_train.shape"
   ]
  },
  {
   "cell_type": "markdown",
   "id": "54f77a00",
   "metadata": {},
   "source": [
    "# model buildings"
   ]
  },
  {
   "cell_type": "markdown",
   "id": "4cd098a8",
   "metadata": {},
   "source": [
    "# Logistic Regression"
   ]
  },
  {
   "cell_type": "code",
   "execution_count": 49,
   "id": "d9bd85d9",
   "metadata": {},
   "outputs": [
    {
     "data": {
      "text/plain": [
       "LogisticRegression()"
      ]
     },
     "execution_count": 49,
     "metadata": {},
     "output_type": "execute_result"
    }
   ],
   "source": [
    "from sklearn.linear_model import LogisticRegression\n",
    "logreg = LogisticRegression()\n",
    "logreg.fit(x_train,y_train)"
   ]
  },
  {
   "cell_type": "code",
   "execution_count": 50,
   "id": "2292d9e5",
   "metadata": {},
   "outputs": [],
   "source": [
    "y_pred = logreg.predict(x_test)"
   ]
  },
  {
   "cell_type": "code",
   "execution_count": 51,
   "id": "75aeebcc",
   "metadata": {},
   "outputs": [
    {
     "name": "stdout",
     "output_type": "stream",
     "text": [
      "ACCURACY:  0.9310344827586207\n",
      "PRECISION:  0.9310344827586207\n",
      "RECALL:  0.9310344827586207\n",
      "F1_score 0.9310344827586207\n"
     ]
    }
   ],
   "source": [
    "from sklearn.metrics import confusion_matrix,accuracy_score,precision_score,recall_score,f1_score,log_loss\n",
    "print(\"ACCURACY: \",accuracy_score(y_test,y_pred))\n",
    "print(\"PRECISION: \",precision_score(y_test,y_pred,average='micro'))\n",
    "print(\"RECALL: \",recall_score(y_test,y_pred,average='micro'))\n",
    "print(\"F1_score\",f1_score(y_test,y_pred,average='micro'))"
   ]
  },
  {
   "cell_type": "markdown",
   "id": "46067c39",
   "metadata": {},
   "source": [
    "# K-N-N"
   ]
  },
  {
   "cell_type": "code",
   "execution_count": 52,
   "id": "d46df341",
   "metadata": {},
   "outputs": [],
   "source": [
    "from sklearn.neighbors import KNeighborsClassifier\n",
    "acc_values = []\n",
    "neighbors = np.arange(3,15)\n",
    "\n",
    "for k in neighbors:\n",
    "    knn_classifier = KNeighborsClassifier(n_neighbors=k)\n",
    "    knn_classifier.fit(x_train,y_train)\n",
    "    y_pred = knn_classifier.predict(x_test)\n",
    "    acc = accuracy_score(y_test,y_pred)\n",
    "    acc_values.append(acc)"
   ]
  },
  {
   "cell_type": "code",
   "execution_count": 53,
   "id": "be9c63b4",
   "metadata": {},
   "outputs": [
    {
     "data": {
      "text/plain": [
       "Text(0, 0.5, 'Accuracy')"
      ]
     },
     "execution_count": 53,
     "metadata": {},
     "output_type": "execute_result"
    },
    {
     "data": {
      "image/png": "[encoded data removed]",
      "text/plain": [
       "<Figure size 432x288 with 1 Axes>"
      ]
     },
     "metadata": {
      "needs_background": "light"
     },
     "output_type": "display_data"
    }
   ],
   "source": [
    "plt.plot(neighbors, acc_values)\n",
    "plt.xlabel('K Values')\n",
    "plt.ylabel('Accuracy')"
   ]
  },
  {
   "cell_type": "markdown",
   "id": "9d5ea013",
   "metadata": {},
   "source": [
    "assume the value is 5"
   ]
  },
  {
   "cell_type": "code",
   "execution_count": 54,
   "id": "c6fea138",
   "metadata": {},
   "outputs": [],
   "source": [
    "knn_classifier = KNeighborsClassifier(n_neighbors=5)\n",
    "knn_classifier.fit(x_train,y_train)\n",
    "y_pred = knn_classifier.predict(x_test)"
   ]
  },
  {
   "cell_type": "code",
   "execution_count": 55,
   "id": "d7d15837",
   "metadata": {},
   "outputs": [
    {
     "name": "stdout",
     "output_type": "stream",
     "text": [
      "ACCURACY:  0.9310344827586207\n",
      "PRECISION:  0.9310344827586207\n",
      "RECALL:  0.9310344827586207\n",
      "F1_score 0.9310344827586207\n"
     ]
    }
   ],
   "source": [
    "print(\"ACCURACY: \",accuracy_score(y_test,y_pred))\n",
    "print(\"PRECISION: \",precision_score(y_test,y_pred,average='micro'))\n",
    "print(\"RECALL: \",recall_score(y_test,y_pred,average='micro'))\n",
    "print(\"F1_score\",f1_score(y_test,y_pred,average='micro'))"
   ]
  },
  {
   "cell_type": "markdown",
   "id": "d360b51a",
   "metadata": {},
   "source": [
    "# Support Vector Machine"
   ]
  },
  {
   "cell_type": "code",
   "execution_count": 56,
   "id": "329c4a7c",
   "metadata": {},
   "outputs": [],
   "source": [
    "from sklearn.svm import SVC\n",
    "acc_values = []\n",
    "for item in ['linear','poly','rbf']:\n",
    "    svm_classifier = SVC(kernel=item)\n",
    "    svm_classifier.fit(x_train,y_train)\n",
    "    y_pred = svm_classifier.predict(x_test)\n",
    "    acc = accuracy_score(y_test,y_pred)\n",
    "    acc_values.append(acc)"
   ]
  },
  {
   "cell_type": "code",
   "execution_count": 57,
   "id": "f5fe14b0",
   "metadata": {},
   "outputs": [
    {
     "data": {
      "text/plain": [
       "[0.9655172413793104, 0.7931034482758621, 0.9655172413793104]"
      ]
     },
     "execution_count": 57,
     "metadata": {},
     "output_type": "execute_result"
    }
   ],
   "source": [
    "acc_values"
   ]
  },
  {
   "cell_type": "markdown",
   "id": "9843c25f",
   "metadata": {},
   "source": [
    "we can choose  linear or rbf kernel SVM since they are better than poly"
   ]
  },
  {
   "cell_type": "code",
   "execution_count": 58,
   "id": "ff78a6d9",
   "metadata": {},
   "outputs": [],
   "source": [
    "    svm_classifier = SVC(kernel='rbf')\n",
    "svm_classifier.fit(x_train,y_train)\n",
    "y_pred = svm_classifier.predict(x_test) "
   ]
  },
  {
   "cell_type": "code",
   "execution_count": 59,
   "id": "7e1b92bf",
   "metadata": {},
   "outputs": [
    {
     "name": "stdout",
     "output_type": "stream",
     "text": [
      "ACCURACY:  0.9655172413793104\n",
      "PRECISION:  0.9655172413793104\n",
      "RECALL:  0.9655172413793104\n",
      "F1_score 0.9655172413793104\n"
     ]
    }
   ],
   "source": [
    "print(\"ACCURACY: \",accuracy_score(y_test,y_pred))\n",
    "print(\"PRECISION: \",precision_score(y_test,y_pred,average='micro'))\n",
    "print(\"RECALL: \",recall_score(y_test,y_pred,average='micro'))\n",
    "print(\"F1_score\",f1_score(y_test,y_pred,average='micro'))"
   ]
  },
  {
   "cell_type": "markdown",
   "id": "36356f30",
   "metadata": {},
   "source": [
    "# decison tree"
   ]
  },
  {
   "cell_type": "code",
   "execution_count": 60,
   "id": "db14506d",
   "metadata": {},
   "outputs": [],
   "source": [
    "from sklearn.tree import DecisionTreeClassifier\n",
    "dt_classifier = DecisionTreeClassifier()\n",
    "dt_classifier.fit(x_train,y_train)\n",
    "y_pred = dt_classifier.predict(x_test)"
   ]
  },
  {
   "cell_type": "code",
   "execution_count": 61,
   "id": "3c8f1f86",
   "metadata": {},
   "outputs": [
    {
     "name": "stdout",
     "output_type": "stream",
     "text": [
      "ACCURACY:  0.8620689655172413\n",
      "PRECISION:  0.8620689655172413\n",
      "RECALL:  0.8620689655172413\n",
      "F1_score 0.8620689655172413\n"
     ]
    }
   ],
   "source": [
    "print(\"ACCURACY: \",accuracy_score(y_test,y_pred))\n",
    "print(\"PRECISION: \",precision_score(y_test,y_pred,average='micro'))\n",
    "print(\"RECALL: \",recall_score(y_test,y_pred,average='micro'))\n",
    "print(\"F1_score\",f1_score(y_test,y_pred,average='micro'))"
   ]
  },
  {
   "cell_type": "markdown",
   "id": "db8b82eb",
   "metadata": {},
   "source": [
    "# random forest"
   ]
  },
  {
   "cell_type": "code",
   "execution_count": 62,
   "id": "1cd91d81",
   "metadata": {},
   "outputs": [],
   "source": [
    "from sklearn.ensemble import RandomForestClassifier\n",
    "rf_classifier = RandomForestClassifier()\n",
    "rf_classifier.fit(x_train,y_train)\n",
    "y_pred = rf_classifier.predict(x_test)"
   ]
  },
  {
   "cell_type": "code",
   "execution_count": 63,
   "id": "1d60f590",
   "metadata": {},
   "outputs": [
    {
     "name": "stdout",
     "output_type": "stream",
     "text": [
      "ACCURACY:  0.8620689655172413\n",
      "PRECISION:  0.8620689655172413\n",
      "RECALL:  0.8620689655172413\n",
      "F1_score 0.8620689655172413\n"
     ]
    }
   ],
   "source": [
    "print(\"ACCURACY: \",accuracy_score(y_test,y_pred))\n",
    "print(\"PRECISION: \",precision_score(y_test,y_pred,average='micro'))\n",
    "print(\"RECALL: \",recall_score(y_test,y_pred,average='micro'))\n",
    "print(\"F1_score\",f1_score(y_test,y_pred,average='micro'))"
   ]
  },
  {
   "cell_type": "markdown",
   "id": "f6635547",
   "metadata": {},
   "source": [
    "# feature importance"
   ]
  },
  {
   "cell_type": "code",
   "execution_count": 65,
   "id": "7476b5a6",
   "metadata": {},
   "outputs": [
    {
     "data": {
      "text/html": [
       "<div>\n",
       "<style scoped>\n",
       "    .dataframe tbody tr th:only-of-type {\n",
       "        vertical-align: middle;\n",
       "    }\n",
       "\n",
       "    .dataframe tbody tr th {\n",
       "        vertical-align: top;\n",
       "    }\n",
       "\n",
       "    .dataframe thead th {\n",
       "        text-align: right;\n",
       "    }\n",
       "</style>\n",
       "<table border=\"1\" class=\"dataframe\">\n",
       "  <thead>\n",
       "    <tr style=\"text-align: right;\">\n",
       "      <th></th>\n",
       "      <th>0</th>\n",
       "      <th>1</th>\n",
       "      <th>2</th>\n",
       "      <th>3</th>\n",
       "    </tr>\n",
       "  </thead>\n",
       "  <tbody>\n",
       "    <tr>\n",
       "      <th>0</th>\n",
       "      <td>-0.940095</td>\n",
       "      <td>1.107543</td>\n",
       "      <td>-1.417460</td>\n",
       "      <td>-1.333158</td>\n",
       "    </tr>\n",
       "    <tr>\n",
       "      <th>1</th>\n",
       "      <td>-1.186085</td>\n",
       "      <td>-0.095942</td>\n",
       "      <td>-1.417460</td>\n",
       "      <td>-1.333158</td>\n",
       "    </tr>\n",
       "    <tr>\n",
       "      <th>2</th>\n",
       "      <td>-0.079130</td>\n",
       "      <td>0.385452</td>\n",
       "      <td>-1.474429</td>\n",
       "      <td>-1.333158</td>\n",
       "    </tr>\n",
       "    <tr>\n",
       "      <th>3</th>\n",
       "      <td>-1.555070</td>\n",
       "      <td>0.144755</td>\n",
       "      <td>-1.360491</td>\n",
       "      <td>-1.333158</td>\n",
       "    </tr>\n",
       "    <tr>\n",
       "      <th>4</th>\n",
       "      <td>-1.063090</td>\n",
       "      <td>1.348240</td>\n",
       "      <td>-1.417460</td>\n",
       "      <td>-1.333158</td>\n",
       "    </tr>\n",
       "    <tr>\n",
       "      <th>5</th>\n",
       "      <td>-0.571110</td>\n",
       "      <td>2.070332</td>\n",
       "      <td>-1.246552</td>\n",
       "      <td>-1.070385</td>\n",
       "    </tr>\n",
       "    <tr>\n",
       "      <th>6</th>\n",
       "      <td>-1.555070</td>\n",
       "      <td>0.866846</td>\n",
       "      <td>-1.417460</td>\n",
       "      <td>-1.201771</td>\n",
       "    </tr>\n",
       "    <tr>\n",
       "      <th>7</th>\n",
       "      <td>-1.063090</td>\n",
       "      <td>0.866846</td>\n",
       "      <td>-1.360491</td>\n",
       "      <td>-1.333158</td>\n",
       "    </tr>\n",
       "    <tr>\n",
       "      <th>8</th>\n",
       "      <td>-1.801060</td>\n",
       "      <td>-0.336639</td>\n",
       "      <td>-1.417460</td>\n",
       "      <td>-1.333158</td>\n",
       "    </tr>\n",
       "    <tr>\n",
       "      <th>9</th>\n",
       "      <td>-1.186085</td>\n",
       "      <td>0.144755</td>\n",
       "      <td>-1.360491</td>\n",
       "      <td>-1.464544</td>\n",
       "    </tr>\n",
       "  </tbody>\n",
       "</table>\n",
       "</div>"
      ],
      "text/plain": [
       "          0         1         2         3\n",
       "0 -0.940095  1.107543 -1.417460 -1.333158\n",
       "1 -1.186085 -0.095942 -1.417460 -1.333158\n",
       "2 -0.079130  0.385452 -1.474429 -1.333158\n",
       "3 -1.555070  0.144755 -1.360491 -1.333158\n",
       "4 -1.063090  1.348240 -1.417460 -1.333158\n",
       "5 -0.571110  2.070332 -1.246552 -1.070385\n",
       "6 -1.555070  0.866846 -1.417460 -1.201771\n",
       "7 -1.063090  0.866846 -1.360491 -1.333158\n",
       "8 -1.801060 -0.336639 -1.417460 -1.333158\n",
       "9 -1.186085  0.144755 -1.360491 -1.464544"
      ]
     },
     "execution_count": 65,
     "metadata": {},
     "output_type": "execute_result"
    }
   ],
   "source": [
    "x.head(10)"
   ]
  },
  {
   "cell_type": "code",
   "execution_count": 66,
   "id": "f6bea7db",
   "metadata": {},
   "outputs": [
    {
     "data": {
      "text/plain": [
       "3    56.444036\n",
       "2    32.065548\n",
       "0     9.622472\n",
       "1     1.867944\n",
       "dtype: float64"
      ]
     },
     "execution_count": 66,
     "metadata": {},
     "output_type": "execute_result"
    }
   ],
   "source": [
    "pd.Series(rf_classifier.feature_importances_, index=x.columns).sort_values(ascending=False)*100"
   ]
  },
  {
   "cell_type": "markdown",
   "id": "6d1bab82",
   "metadata": {},
   "source": [
    "# RESULT"
   ]
  },
  {
   "cell_type": "markdown",
   "id": "d8eb61a8",
   "metadata": {},
   "source": [
    "SVM GIVES THE BEST RESULT"
   ]
  },
  {
   "cell_type": "markdown",
   "id": "0c2b1f94",
   "metadata": {},
   "source": [
    "# SUMMARY"
   ]
  },
  {
   "cell_type": "markdown",
   "id": "fec435aa",
   "metadata": {},
   "source": [
    " The models tested on this dataset SVM has highest scores in accuracy,f1_score,recall and precision"
   ]
  },
  {
   "cell_type": "code",
   "execution_count": null,
   "id": "aea15291",
   "metadata": {},
   "outputs": [],
   "source": []
  }
 ],
 "metadata": {
  "kernelspec": {
   "display_name": "Python 3",
   "language": "python",
   "name": "python3"
  },
  "language_info": {
   "codemirror_mode": {
    "name": "ipython",
    "version": 3
   },
   "file_extension": ".py",
   "mimetype": "text/x-python",
   "name": "python",
   "nbconvert_exporter": "python",
   "pygments_lexer": "ipython3",
   "version": "3.8.8"
  }
 },
 "nbformat": 4,
 "nbformat_minor": 5
}
